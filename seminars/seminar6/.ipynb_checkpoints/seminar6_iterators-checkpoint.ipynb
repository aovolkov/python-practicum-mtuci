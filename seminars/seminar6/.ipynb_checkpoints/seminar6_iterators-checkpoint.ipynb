{
 "cells": [
  {
   "cell_type": "markdown",
   "metadata": {},
   "source": [
    "![alt text](seminar6_iter_and_best_practice/logo.png) "
   ]
  },
  {
   "cell_type": "markdown",
   "metadata": {},
   "source": [
    "# Итераторы, генераторы, декораторы"
   ]
  },
  {
   "cell_type": "markdown",
   "metadata": {},
   "source": [
    "Тема непростая, будем слегка жертвовать формализмом и точностью в пользу понятности, а существование некотрых вещей вообще проигнорируем. Те из вас, кто захотят больше деталей и чётких формулировок найдут их в избытке в документации и интернете."
   ]
  },
  {
   "cell_type": "markdown",
   "metadata": {},
   "source": [
    "# Итераторы"
   ]
  },
  {
   "cell_type": "markdown",
   "metadata": {},
   "source": [
    "Давайте вспомним цикл for, который мы прошли во второй лекции (основы питона 2), и еще раз на него посмотрим"
   ]
  },
  {
   "cell_type": "code",
   "execution_count": 1,
   "metadata": {},
   "outputs": [
    {
     "name": "stdout",
     "output_type": "stream",
     "text": [
      "0\n",
      "1\n",
      "2\n",
      "3\n",
      "4\n"
     ]
    }
   ],
   "source": [
    "for var in range(5):\n",
    "    print(var)"
   ]
  },
  {
   "cell_type": "code",
   "execution_count": 2,
   "metadata": {},
   "outputs": [
    {
     "name": "stdout",
     "output_type": "stream",
     "text": [
      "H\n",
      "e\n",
      "l\n",
      "l\n",
      "o\n",
      " \n",
      "w\n",
      "o\n",
      "r\n",
      "l\n",
      "d\n"
     ]
    }
   ],
   "source": [
    "for letter in 'Hello world':\n",
    "    print(letter)"
   ]
  },
  {
   "cell_type": "code",
   "execution_count": 3,
   "metadata": {},
   "outputs": [
    {
     "name": "stdout",
     "output_type": "stream",
     "text": [
      "Name\n",
      "Age\n",
      "Gender\n"
     ]
    }
   ],
   "source": [
    "for key in {'Name':'John', \n",
    "            'Age':15, \n",
    "            'Gender':'Male', \n",
    "           }:\n",
    "    print(key)"
   ]
  },
  {
   "cell_type": "code",
   "execution_count": 4,
   "metadata": {},
   "outputs": [
    {
     "name": "stdout",
     "output_type": "stream",
     "text": [
      "Today we have an outstanding topic!\n",
      "\n",
      "Iterators are amazing!!\n",
      "\n",
      "You gonna love it!!\n",
      "\n"
     ]
    }
   ],
   "source": [
    "for line in open('Python06-iterators_extra/motivation.txt', 'r'):\n",
    "    print(line)"
   ]
  },
  {
   "cell_type": "code",
   "execution_count": 5,
   "metadata": {},
   "outputs": [
    {
     "name": "stdout",
     "output_type": "stream",
     "text": [
      "0\n",
      "1\n",
      "2\n",
      "3\n",
      "4\n",
      "5\n"
     ]
    }
   ],
   "source": [
    "for element in [0,1,2,3,4,5]:\n",
    "    print (element)"
   ]
  },
  {
   "cell_type": "markdown",
   "metadata": {},
   "source": [
    "То есть мы что, можем идти циклом по любому объекту? А это вообще законно?\n",
    "\n",
    "Давайте разбираться, как мы помним из третьей лекции (ООП) - все объекты являются классами. Рассмотрим их методы"
   ]
  },
  {
   "cell_type": "code",
   "execution_count": 8,
   "metadata": {},
   "outputs": [
    {
     "data": {
      "text/plain": [
       "['__add__',\n",
       " '__class__',\n",
       " '__class_getitem__',\n",
       " '__contains__',\n",
       " '__delattr__',\n",
       " '__delitem__',\n",
       " '__dir__',\n",
       " '__doc__',\n",
       " '__eq__',\n",
       " '__format__',\n",
       " '__ge__',\n",
       " '__getattribute__',\n",
       " '__getitem__',\n",
       " '__gt__',\n",
       " '__hash__',\n",
       " '__iadd__',\n",
       " '__imul__',\n",
       " '__init__',\n",
       " '__init_subclass__',\n",
       " '__iter__',\n",
       " '__le__',\n",
       " '__len__',\n",
       " '__lt__',\n",
       " '__mul__',\n",
       " '__ne__',\n",
       " '__new__',\n",
       " '__reduce__',\n",
       " '__reduce_ex__',\n",
       " '__repr__',\n",
       " '__reversed__',\n",
       " '__rmul__',\n",
       " '__setattr__',\n",
       " '__setitem__',\n",
       " '__sizeof__',\n",
       " '__str__',\n",
       " '__subclasshook__',\n",
       " 'append',\n",
       " 'clear',\n",
       " 'copy',\n",
       " 'count',\n",
       " 'extend',\n",
       " 'index',\n",
       " 'insert',\n",
       " 'pop',\n",
       " 'remove',\n",
       " 'reverse',\n",
       " 'sort']"
      ]
     },
     "execution_count": 8,
     "metadata": {},
     "output_type": "execute_result"
    }
   ],
   "source": [
    "dir([1, 2])"
   ]
  },
  {
   "cell_type": "code",
   "execution_count": 7,
   "metadata": {},
   "outputs": [
    {
     "data": {
      "text/plain": [
       "['__class__',\n",
       " '__class_getitem__',\n",
       " '__contains__',\n",
       " '__delattr__',\n",
       " '__delitem__',\n",
       " '__dir__',\n",
       " '__doc__',\n",
       " '__eq__',\n",
       " '__format__',\n",
       " '__ge__',\n",
       " '__getattribute__',\n",
       " '__getitem__',\n",
       " '__gt__',\n",
       " '__hash__',\n",
       " '__init__',\n",
       " '__init_subclass__',\n",
       " '__ior__',\n",
       " '__iter__',\n",
       " '__le__',\n",
       " '__len__',\n",
       " '__lt__',\n",
       " '__ne__',\n",
       " '__new__',\n",
       " '__or__',\n",
       " '__reduce__',\n",
       " '__reduce_ex__',\n",
       " '__repr__',\n",
       " '__reversed__',\n",
       " '__ror__',\n",
       " '__setattr__',\n",
       " '__setitem__',\n",
       " '__sizeof__',\n",
       " '__str__',\n",
       " '__subclasshook__',\n",
       " 'clear',\n",
       " 'copy',\n",
       " 'fromkeys',\n",
       " 'get',\n",
       " 'items',\n",
       " 'keys',\n",
       " 'pop',\n",
       " 'popitem',\n",
       " 'setdefault',\n",
       " 'update',\n",
       " 'values']"
      ]
     },
     "execution_count": 7,
     "metadata": {},
     "output_type": "execute_result"
    }
   ],
   "source": [
    "dir({'Name':'John', \n",
    "     'Age':15, \n",
    "     'Gender':'Male'})"
   ]
  },
  {
   "cell_type": "markdown",
   "metadata": {},
   "source": [
    "Метод  *\\_\\_iter*\\_\\_  возвращает итератор для заданного объекта. ![alt text](seminar6_iter_and_best_practice/iterator.jpg) \n",
    "\n",
    "Итератор - это такой объект, который имплементирует протокол итерирования. Если сказать попроще, то итератор помнит текущее состояние и знает как выбирать следующий элемент объекта, над которым он построен."
   ]
  },
  {
   "cell_type": "code",
   "execution_count": 10,
   "metadata": {},
   "outputs": [
    {
     "name": "stdout",
     "output_type": "stream",
     "text": [
      "<list_iterator object at 0x00000157F7B2AA90>\n"
     ]
    }
   ],
   "source": [
    "my_list = [0,1,2,3,4,5,6,7,8,9]\n",
    "my_iter = iter(my_list)\n",
    "print(my_iter)"
   ]
  },
  {
   "cell_type": "code",
   "execution_count": 11,
   "metadata": {},
   "outputs": [
    {
     "data": {
      "text/plain": [
       "['__class__',\n",
       " '__delattr__',\n",
       " '__dir__',\n",
       " '__doc__',\n",
       " '__eq__',\n",
       " '__format__',\n",
       " '__ge__',\n",
       " '__getattribute__',\n",
       " '__gt__',\n",
       " '__hash__',\n",
       " '__init__',\n",
       " '__init_subclass__',\n",
       " '__iter__',\n",
       " '__le__',\n",
       " '__length_hint__',\n",
       " '__lt__',\n",
       " '__ne__',\n",
       " '__new__',\n",
       " '__next__',\n",
       " '__reduce__',\n",
       " '__reduce_ex__',\n",
       " '__repr__',\n",
       " '__setattr__',\n",
       " '__setstate__',\n",
       " '__sizeof__',\n",
       " '__str__',\n",
       " '__subclasshook__']"
      ]
     },
     "execution_count": 11,
     "metadata": {},
     "output_type": "execute_result"
    }
   ],
   "source": [
    "dir(my_iter)"
   ]
  },
  {
   "cell_type": "markdown",
   "metadata": {},
   "source": [
    "Метод *\\_\\_next*\\_\\_ возвращает объект соответствующий текущему состоянию итератора и переходит к следующему, согласно заданному алгоритму (в тривиальном случае - k+1й объект). Делать это можно до тех пор, пока не получим ислючение **StopIteration**"
   ]
  },
  {
   "cell_type": "code",
   "execution_count": 12,
   "metadata": {},
   "outputs": [
    {
     "name": "stdout",
     "output_type": "stream",
     "text": [
      "0\n"
     ]
    }
   ],
   "source": [
    "print(my_iter.__next__()) # Выглядит жутковато"
   ]
  },
  {
   "cell_type": "code",
   "execution_count": 13,
   "metadata": {},
   "outputs": [
    {
     "name": "stdout",
     "output_type": "stream",
     "text": [
      "1\n"
     ]
    }
   ],
   "source": [
    "print(next(my_iter)) # Вроде как-то попривычнее"
   ]
  },
  {
   "cell_type": "code",
   "execution_count": 14,
   "metadata": {},
   "outputs": [
    {
     "data": {
      "text/plain": [
       "2"
      ]
     },
     "execution_count": 14,
     "metadata": {},
     "output_type": "execute_result"
    }
   ],
   "source": [
    "# Будем делать так, чтобы уменьшить синтаксическую нагрузку\n",
    "next(my_iter) "
   ]
  },
  {
   "cell_type": "markdown",
   "metadata": {},
   "source": [
    "Важное свойство итератора - он не хранит объект в памяти. "
   ]
  },
  {
   "cell_type": "code",
   "execution_count": 15,
   "metadata": {},
   "outputs": [
    {
     "name": "stdout",
     "output_type": "stream",
     "text": [
      "0\n",
      "1\n"
     ]
    }
   ],
   "source": [
    "my_list = [0,1,2,3,4,5,6,7,8,9]\n",
    "my_iter = iter(my_list)\n",
    "print(next(my_iter))\n",
    "print(next(my_iter))"
   ]
  },
  {
   "cell_type": "code",
   "execution_count": 16,
   "metadata": {},
   "outputs": [],
   "source": [
    "# Подменим объект не трогая итератор\n",
    "my_list[3] = 'let put a string here'\n",
    "my_list[4] = 'iterator does not care'"
   ]
  },
  {
   "cell_type": "code",
   "execution_count": 17,
   "metadata": {},
   "outputs": [
    {
     "data": {
      "text/plain": [
       "[0, 1, 2, 'let put a string here', 'iterator does not care', 5, 6, 7, 8, 9]"
      ]
     },
     "execution_count": 17,
     "metadata": {},
     "output_type": "execute_result"
    }
   ],
   "source": [
    "my_list"
   ]
  },
  {
   "cell_type": "code",
   "execution_count": 18,
   "metadata": {},
   "outputs": [
    {
     "name": "stdout",
     "output_type": "stream",
     "text": [
      "2\n"
     ]
    }
   ],
   "source": [
    "print(next(my_iter))"
   ]
  },
  {
   "cell_type": "markdown",
   "metadata": {},
   "source": [
    "Метод  *\\_\\_iter*\\_\\_ может возвращать self (т.е. себя), то есть итератор от итератора - тоже итератор, причём тот же самый. ![alt text](seminar6_iter_and_best_practice/more_iterators.jpg) Мы в текущей лекции не будем уделять этому много внимания, но это очень важное и постоянно используемое свойство. Давайте взглянём:"
   ]
  },
  {
   "cell_type": "code",
   "execution_count": 20,
   "metadata": {},
   "outputs": [
    {
     "name": "stdout",
     "output_type": "stream",
     "text": [
      "<list_iterator object at 0x00000157F8EB7730>\n",
      "<list_iterator object at 0x00000157F8EB7730>\n",
      "True\n"
     ]
    }
   ],
   "source": [
    "my_list = [0,1,2,3,4,5]\n",
    "my_iter1 = iter(my_list)\n",
    "my_iter2 = iter(my_iter1)\n",
    "\n",
    "print(my_iter1)\n",
    "print(my_iter2)\n",
    "print(my_iter1 is my_iter2)"
   ]
  },
  {
   "cell_type": "code",
   "execution_count": 22,
   "metadata": {},
   "outputs": [
    {
     "data": {
      "text/plain": [
       "1"
      ]
     },
     "execution_count": 22,
     "metadata": {},
     "output_type": "execute_result"
    }
   ],
   "source": [
    "next(my_iter2)"
   ]
  },
  {
   "cell_type": "code",
   "execution_count": 23,
   "metadata": {},
   "outputs": [
    {
     "data": {
      "text/plain": [
       "2"
      ]
     },
     "execution_count": 23,
     "metadata": {},
     "output_type": "execute_result"
    }
   ],
   "source": [
    "# Чтобы было понятнее, итераторы не просто одинаковые, это тот самый итератор!\n",
    "next(my_iter1)"
   ]
  },
  {
   "cell_type": "markdown",
   "metadata": {},
   "source": [
    "Если быть достаточно наблюдательным, то можно заметить, что метод *\\_\\_next*\\_\\_ вообще-то отсутствует у наших исходных объектов. \n",
    "\n",
    "Однако он появляется когда мы делаем из него итератор"
   ]
  },
  {
   "cell_type": "code",
   "execution_count": 18,
   "metadata": {},
   "outputs": [
    {
     "data": {
      "text/plain": [
       "['__add__',\n",
       " '__class__',\n",
       " '__contains__',\n",
       " '__delattr__',\n",
       " '__delitem__',\n",
       " '__dir__',\n",
       " '__doc__',\n",
       " '__eq__',\n",
       " '__format__',\n",
       " '__ge__',\n",
       " '__getattribute__',\n",
       " '__getitem__',\n",
       " '__gt__',\n",
       " '__hash__',\n",
       " '__iadd__',\n",
       " '__imul__',\n",
       " '__init__',\n",
       " '__init_subclass__',\n",
       " '__iter__',\n",
       " '__le__',\n",
       " '__len__',\n",
       " '__lt__',\n",
       " '__mul__',\n",
       " '__ne__',\n",
       " '__new__',\n",
       " '__reduce__',\n",
       " '__reduce_ex__',\n",
       " '__repr__',\n",
       " '__reversed__',\n",
       " '__rmul__',\n",
       " '__setattr__',\n",
       " '__setitem__',\n",
       " '__sizeof__',\n",
       " '__str__',\n",
       " '__subclasshook__',\n",
       " 'append',\n",
       " 'clear',\n",
       " 'copy',\n",
       " 'count',\n",
       " 'extend',\n",
       " 'index',\n",
       " 'insert',\n",
       " 'pop',\n",
       " 'remove',\n",
       " 'reverse',\n",
       " 'sort']"
      ]
     },
     "execution_count": 18,
     "metadata": {},
     "output_type": "execute_result"
    }
   ],
   "source": [
    "dir(my_list)"
   ]
  },
  {
   "cell_type": "code",
   "execution_count": 24,
   "metadata": {},
   "outputs": [
    {
     "data": {
      "text/plain": [
       "['__class__',\n",
       " '__delattr__',\n",
       " '__dir__',\n",
       " '__doc__',\n",
       " '__eq__',\n",
       " '__format__',\n",
       " '__ge__',\n",
       " '__getattribute__',\n",
       " '__gt__',\n",
       " '__hash__',\n",
       " '__init__',\n",
       " '__init_subclass__',\n",
       " '__iter__',\n",
       " '__le__',\n",
       " '__length_hint__',\n",
       " '__lt__',\n",
       " '__ne__',\n",
       " '__new__',\n",
       " '__next__',\n",
       " '__reduce__',\n",
       " '__reduce_ex__',\n",
       " '__repr__',\n",
       " '__setattr__',\n",
       " '__setstate__',\n",
       " '__sizeof__',\n",
       " '__str__',\n",
       " '__subclasshook__']"
      ]
     },
     "execution_count": 24,
     "metadata": {},
     "output_type": "execute_result"
    }
   ],
   "source": [
    "dir(iter(my_list))"
   ]
  },
  {
   "cell_type": "code",
   "execution_count": 25,
   "metadata": {},
   "outputs": [
    {
     "name": "stdout",
     "output_type": "stream",
     "text": [
      "iterable\n"
     ]
    }
   ],
   "source": [
    "# Как проверить объект на итерируемость\n",
    "my_object = [1,2,3]\n",
    "#my_object = 2\n",
    "#my_object = 'hello'\n",
    "try:\n",
    "    iter(my_object)\n",
    "except TypeError:\n",
    "    print('not iterable')\n",
    "else:\n",
    "    print('iterable')"
   ]
  },
  {
   "cell_type": "markdown",
   "metadata": {},
   "source": [
    "Заметим, что итерироваться по объекту можно не только при помощи iter и next, но ещё и иначе, посредством метода *\\_\\_getitem*\\_\\_. Мы не будем его подробно рассматривать, отметим только что в отличии от iter который хранит состояние внутри итератора, getitem его не хранит, принимая его снаружи, со всеми вытекающими достоинствами и недостатками. Раньше это был основной протокол итерирования (в python<2.4), теперь, видимо, можно считать его устаревшим, но всё еще используемым."
   ]
  },
  {
   "cell_type": "code",
   "execution_count": 26,
   "metadata": {},
   "outputs": [
    {
     "name": "stdout",
     "output_type": "stream",
     "text": [
      "15\n"
     ]
    }
   ],
   "source": [
    "a = [12,13,14,15,16,17]\n",
    "b = a.__getitem__(3)\n",
    "print(b)"
   ]
  },
  {
   "cell_type": "markdown",
   "metadata": {},
   "source": [
    "Давайте рассмотрим **range**, это даст нам новый взгляд на итераторы. Допустим, нам надо проитерироваться по какому-то очень большому циклу. Втупую, для этого пришлось бы записать всю последовательность элементов в память, создать итератор, и идти от предыдущего к следующему много раз. Но держать в памяти этот огромный объект не слишком-то хотелось бы. Тут нас и выручают итераторы, которые не держат в памяти объект, а знают только своё текущее состояние и закон по которому выбираем следующий элемент."
   ]
  },
  {
   "cell_type": "code",
   "execution_count": 33,
   "metadata": {},
   "outputs": [
    {
     "name": "stdout",
     "output_type": "stream",
     "text": [
      "range(0, 5)\n",
      "<class 'range'>\n"
     ]
    }
   ],
   "source": [
    "# range не существует в каком-то полном запомненном/записанном виде\n",
    "print(range(5)) \n",
    "print(type(range(5)))"
   ]
  },
  {
   "cell_type": "code",
   "execution_count": 34,
   "metadata": {},
   "outputs": [
    {
     "ename": "TypeError",
     "evalue": "'range' object is not an iterator",
     "output_type": "error",
     "traceback": [
      "\u001b[1;31m---------------------------------------------------------------------------\u001b[0m",
      "\u001b[1;31mTypeError\u001b[0m                                 Traceback (most recent call last)",
      "\u001b[1;32m<ipython-input-34-82e8f782b769>\u001b[0m in \u001b[0;36m<module>\u001b[1;34m\u001b[0m\n\u001b[0;32m      1\u001b[0m \u001b[0ma\u001b[0m \u001b[1;33m=\u001b[0m \u001b[0mrange\u001b[0m\u001b[1;33m(\u001b[0m\u001b[1;36m5\u001b[0m\u001b[1;33m)\u001b[0m\u001b[1;33m\u001b[0m\u001b[1;33m\u001b[0m\u001b[0m\n\u001b[0;32m      2\u001b[0m \u001b[1;31m# Но range на самом деле не итератор, это итерируемый объект\u001b[0m\u001b[1;33m\u001b[0m\u001b[1;33m\u001b[0m\u001b[1;33m\u001b[0m\u001b[0m\n\u001b[1;32m----> 3\u001b[1;33m \u001b[0mnext\u001b[0m\u001b[1;33m(\u001b[0m\u001b[0ma\u001b[0m\u001b[1;33m)\u001b[0m\u001b[1;33m\u001b[0m\u001b[1;33m\u001b[0m\u001b[0m\n\u001b[0m",
      "\u001b[1;31mTypeError\u001b[0m: 'range' object is not an iterator"
     ]
    }
   ],
   "source": [
    "a = range(5)\n",
    "# Но range на самом деле не итератор, это итерируемый объект\n",
    "next(a)"
   ]
  },
  {
   "cell_type": "code",
   "execution_count": 35,
   "metadata": {},
   "outputs": [],
   "source": [
    "my_iter = iter(range(5)) # А вот это - итератор по range"
   ]
  },
  {
   "cell_type": "code",
   "execution_count": 38,
   "metadata": {},
   "outputs": [
    {
     "data": {
      "text/plain": [
       "2"
      ]
     },
     "execution_count": 38,
     "metadata": {},
     "output_type": "execute_result"
    }
   ],
   "source": [
    "next(my_iter)"
   ]
  },
  {
   "cell_type": "code",
   "execution_count": 30,
   "metadata": {},
   "outputs": [
    {
     "data": {
      "text/plain": [
       "<range_iterator at 0x157f995f990>"
      ]
     },
     "execution_count": 30,
     "metadata": {},
     "output_type": "execute_result"
    }
   ],
   "source": [
    "# Давайте проверим, а вдруг теперь когда мы сделали над range итератор, там всё же записали весь объект\n",
    "my_iter"
   ]
  },
  {
   "cell_type": "code",
   "execution_count": 39,
   "metadata": {},
   "outputs": [
    {
     "data": {
      "text/plain": [
       "[3, 4]"
      ]
     },
     "execution_count": 39,
     "metadata": {},
     "output_type": "execute_result"
    }
   ],
   "source": [
    "# Однако, если очень хочется, мы можем попросить его сделать. \n",
    "list(my_iter)"
   ]
  },
  {
   "cell_type": "code",
   "execution_count": 44,
   "metadata": {},
   "outputs": [
    {
     "data": {
      "text/plain": [
       "[]"
      ]
     },
     "execution_count": 44,
     "metadata": {},
     "output_type": "execute_result"
    }
   ],
   "source": [
    "list(my_iter)"
   ]
  },
  {
   "cell_type": "markdown",
   "metadata": {},
   "source": [
    "Когда мы просим сделать, например, список от итератора, то происходит вот что, начиная с текущего состояния он начинает просить у итератора следующий элемент и писать в список, пока не дойдёт до конца."
   ]
  },
  {
   "cell_type": "markdown",
   "metadata": {},
   "source": [
    "Ну, раз уж мы знаем ООП, давайте напишем свой класс с итератором. Это поможет нам лучше понять на что надо обращать внимание и как вообще их писать "
   ]
  },
  {
   "cell_type": "code",
   "execution_count": 40,
   "metadata": {},
   "outputs": [],
   "source": [
    "class NaiveRange():\n",
    "    def __init__(self, start, end):\n",
    "        self.end = end\n",
    "        self.ind = start\n",
    "        \n",
    "    def __iter__(self):\n",
    "        return self\n",
    "    \n",
    "    def __next__(self):\n",
    "        if self.ind >= self.end:\n",
    "            raise StopIteration\n",
    "        self.ind += 1\n",
    "        return (self.ind - 1)"
   ]
  },
  {
   "cell_type": "code",
   "execution_count": 41,
   "metadata": {},
   "outputs": [],
   "source": [
    "my_range = NaiveRange(3,9)"
   ]
  },
  {
   "cell_type": "code",
   "execution_count": 42,
   "metadata": {},
   "outputs": [
    {
     "data": {
      "text/plain": [
       "[3, 4, 5, 6, 7, 8]"
      ]
     },
     "execution_count": 42,
     "metadata": {},
     "output_type": "execute_result"
    }
   ],
   "source": [
    "# Давайте ещё раз попросим список и рассмотрим детальнее.\n",
    "list(my_range)"
   ]
  },
  {
   "cell_type": "code",
   "execution_count": 43,
   "metadata": {},
   "outputs": [
    {
     "data": {
      "text/plain": [
       "[]"
      ]
     },
     "execution_count": 43,
     "metadata": {},
     "output_type": "execute_result"
    }
   ],
   "source": [
    "list(my_range)"
   ]
  },
  {
   "cell_type": "markdown",
   "metadata": {},
   "source": [
    "Дело в том, что архитектура нашего класса не позволяет индексу вернуться к исходному состоянию без ре-инициализации, итератор пройден до конца, и с этим ничего не поделать. Такая итерация называется **исчерпаемой**. Пример: итерация по файлу. Мы можем его открыть и по мере прочтения достигнем конца. Конечно есть всякие трюки, но базово мы можем прочитать файл только раз, далее должны открыть его заново (и ре-инициализировать итератор).\n",
    "\n",
    "Давайте теперь построим неисчераемый итератор."
   ]
  },
  {
   "cell_type": "code",
   "execution_count": 45,
   "metadata": {},
   "outputs": [],
   "source": [
    "class BaseIter(object):\n",
    "    def __init__(self, start, end):\n",
    "        self.end = end\n",
    "        self.ind = start\n",
    "        \n",
    "    def __next__(self):\n",
    "        if self.ind == self.end:\n",
    "            raise StopIteration\n",
    "        self.ind += 1\n",
    "        return (self.ind -1)\n",
    "    \n",
    "    \n",
    "class AdvancedRange(object):\n",
    "    def __init__(self, start, end):\n",
    "        self.end = end\n",
    "        self.start = start\n",
    "    def __iter__(self):\n",
    "        return BaseIter(self.start, self.end)"
   ]
  },
  {
   "cell_type": "code",
   "execution_count": 46,
   "metadata": {},
   "outputs": [],
   "source": [
    "my_range = AdvancedRange(3,9)"
   ]
  },
  {
   "cell_type": "code",
   "execution_count": 47,
   "metadata": {},
   "outputs": [
    {
     "data": {
      "text/plain": [
       "[3, 4, 5, 6, 7, 8]"
      ]
     },
     "execution_count": 47,
     "metadata": {},
     "output_type": "execute_result"
    }
   ],
   "source": [
    "list(my_range)"
   ]
  },
  {
   "cell_type": "code",
   "execution_count": 48,
   "metadata": {},
   "outputs": [
    {
     "data": {
      "text/plain": [
       "[3, 4, 5, 6, 7, 8]"
      ]
     },
     "execution_count": 48,
     "metadata": {},
     "output_type": "execute_result"
    }
   ],
   "source": [
    "list(my_range)"
   ]
  },
  {
   "cell_type": "markdown",
   "metadata": {},
   "source": [
    "Теперь, при вызове итератора, мы создаем объект класса BaseIter и можем так делать сколько угодно раз, и каждый из них будет держать в своей памяти своё состояние, не мешая остальным итерироваться. Это, соответственно, **неисчерпаемая** итерация. Пример: список, словарь."
   ]
  },
  {
   "cell_type": "markdown",
   "metadata": {},
   "source": [
    "Теперь, с учётом полученных сведений, давайте вернёмся к тому с чего начинали, к циклу *for*"
   ]
  },
  {
   "cell_type": "markdown",
   "metadata": {},
   "source": [
    "```python\n",
    "some_iter = iter(some_object)\n",
    "while True:    \n",
    "    try:        \n",
    "        some_value = next(some_iter)        \n",
    "    except StopIteration:        \n",
    "        break        \n",
    "    do_smth(some_value)\n",
    "```"
   ]
  },
  {
   "cell_type": "markdown",
   "metadata": {},
   "source": [
    "# Генераторы"
   ]
  },
  {
   "cell_type": "markdown",
   "metadata": {},
   "source": [
    "Идея следующая. Сделаем такую функцию, которая будет по какому-то входному параметру создавать итераторы. Ключевой является команда **yield**, которая работает примерно как *return* только при следующем обращении проход по телу будет осуществляться не с начала, а с места где мы закончили. Разберём пару примеров и станет ясно зачем это всё надо. \n",
    "![alt text](seminar6_iter_and_best_practice/iter_vs_gen.svg)"
   ]
  },
  {
   "cell_type": "code",
   "execution_count": 50,
   "metadata": {},
   "outputs": [],
   "source": [
    "def my_first_genertor(var):\n",
    "    yield 'first launch'\n",
    "    yield 'second launch'\n",
    "    some_result = var*3+2\n",
    "    yield some_result\n",
    "    yield 'last launch'\n",
    "    print ('Done, no more yields, only an exception - StopIteration')"
   ]
  },
  {
   "cell_type": "code",
   "execution_count": 61,
   "metadata": {},
   "outputs": [],
   "source": [
    "my_gen = my_first_genertor(2)\n",
    "#list(my_gen)"
   ]
  },
  {
   "cell_type": "code",
   "execution_count": 62,
   "metadata": {},
   "outputs": [
    {
     "data": {
      "text/plain": [
       "'first launch'"
      ]
     },
     "execution_count": 62,
     "metadata": {},
     "output_type": "execute_result"
    }
   ],
   "source": [
    "next(my_gen)"
   ]
  },
  {
   "cell_type": "code",
   "execution_count": 60,
   "metadata": {},
   "outputs": [
    {
     "data": {
      "text/plain": [
       "<generator object my_first_genertor at 0x00000157F8FA9F90>"
      ]
     },
     "execution_count": 60,
     "metadata": {},
     "output_type": "execute_result"
    }
   ],
   "source": [
    "my_gen"
   ]
  },
  {
   "cell_type": "markdown",
   "metadata": {},
   "source": [
    "Далее, сколько бы мы не вызывали, если не ре-инициализировать генератор, то он больше ничего не выдаст. Генератор **исчерпался**. \n",
    "\n",
    "**Return** же в свою очередь в генераторе не работает как обычно, а работает исключительно как *StopIteration*. Если return не написать, то он подразумевается в конце."
   ]
  },
  {
   "cell_type": "code",
   "execution_count": 63,
   "metadata": {},
   "outputs": [],
   "source": [
    "def my_second_genertor(var):\n",
    "    yield 'first launch'\n",
    "    return 'second launch' # Заменим yield на return\n",
    "    some_result = var*3+2\n",
    "    yield some_result\n",
    "    yield 'last launch'\n",
    "    print ('Done, no more yields, only an exception - StopIteration')"
   ]
  },
  {
   "cell_type": "code",
   "execution_count": 64,
   "metadata": {},
   "outputs": [],
   "source": [
    "my_gen = my_second_genertor(2)\n",
    "#list(gen)"
   ]
  },
  {
   "cell_type": "code",
   "execution_count": 67,
   "metadata": {},
   "outputs": [
    {
     "ename": "StopIteration",
     "evalue": "",
     "output_type": "error",
     "traceback": [
      "\u001b[1;31m---------------------------------------------------------------------------\u001b[0m",
      "\u001b[1;31mStopIteration\u001b[0m                             Traceback (most recent call last)",
      "\u001b[1;32m<ipython-input-67-78dc05d55b31>\u001b[0m in \u001b[0;36m<module>\u001b[1;34m\u001b[0m\n\u001b[1;32m----> 1\u001b[1;33m \u001b[0mnext\u001b[0m\u001b[1;33m(\u001b[0m\u001b[0mmy_gen\u001b[0m\u001b[1;33m)\u001b[0m\u001b[1;33m\u001b[0m\u001b[1;33m\u001b[0m\u001b[0m\n\u001b[0m",
      "\u001b[1;31mStopIteration\u001b[0m: "
     ]
    }
   ],
   "source": [
    "next(my_gen)"
   ]
  },
  {
   "cell_type": "markdown",
   "metadata": {},
   "source": [
    "Заметим, что запустив повторно мы больше не переходим к следующему yield. Генератор исчерпался по исключению, не зависимо от того есть ли там ещё yield. "
   ]
  },
  {
   "cell_type": "markdown",
   "metadata": {},
   "source": [
    "**Важное замечание** Кроме описанного обычного завершения, стандартные генераторы можно завершить снаружи при помощи метода close. Этот метод вызывается, в том числе, принудительной остановкой и работает через исключение *GeneratorExit*. При самостоятельной реализации метода close, надо учитывать, что **GeneratorExit не отлавливается как базовое исключение**, и если не прописать его в явном виде при имплементации своего генератора, то есть шанс утратить возможность принудительной остановки, и никакие *Ctrl+C* не отработают. Уже после принудительной остановки, дальнейшие вызовы также получат *StopIteration*."
   ]
  },
  {
   "cell_type": "markdown",
   "metadata": {},
   "source": [
    "Выглядеть должно как-то так. Выглядит усложненным, но это близко к настоящей реализации.\n",
    "```python\n",
    "def safe_gen():\n",
    "    closed = False\n",
    "    try:\n",
    "        yield 'check '\n",
    "    except GeneratorExit:\n",
    "        print('exit!')\n",
    "        closed = True\n",
    "        raise StopIteration\n",
    "    finally:\n",
    "        if not closed:\n",
    "            print('worked!')\n",
    "\n",
    "```"
   ]
  },
  {
   "cell_type": "markdown",
   "metadata": {},
   "source": [
    "Зачем же нам всё это может нам понадобиться? Давайте вспомним одну классную *штуку* которую мы видели на второй лекции"
   ]
  },
  {
   "cell_type": "code",
   "execution_count": 68,
   "metadata": {},
   "outputs": [
    {
     "name": "stdout",
     "output_type": "stream",
     "text": [
      "0 zero\n",
      "1 one\n",
      "2 two\n",
      "3 three\n",
      "4 four\n"
     ]
    }
   ],
   "source": [
    "nums = ['zero', 'one', 'two', 'three', 'four']\n",
    "for index, number in enumerate(nums):\n",
    "    print(index, number)"
   ]
  },
  {
   "cell_type": "markdown",
   "metadata": {},
   "source": [
    "**Enumerate** при итерации по объекту присваивает порядковые номера объектам, очень удобно и рекомендуется к использованию. *Enumerate* ни что иное как генератор, и может быть записано следующим образом"
   ]
  },
  {
   "cell_type": "code",
   "execution_count": 69,
   "metadata": {},
   "outputs": [],
   "source": [
    "def my_enumerate(iterable_object):\n",
    "    ind = 0\n",
    "    for smth in iterable_object:\n",
    "        yield ind, smth\n",
    "        ind += 1"
   ]
  },
  {
   "cell_type": "code",
   "execution_count": 70,
   "metadata": {},
   "outputs": [
    {
     "name": "stdout",
     "output_type": "stream",
     "text": [
      "0 zero\n",
      "1 one\n",
      "2 two\n",
      "3 three\n",
      "4 four\n"
     ]
    }
   ],
   "source": [
    "for index, number in my_enumerate(nums):\n",
    "    print(index, number)"
   ]
  },
  {
   "cell_type": "markdown",
   "metadata": {},
   "source": [
    "Когда встречаешь что-то такое первый раз, то невольно возникает мысль \"Ну написали цикл в функции, и зачем это всё? Я и сам могу цикл написать и безо всяких генераторов\". Однако, стоит обратить внимание на то, что генератор (он ведь тоже итератор!) не держит в памяти полностью записанный объект, вместо этого просто обращается к методу *next*, и это очень важно."
   ]
  },
  {
   "cell_type": "code",
   "execution_count": 71,
   "metadata": {},
   "outputs": [
    {
     "name": "stdout",
     "output_type": "stream",
     "text": [
      "<generator object my_enumerate at 0x00000157F95AB970>\n"
     ]
    }
   ],
   "source": [
    "print(my_enumerate(nums))"
   ]
  },
  {
   "cell_type": "markdown",
   "metadata": {},
   "source": [
    "Давайте рассмотрим ещё несколько генераторов"
   ]
  },
  {
   "cell_type": "code",
   "execution_count": 72,
   "metadata": {},
   "outputs": [
    {
     "name": "stdout",
     "output_type": "stream",
     "text": [
      "['zerozero', 'oneone', 'twotwo', 'threethree', 'fourfour']\n"
     ]
    }
   ],
   "source": [
    "# map(func, smth_iterable) применяет к каждом элементу функцию func\n",
    "double = map(lambda x: x + x, nums) \n",
    "print(list(double))"
   ]
  },
  {
   "cell_type": "code",
   "execution_count": 73,
   "metadata": {},
   "outputs": [],
   "source": [
    "# Потренируемся, сделаем свой map\n",
    "def my_map(func, iterable_object):\n",
    "    for smth in iterable_object:\n",
    "        yield func(smth)"
   ]
  },
  {
   "cell_type": "code",
   "execution_count": 74,
   "metadata": {},
   "outputs": [
    {
     "name": "stdout",
     "output_type": "stream",
     "text": [
      "['zerozero', 'oneone', 'twotwo', 'threethree', 'fourfour']\n"
     ]
    }
   ],
   "source": [
    "my_double = my_map(lambda x: x + x, nums) \n",
    "print(list(my_double))"
   ]
  },
  {
   "cell_type": "code",
   "execution_count": 79,
   "metadata": {},
   "outputs": [
    {
     "name": "stdout",
     "output_type": "stream",
     "text": [
      "['zero', 'three', 'four']\n"
     ]
    }
   ],
   "source": [
    "# filter(cond, smth_iterable) применяет к каждому элементу проверку по условию cond и отфильтровывает\n",
    "len_filter = filter(lambda x: len(x) > 3, nums)\n",
    "print(list(len_filter))"
   ]
  },
  {
   "cell_type": "code",
   "execution_count": 80,
   "metadata": {},
   "outputs": [],
   "source": [
    "# Cделаем свой filter\n",
    "def my_filter(condition, iterable_object):\n",
    "    for smth in iterable_object:\n",
    "        if condition(smth):\n",
    "            yield smth"
   ]
  },
  {
   "cell_type": "markdown",
   "metadata": {},
   "source": [
    "Есть множество полезных генераторов, которые пока ещё не впилили в основной питон (но судя по логам версий - этим занимаются): count, repeat, cycle, chain и другие. Их можно найти в пакете itertools. Давайте посмотрим."
   ]
  },
  {
   "cell_type": "code",
   "execution_count": 81,
   "metadata": {},
   "outputs": [],
   "source": [
    "from itertools import repeat\n",
    "# Повторяет то что ему дали"
   ]
  },
  {
   "cell_type": "code",
   "execution_count": 83,
   "metadata": {},
   "outputs": [],
   "source": [
    "from itertools import chain\n",
    "# \"Раскрывает\" итерируемые объекты и делает из них один. Но делает это только на 1 уровень в \"глубину\""
   ]
  },
  {
   "cell_type": "code",
   "execution_count": 84,
   "metadata": {},
   "outputs": [
    {
     "data": {
      "text/plain": [
       "['A', 'B', 1, 2, 3, None, 'a', ' ', 's', 't', 'r', 'i', 'n', 'g', 4, 5, 6]"
      ]
     },
     "execution_count": 84,
     "metadata": {},
     "output_type": "execute_result"
    }
   ],
   "source": [
    "list(chain('A', 'B', [1, 2, 3, None], 'a string', range(4,7)))"
   ]
  },
  {
   "cell_type": "code",
   "execution_count": 85,
   "metadata": {},
   "outputs": [
    {
     "data": {
      "text/plain": [
       "['A', 'B', 1, 2, 3, 'a string', None, range(4, 7)]"
      ]
     },
     "execution_count": 85,
     "metadata": {},
     "output_type": "execute_result"
    }
   ],
   "source": [
    "list(chain('A', 'B', [1, 2, 3, 'a string', None], [range(4,7)]))"
   ]
  },
  {
   "cell_type": "code",
   "execution_count": 86,
   "metadata": {},
   "outputs": [],
   "source": [
    "from itertools import count\n",
    "# Принимает начальное состояние и шаг и делает с ними бесконечный цикл"
   ]
  },
  {
   "cell_type": "code",
   "execution_count": null,
   "metadata": {},
   "outputs": [],
   "source": [
    "for i in count(0,3):\n",
    "    print(i)"
   ]
  },
  {
   "cell_type": "markdown",
   "metadata": {},
   "source": [
    "Давайте еще рассмотрим такой пример. Допустим у нас есть объект, и мы хотим его перегруппировать в процессе итерации. "
   ]
  },
  {
   "cell_type": "code",
   "execution_count": 87,
   "metadata": {},
   "outputs": [
    {
     "name": "stdout",
     "output_type": "stream",
     "text": [
      "[(0, 1, 2), ('zero', 'one', 'two'), ('A', 'B', 'C')]\n"
     ]
    }
   ],
   "source": [
    "my_object = [0, 1, 2, 'zero', 'one', 'two', 'A', 'B', 'C']\n",
    "my_iter = iter(my_object)\n",
    "print(list(zip(my_iter, my_iter, my_iter)))"
   ]
  },
  {
   "cell_type": "markdown",
   "metadata": {},
   "source": [
    "### Выражения-генераторы"
   ]
  },
  {
   "cell_type": "markdown",
   "metadata": {},
   "source": [
    "Стандарт Pep-289 даёт нам подробные инструкции как надо записывать и вообще как пользоваться выражениями-генераторами https://www.python.org/dev/peps/pep-0289/ \n",
    "Например,"
   ]
  },
  {
   "cell_type": "code",
   "execution_count": 88,
   "metadata": {},
   "outputs": [],
   "source": [
    "def gen(exp):\n",
    "    for x in exp:\n",
    "        yield x**2\n",
    "g = gen(iter(range(10)))\n",
    "\n",
    "# Эквивалентно\n",
    "g = (x**2 for x in range(10))"
   ]
  },
  {
   "cell_type": "markdown",
   "metadata": {},
   "source": [
    "Это удобно краткой записью в одну строку, при этом это не просто выражение, а генератор, со всеми вытекающими преимуществами и свойствами, которые мы ранее изучили. "
   ]
  },
  {
   "cell_type": "markdown",
   "metadata": {},
   "source": [
    "**Расширим функциональность генератора**. Теперь мы хотим не только получать из него следующий элемент по команде, но и как-то более явно в этом участвовать, например посылать в него данные, чтобы получать другие данные. Для этого Используем команду **send**, а принимать данные будем при помощи всё того же *yield*, но немного иначе."
   ]
  },
  {
   "cell_type": "code",
   "execution_count": 92,
   "metadata": {},
   "outputs": [],
   "source": [
    "def gen():\n",
    "    for i in range(10):\n",
    "        x = yield \n",
    "        print(i + x)"
   ]
  },
  {
   "cell_type": "code",
   "execution_count": 93,
   "metadata": {},
   "outputs": [],
   "source": [
    "my_gen = gen()\n",
    "next(my_gen)"
   ]
  },
  {
   "cell_type": "code",
   "execution_count": 94,
   "metadata": {},
   "outputs": [
    {
     "name": "stdout",
     "output_type": "stream",
     "text": [
      "17\n"
     ]
    }
   ],
   "source": [
    "my_gen.send(17)"
   ]
  },
  {
   "cell_type": "code",
   "execution_count": 95,
   "metadata": {},
   "outputs": [
    {
     "ename": "TypeError",
     "evalue": "unsupported operand type(s) for +: 'int' and 'NoneType'",
     "output_type": "error",
     "traceback": [
      "\u001b[1;31m---------------------------------------------------------------------------\u001b[0m",
      "\u001b[1;31mTypeError\u001b[0m                                 Traceback (most recent call last)",
      "\u001b[1;32m<ipython-input-95-faae9b88598d>\u001b[0m in \u001b[0;36m<module>\u001b[1;34m\u001b[0m\n\u001b[0;32m      1\u001b[0m \u001b[1;31m# next теперь не работает\u001b[0m\u001b[1;33m\u001b[0m\u001b[1;33m\u001b[0m\u001b[1;33m\u001b[0m\u001b[0m\n\u001b[1;32m----> 2\u001b[1;33m \u001b[0mnext\u001b[0m\u001b[1;33m(\u001b[0m\u001b[0mmy_gen\u001b[0m\u001b[1;33m)\u001b[0m\u001b[1;33m\u001b[0m\u001b[1;33m\u001b[0m\u001b[0m\n\u001b[0m",
      "\u001b[1;32m<ipython-input-92-d77357d1104d>\u001b[0m in \u001b[0;36mgen\u001b[1;34m()\u001b[0m\n\u001b[0;32m      2\u001b[0m     \u001b[1;32mfor\u001b[0m \u001b[0mi\u001b[0m \u001b[1;32min\u001b[0m \u001b[0mrange\u001b[0m\u001b[1;33m(\u001b[0m\u001b[1;36m10\u001b[0m\u001b[1;33m)\u001b[0m\u001b[1;33m:\u001b[0m\u001b[1;33m\u001b[0m\u001b[1;33m\u001b[0m\u001b[0m\n\u001b[0;32m      3\u001b[0m         \u001b[0mx\u001b[0m \u001b[1;33m=\u001b[0m \u001b[1;32myield\u001b[0m\u001b[1;33m\u001b[0m\u001b[1;33m\u001b[0m\u001b[0m\n\u001b[1;32m----> 4\u001b[1;33m         \u001b[0mprint\u001b[0m\u001b[1;33m(\u001b[0m\u001b[0mi\u001b[0m \u001b[1;33m+\u001b[0m \u001b[0mx\u001b[0m\u001b[1;33m)\u001b[0m\u001b[1;33m\u001b[0m\u001b[1;33m\u001b[0m\u001b[0m\n\u001b[0m",
      "\u001b[1;31mTypeError\u001b[0m: unsupported operand type(s) for +: 'int' and 'NoneType'"
     ]
    }
   ],
   "source": [
    "# next теперь не работает\n",
    "next(my_gen)"
   ]
  },
  {
   "cell_type": "markdown",
   "metadata": {},
   "source": [
    "![alt text](seminar6_iter_and_best_practice/deeper.png) "
   ]
  },
  {
   "cell_type": "markdown",
   "metadata": {},
   "source": [
    "Давайте теперь рассмотрим такой пример, когда у нас есть два генератора, которые общаются между собой "
   ]
  },
  {
   "cell_type": "code",
   "execution_count": 96,
   "metadata": {},
   "outputs": [],
   "source": [
    "import random\n",
    "\n",
    "# Генерим новые данные\n",
    "def get_data():\n",
    "    return random.sample(range(10), 2)\n",
    "\n",
    "# Обрабатываем данные\n",
    "def consume():\n",
    "    total_sum = 0\n",
    "    total_amount = 0\n",
    "    \n",
    "    while True:\n",
    "        data = yield\n",
    "        total_sum += sum(data)\n",
    "        total_amount += len(data)\n",
    "        print('Running average is {}'.format(total_sum/total_amount))\n",
    "        \n",
    "# Производим новые данные и передаём в обработку\n",
    "def produce(consumer):\n",
    "    while True:\n",
    "        data = get_data()\n",
    "        print('New data {}'.format(data))\n",
    "        consumer.send(data)\n",
    "        yield"
   ]
  },
  {
   "cell_type": "code",
   "execution_count": 101,
   "metadata": {},
   "outputs": [
    {
     "name": "stdout",
     "output_type": "stream",
     "text": [
      "New data [7, 3]\n",
      "Running average is 5.0\n",
      "New data [4, 6]\n",
      "Running average is 5.0\n",
      "New data [2, 9]\n",
      "Running average is 5.166666666666667\n",
      "New data [8, 2]\n",
      "Running average is 5.125\n",
      "New data [0, 1]\n",
      "Running average is 4.2\n",
      "New data [8, 2]\n",
      "Running average is 4.333333333333333\n",
      "New data [3, 4]\n",
      "Running average is 4.214285714285714\n",
      "New data [0, 6]\n",
      "Running average is 4.0625\n",
      "New data [9, 2]\n",
      "Running average is 4.222222222222222\n",
      "New data [4, 2]\n",
      "Running average is 4.1\n",
      "New data [7, 1]\n",
      "Running average is 4.090909090909091\n",
      "New data [1, 9]\n",
      "Running average is 4.166666666666667\n",
      "New data [4, 0]\n",
      "Running average is 4.0\n",
      "New data [9, 5]\n",
      "Running average is 4.214285714285714\n",
      "New data [0, 5]\n",
      "Running average is 4.1\n",
      "New data [4, 5]\n",
      "Running average is 4.125\n",
      "New data [9, 3]\n",
      "Running average is 4.235294117647059\n",
      "New data [4, 3]\n",
      "Running average is 4.194444444444445\n",
      "New data [7, 9]\n",
      "Running average is 4.394736842105263\n",
      "New data [6, 5]\n",
      "Running average is 4.45\n",
      "New data [8, 5]\n",
      "Running average is 4.5476190476190474\n",
      "New data [1, 3]\n",
      "Running average is 4.431818181818182\n",
      "New data [3, 8]\n",
      "Running average is 4.478260869565218\n",
      "New data [6, 3]\n",
      "Running average is 4.479166666666667\n",
      "New data [1, 6]\n",
      "Running average is 4.44\n",
      "New data [8, 3]\n",
      "Running average is 4.480769230769231\n",
      "New data [8, 3]\n",
      "Running average is 4.518518518518518\n",
      "New data [1, 8]\n",
      "Running average is 4.517857142857143\n",
      "New data [3, 7]\n",
      "Running average is 4.5344827586206895\n",
      "New data [3, 1]\n",
      "Running average is 4.45\n",
      "New data [5, 8]\n",
      "Running average is 4.516129032258065\n",
      "New data [3, 1]\n",
      "Running average is 4.4375\n",
      "New data [8, 2]\n",
      "Running average is 4.454545454545454\n",
      "New data [5, 6]\n",
      "Running average is 4.485294117647059\n",
      "New data [2, 8]\n",
      "Running average is 4.5\n",
      "New data [3, 0]\n",
      "Running average is 4.416666666666667\n",
      "New data [9, 2]\n",
      "Running average is 4.445945945945946\n",
      "New data [7, 8]\n",
      "Running average is 4.526315789473684\n",
      "New data [8, 6]\n",
      "Running average is 4.589743589743589\n",
      "New data [7, 9]\n",
      "Running average is 4.675\n",
      "New data [6, 3]\n",
      "Running average is 4.670731707317073\n",
      "New data [2, 6]\n",
      "Running average is 4.654761904761905\n",
      "New data [7, 8]\n",
      "Running average is 4.72093023255814\n",
      "New data [5, 2]\n",
      "Running average is 4.693181818181818\n",
      "New data [1, 6]\n",
      "Running average is 4.666666666666667\n",
      "New data [3, 8]\n",
      "Running average is 4.684782608695652\n",
      "New data [0, 1]\n",
      "Running average is 4.595744680851064\n",
      "New data [5, 6]\n",
      "Running average is 4.614583333333333\n",
      "New data [3, 9]\n",
      "Running average is 4.642857142857143\n",
      "New data [4, 0]\n",
      "Running average is 4.59\n",
      "New data [3, 6]\n",
      "Running average is 4.588235294117647\n",
      "New data [3, 8]\n",
      "Running average is 4.605769230769231\n",
      "New data [5, 8]\n",
      "Running average is 4.6415094339622645\n",
      "New data [7, 1]\n",
      "Running average is 4.62962962962963\n",
      "New data [6, 2]\n",
      "Running average is 4.618181818181818\n",
      "New data [6, 2]\n",
      "Running average is 4.607142857142857\n",
      "New data [6, 2]\n",
      "Running average is 4.5964912280701755\n",
      "New data [0, 2]\n",
      "Running average is 4.5344827586206895\n",
      "New data [9, 2]\n",
      "Running average is 4.5508474576271185\n",
      "New data [4, 0]\n",
      "Running average is 4.508333333333334\n",
      "New data [3, 6]\n",
      "Running average is 4.508196721311475\n",
      "New data [8, 7]\n",
      "Running average is 4.556451612903226\n",
      "New data [3, 7]\n",
      "Running average is 4.563492063492063\n",
      "New data [9, 7]\n",
      "Running average is 4.6171875\n",
      "New data [9, 7]\n",
      "Running average is 4.6692307692307695\n",
      "New data [6, 2]\n",
      "Running average is 4.659090909090909\n",
      "New data [2, 4]\n",
      "Running average is 4.634328358208955\n",
      "New data [5, 2]\n",
      "Running average is 4.617647058823529\n",
      "New data [9, 7]\n",
      "Running average is 4.666666666666667\n",
      "New data [7, 8]\n",
      "Running average is 4.707142857142857\n",
      "New data [2, 1]\n",
      "Running average is 4.661971830985915\n",
      "New data [0, 9]\n",
      "Running average is 4.659722222222222\n",
      "New data [9, 6]\n",
      "Running average is 4.698630136986301\n",
      "New data [2, 4]\n",
      "Running average is 4.675675675675675\n",
      "New data [9, 4]\n",
      "Running average is 4.7\n",
      "New data [3, 6]\n",
      "Running average is 4.697368421052632\n",
      "New data [8, 9]\n",
      "Running average is 4.746753246753247\n",
      "New data [4, 0]\n",
      "Running average is 4.711538461538462\n",
      "New data [0, 2]\n",
      "Running average is 4.6645569620253164\n",
      "New data [4, 5]\n",
      "Running average is 4.6625\n",
      "New data [4, 1]\n",
      "Running average is 4.635802469135802\n",
      "New data [4, 2]\n",
      "Running average is 4.615853658536586\n",
      "New data [9, 4]\n",
      "Running average is 4.63855421686747\n",
      "New data [8, 5]\n",
      "Running average is 4.660714285714286\n",
      "New data [2, 3]\n",
      "Running average is 4.635294117647059\n",
      "New data [3, 9]\n",
      "Running average is 4.651162790697675\n",
      "New data [3, 1]\n",
      "Running average is 4.620689655172414\n",
      "New data [3, 4]\n",
      "Running average is 4.607954545454546\n",
      "New data [7, 5]\n",
      "Running average is 4.623595505617978\n",
      "New data [0, 5]\n",
      "Running average is 4.6\n",
      "New data [5, 4]\n",
      "Running average is 4.5989010989010985\n",
      "New data [1, 4]\n",
      "Running average is 4.576086956521739\n",
      "New data [1, 5]\n",
      "Running average is 4.559139784946237\n",
      "New data [1, 3]\n",
      "Running average is 4.531914893617022\n",
      "New data [2, 1]\n",
      "Running average is 4.5\n",
      "New data [0, 3]\n",
      "Running average is 4.46875\n",
      "New data [5, 0]\n",
      "Running average is 4.448453608247423\n",
      "New data [3, 5]\n",
      "Running average is 4.4438775510204085\n",
      "New data [2, 5]\n",
      "Running average is 4.434343434343434\n",
      "New data [6, 9]\n",
      "Running average is 4.465\n",
      "New data [9, 1]\n",
      "Running average is 4.47029702970297\n",
      "New data [4, 1]\n",
      "Running average is 4.450980392156863\n",
      "New data [0, 3]\n",
      "Running average is 4.422330097087379\n",
      "New data [9, 3]\n",
      "Running average is 4.4375\n",
      "New data [9, 8]\n",
      "Running average is 4.476190476190476\n",
      "New data [6, 5]\n",
      "Running average is 4.485849056603773\n",
      "New data [1, 8]\n",
      "Running average is 4.485981308411215\n",
      "New data [1, 4]\n",
      "Running average is 4.467592592592593\n",
      "New data [2, 3]\n",
      "Running average is 4.4495412844036695\n",
      "New data [4, 8]\n",
      "Running average is 4.463636363636364\n",
      "New data [9, 0]\n",
      "Running average is 4.463963963963964\n",
      "New data [3, 7]\n",
      "Running average is 4.46875\n",
      "New data [9, 2]\n",
      "Running average is 4.477876106194691\n",
      "New data [1, 6]\n",
      "Running average is 4.469298245614035\n",
      "New data [2, 7]\n",
      "Running average is 4.469565217391304\n",
      "New data [3, 6]\n",
      "Running average is 4.469827586206897\n",
      "New data [5, 2]\n",
      "Running average is 4.461538461538462\n",
      "New data [7, 6]\n",
      "Running average is 4.478813559322034\n",
      "New data [3, 7]\n",
      "Running average is 4.483193277310924\n",
      "New data [2, 8]\n",
      "Running average is 4.4875\n",
      "New data [4, 7]\n",
      "Running average is 4.4958677685950414\n",
      "New data [6, 8]\n",
      "Running average is 4.516393442622951\n",
      "New data [4, 5]\n",
      "Running average is 4.516260162601626\n",
      "New data [2, 5]\n",
      "Running average is 4.508064516129032\n",
      "New data [9, 7]\n",
      "Running average is 4.536\n",
      "New data [3, 2]\n",
      "Running average is 4.51984126984127\n",
      "New data [4, 5]\n",
      "Running average is 4.519685039370079\n",
      "New data [7, 4]\n",
      "Running average is 4.52734375\n",
      "New data [9, 1]\n",
      "Running average is 4.5310077519379846\n",
      "New data [2, 9]\n",
      "Running average is 4.538461538461538\n",
      "New data [4, 5]\n",
      "Running average is 4.538167938931298\n",
      "New data [3, 8]\n",
      "Running average is 4.545454545454546\n",
      "New data [2, 7]\n",
      "Running average is 4.545112781954887\n",
      "New data [6, 3]\n",
      "Running average is 4.544776119402985\n",
      "New data [9, 3]\n",
      "Running average is 4.555555555555555\n",
      "New data [9, 0]\n",
      "Running average is 4.555147058823529\n",
      "New data [6, 8]\n",
      "Running average is 4.572992700729927\n",
      "New data [9, 3]\n",
      "Running average is 4.583333333333333\n",
      "New data [2, 7]\n",
      "Running average is 4.58273381294964\n",
      "New data [9, 6]\n",
      "Running average is 4.603571428571429\n",
      "New data [9, 1]\n",
      "Running average is 4.6063829787234045\n",
      "New data [2, 0]\n",
      "Running average is 4.580985915492958\n",
      "New data [0, 3]\n",
      "Running average is 4.559440559440559\n",
      "New data [4, 6]\n",
      "Running average is 4.5625\n",
      "New data [9, 5]\n",
      "Running average is 4.5793103448275865\n",
      "New data [8, 9]\n",
      "Running average is 4.6061643835616435\n",
      "New data [2, 1]\n",
      "Running average is 4.585034013605442\n",
      "New data [1, 4]\n",
      "Running average is 4.570945945945946\n",
      "New data [4, 1]\n",
      "Running average is 4.557046979865772\n",
      "New data [6, 9]\n",
      "Running average is 4.576666666666667\n",
      "New data [8, 4]\n",
      "Running average is 4.586092715231788\n",
      "New data [5, 9]\n",
      "Running average is 4.6019736842105265\n",
      "New data [4, 8]\n",
      "Running average is 4.611111111111111\n",
      "New data [8, 4]\n",
      "Running average is 4.62012987012987\n",
      "New data [9, 5]\n",
      "Running average is 4.635483870967742\n",
      "New data [5, 3]\n",
      "Running average is 4.631410256410256\n",
      "New data [3, 0]\n",
      "Running average is 4.611464968152866\n",
      "New data [4, 2]\n",
      "Running average is 4.60126582278481\n",
      "New data [0, 1]\n",
      "Running average is 4.5754716981132075\n",
      "New data [3, 1]\n",
      "Running average is 4.559375\n",
      "New data [0, 2]\n",
      "Running average is 4.537267080745342\n",
      "New data [2, 8]\n",
      "Running average is 4.540123456790123\n",
      "New data [8, 3]\n",
      "Running average is 4.54601226993865\n",
      "New data [4, 7]\n",
      "Running average is 4.551829268292683\n",
      "New data [0, 6]\n",
      "Running average is 4.542424242424242\n",
      "New data [5, 0]\n",
      "Running average is 4.530120481927711\n",
      "New data [5, 9]\n",
      "Running average is 4.544910179640719\n",
      "New data [9, 8]\n",
      "Running average is 4.568452380952381\n",
      "New data [6, 2]\n",
      "Running average is 4.56508875739645\n",
      "New data [3, 9]\n",
      "Running average is 4.573529411764706\n",
      "New data [1, 8]\n",
      "Running average is 4.573099415204679\n",
      "New data [0, 6]\n",
      "Running average is 4.563953488372093\n",
      "New data [7, 9]\n",
      "Running average is 4.583815028901734\n",
      "New data [8, 7]\n",
      "Running average is 4.600574712643678\n",
      "New data [4, 1]\n",
      "Running average is 4.588571428571429\n",
      "New data [9, 2]\n",
      "Running average is 4.59375\n",
      "New data [7, 1]\n",
      "Running average is 4.590395480225989\n",
      "New data [8, 6]\n",
      "Running average is 4.603932584269663\n",
      "New data [3, 1]\n",
      "Running average is 4.589385474860335\n",
      "New data [2, 1]\n",
      "Running average is 4.572222222222222\n",
      "New data [0, 9]\n",
      "Running average is 4.571823204419889\n",
      "New data [6, 1]\n",
      "Running average is 4.565934065934066\n",
      "New data [9, 8]\n",
      "Running average is 4.587431693989071\n",
      "New data [9, 7]\n",
      "Running average is 4.605978260869565\n",
      "New data [7, 8]\n",
      "Running average is 4.621621621621622\n",
      "New data [8, 0]\n",
      "Running average is 4.618279569892473\n",
      "New data [2, 6]\n",
      "Running average is 4.614973262032086\n",
      "New data [7, 3]\n",
      "Running average is 4.617021276595745\n",
      "New data [6, 0]\n",
      "Running average is 4.608465608465608\n",
      "New data [1, 5]\n",
      "Running average is 4.6\n",
      "New data [7, 9]\n",
      "Running average is 4.617801047120419\n",
      "New data [9, 4]\n",
      "Running average is 4.627604166666667\n",
      "New data [7, 6]\n",
      "Running average is 4.637305699481865\n",
      "New data [5, 6]\n",
      "Running average is 4.641752577319588\n",
      "New data [9, 4]\n",
      "Running average is 4.651282051282052\n",
      "New data [8, 9]\n",
      "Running average is 4.670918367346939\n",
      "New data [3, 5]\n",
      "Running average is 4.66751269035533\n",
      "New data [0, 5]\n",
      "Running average is 4.656565656565657\n",
      "New data [3, 0]\n",
      "Running average is 4.64070351758794\n",
      "New data [9, 6]\n",
      "Running average is 4.655\n",
      "New data [7, 5]\n",
      "Running average is 4.661691542288557\n",
      "New data [3, 1]\n",
      "Running average is 4.648514851485149\n",
      "New data [3, 1]\n",
      "Running average is 4.635467980295567\n",
      "New data [5, 7]\n",
      "Running average is 4.642156862745098\n",
      "New data [8, 6]\n",
      "Running average is 4.6536585365853655\n",
      "New data [0, 2]\n",
      "Running average is 4.635922330097087\n",
      "New data [2, 9]\n",
      "Running average is 4.640096618357488\n",
      "New data [7, 6]\n",
      "Running average is 4.649038461538462\n",
      "New data [2, 5]\n",
      "Running average is 4.643540669856459\n",
      "New data [7, 4]\n",
      "Running average is 4.647619047619048\n",
      "New data [2, 3]\n",
      "Running average is 4.637440758293839\n",
      "New data [0, 1]\n",
      "Running average is 4.617924528301887\n",
      "New data [5, 8]\n",
      "Running average is 4.626760563380282\n",
      "New data [7, 2]\n",
      "Running average is 4.626168224299065\n",
      "New data [0, 7]\n",
      "Running average is 4.620930232558139\n",
      "New data [5, 8]\n",
      "Running average is 4.62962962962963\n",
      "New data [9, 6]\n",
      "Running average is 4.642857142857143\n",
      "New data [6, 9]\n",
      "Running average is 4.655963302752293\n",
      "New data [0, 8]\n",
      "Running average is 4.65296803652968\n",
      "New data [4, 7]\n",
      "Running average is 4.656818181818182\n",
      "New data [2, 3]\n",
      "Running average is 4.647058823529412\n",
      "New data [1, 0]\n",
      "Running average is 4.628378378378378\n",
      "New data [6, 7]\n",
      "Running average is 4.63677130044843\n",
      "New data [5, 6]\n",
      "Running average is 4.640625\n",
      "New data [3, 1]\n",
      "Running average is 4.628888888888889\n",
      "New data [0, 1]\n",
      "Running average is 4.610619469026549\n",
      "New data [0, 8]\n",
      "Running average is 4.607929515418502\n",
      "New data [7, 3]\n",
      "Running average is 4.609649122807017\n",
      "New data [6, 1]\n",
      "Running average is 4.604803493449782\n",
      "New data [3, 8]\n",
      "Running average is 4.608695652173913\n",
      "New data [6, 0]\n",
      "Running average is 4.6017316017316015\n",
      "New data [3, 8]\n",
      "Running average is 4.605603448275862\n",
      "New data [4, 0]\n",
      "Running average is 4.594420600858369\n",
      "New data [0, 8]\n",
      "Running average is 4.5918803418803416\n",
      "New data [6, 2]\n",
      "Running average is 4.589361702127659\n",
      "New data [6, 2]\n",
      "Running average is 4.586864406779661\n",
      "New data [8, 7]\n",
      "Running average is 4.59915611814346\n",
      "New data [8, 2]\n",
      "Running average is 4.600840336134453\n",
      "New data [2, 4]\n",
      "Running average is 4.594142259414226\n",
      "New data [3, 0]\n",
      "Running average is 4.58125\n",
      "New data [4, 3]\n",
      "Running average is 4.576763485477178\n",
      "New data [6, 0]\n",
      "Running average is 4.570247933884297\n",
      "New data [8, 2]\n",
      "Running average is 4.57201646090535\n",
      "New data [3, 1]\n",
      "Running average is 4.561475409836065\n",
      "New data [7, 2]\n",
      "Running average is 4.561224489795919\n",
      "New data [8, 5]\n",
      "Running average is 4.569105691056911\n",
      "New data [4, 3]\n",
      "Running average is 4.564777327935222\n",
      "New data [7, 8]\n",
      "Running average is 4.576612903225806\n",
      "New data [6, 3]\n",
      "Running average is 4.576305220883534\n",
      "New data [4, 2]\n",
      "Running average is 4.57\n",
      "New data [0, 7]\n",
      "Running average is 4.565737051792829\n",
      "New data [2, 0]\n",
      "Running average is 4.551587301587301\n",
      "New data [4, 7]\n",
      "Running average is 4.555335968379446\n",
      "New data [5, 1]\n",
      "Running average is 4.549212598425197\n",
      "New data [9, 0]\n",
      "Running average is 4.549019607843137\n",
      "New data [8, 9]\n",
      "Running average is 4.564453125\n",
      "New data [8, 4]\n",
      "Running average is 4.570038910505836\n",
      "New data [9, 4]\n",
      "Running average is 4.577519379844961\n",
      "New data [0, 7]\n",
      "Running average is 4.573359073359073\n",
      "New data [4, 9]\n",
      "Running average is 4.5807692307692305\n",
      "New data [8, 3]\n",
      "Running average is 4.584291187739463\n",
      "New data [9, 5]\n",
      "Running average is 4.593511450381679\n",
      "New data [0, 7]\n",
      "Running average is 4.5893536121673\n",
      "New data [0, 2]\n",
      "Running average is 4.575757575757576\n",
      "New data [1, 3]\n",
      "Running average is 4.566037735849057\n",
      "New data [3, 4]\n",
      "Running average is 4.56203007518797\n",
      "New data [0, 9]\n",
      "Running average is 4.561797752808989\n",
      "New data [8, 5]\n",
      "Running average is 4.5690298507462686\n",
      "New data [3, 5]\n",
      "Running average is 4.566914498141264\n",
      "New data [7, 5]\n",
      "Running average is 4.572222222222222\n",
      "New data [3, 8]\n",
      "Running average is 4.575645756457565\n",
      "New data [9, 5]\n",
      "Running average is 4.584558823529412\n",
      "New data [8, 2]\n",
      "Running average is 4.586080586080586\n",
      "New data [2, 6]\n",
      "Running average is 4.583941605839416\n",
      "New data [4, 6]\n",
      "Running average is 4.585454545454546\n",
      "New data [2, 4]\n",
      "Running average is 4.579710144927536\n",
      "New data [3, 8]\n",
      "Running average is 4.5830324909747295\n",
      "New data [7, 2]\n",
      "Running average is 4.58273381294964\n",
      "New data [6, 0]\n",
      "Running average is 4.577060931899641\n",
      "New data [0, 3]\n",
      "Running average is 4.566071428571429\n",
      "New data [2, 9]\n",
      "Running average is 4.569395017793594\n",
      "New data [9, 2]\n",
      "Running average is 4.572695035460993\n",
      "New data [2, 5]\n",
      "Running average is 4.568904593639576\n",
      "New data [1, 8]\n",
      "Running average is 4.568661971830986\n",
      "New data [7, 1]\n",
      "Running average is 4.566666666666666\n",
      "New data [3, 5]\n",
      "Running average is 4.564685314685315\n",
      "New data [5, 3]\n",
      "Running average is 4.562717770034843\n",
      "New data [7, 2]\n",
      "Running average is 4.5625\n",
      "New data [4, 5]\n",
      "Running average is 4.562283737024221\n",
      "New data [5, 8]\n",
      "Running average is 4.568965517241379\n",
      "New data [8, 5]\n",
      "Running average is 4.5756013745704465\n",
      "New data [3, 8]\n",
      "Running average is 4.578767123287672\n",
      "New data [0, 7]\n",
      "Running average is 4.575085324232082\n",
      "New data [5, 0]\n",
      "Running average is 4.568027210884353\n",
      "New data [2, 5]\n",
      "Running average is 4.564406779661017\n",
      "New data [9, 5]\n",
      "Running average is 4.572635135135135\n",
      "New data [8, 3]\n",
      "Running average is 4.575757575757576\n",
      "New data [0, 8]\n",
      "Running average is 4.573825503355705\n",
      "New data [8, 1]\n",
      "Running average is 4.573578595317726\n",
      "New data [9, 4]\n",
      "Running average is 4.58\n",
      "New data [5, 3]\n",
      "Running average is 4.578073089700997\n",
      "New data [9, 2]\n",
      "Running average is 4.58112582781457\n",
      "New data [6, 2]\n",
      "Running average is 4.579207920792079\n",
      "New data [1, 6]\n",
      "Running average is 4.5756578947368425\n",
      "New data [7, 3]\n",
      "Running average is 4.577049180327869\n",
      "New data [1, 0]\n",
      "Running average is 4.563725490196078\n",
      "New data [1, 2]\n",
      "Running average is 4.5537459283387625\n",
      "New data [8, 2]\n",
      "Running average is 4.555194805194805\n",
      "New data [5, 9]\n",
      "Running average is 4.563106796116505\n",
      "New data [6, 1]\n",
      "Running average is 4.559677419354839\n",
      "New data [9, 4]\n",
      "Running average is 4.565916398713826\n",
      "New data [0, 5]\n",
      "Running average is 4.559294871794871\n",
      "New data [2, 5]\n",
      "Running average is 4.555910543130991\n",
      "New data [7, 4]\n",
      "Running average is 4.558917197452229\n",
      "New data [1, 9]\n",
      "Running average is 4.56031746031746\n",
      "New data [4, 1]\n",
      "Running average is 4.55379746835443\n",
      "New data [9, 3]\n",
      "Running average is 4.558359621451104\n",
      "New data [1, 0]\n",
      "Running average is 4.54559748427673\n",
      "New data [6, 8]\n",
      "Running average is 4.553291536050157\n",
      "New data [7, 9]\n",
      "Running average is 4.5640625\n",
      "New data [7, 9]\n",
      "Running average is 4.574766355140187\n",
      "New data [0, 8]\n",
      "Running average is 4.5729813664596275\n",
      "New data [9, 6]\n",
      "Running average is 4.58204334365325\n",
      "New data [5, 0]\n",
      "Running average is 4.575617283950617\n",
      "New data [8, 3]\n",
      "Running average is 4.578461538461538\n",
      "New data [8, 5]\n",
      "Running average is 4.5843558282208585\n",
      "New data [9, 2]\n",
      "Running average is 4.587155963302752\n",
      "New data [9, 7]\n",
      "Running average is 4.597560975609756\n",
      "New data [4, 1]\n",
      "Running average is 4.591185410334346\n",
      "New data [2, 3]\n",
      "Running average is 4.584848484848485\n",
      "New data [6, 1]\n",
      "Running average is 4.581570996978852\n",
      "New data [0, 4]\n",
      "Running average is 4.573795180722891\n",
      "New data [0, 3]\n",
      "Running average is 4.564564564564565\n",
      "New data [9, 6]\n",
      "Running average is 4.573353293413174\n",
      "New data [4, 2]\n",
      "Running average is 4.568656716417911\n",
      "New data [7, 5]\n",
      "Running average is 4.572916666666667\n",
      "New data [3, 9]\n",
      "Running average is 4.577151335311573\n",
      "New data [4, 2]\n",
      "Running average is 4.572485207100592\n",
      "New data [7, 1]\n",
      "Running average is 4.570796460176991\n",
      "New data [8, 0]\n",
      "Running average is 4.569117647058824\n",
      "New data [7, 8]\n",
      "Running average is 4.577712609970675\n",
      "New data [7, 3]\n",
      "Running average is 4.578947368421052\n",
      "New data [2, 8]\n",
      "Running average is 4.580174927113703\n",
      "New data [6, 3]\n",
      "Running average is 4.579941860465116\n",
      "New data [0, 6]\n",
      "Running average is 4.57536231884058\n",
      "New data [0, 9]\n",
      "Running average is 4.57514450867052\n",
      "New data [2, 9]\n",
      "Running average is 4.577809798270893\n",
      "New data [1, 8]\n",
      "Running average is 4.577586206896552\n",
      "New data [9, 2]\n",
      "Running average is 4.580229226361031\n",
      "New data [1, 6]\n",
      "Running average is 4.577142857142857\n",
      "New data [4, 1]\n",
      "Running average is 4.571225071225071\n",
      "New data [2, 7]\n",
      "Running average is 4.5710227272727275\n",
      "New data [6, 2]\n",
      "Running average is 4.569405099150142\n",
      "New data [1, 8]\n",
      "Running average is 4.5692090395480225\n",
      "New data [4, 3]\n",
      "Running average is 4.566197183098591\n",
      "New data [6, 4]\n",
      "Running average is 4.567415730337078\n",
      "New data [4, 5]\n",
      "Running average is 4.567226890756302\n",
      "New data [3, 8]\n",
      "Running average is 4.569832402234637\n",
      "New data [6, 2]\n",
      "Running average is 4.56824512534819\n",
      "New data [5, 9]\n",
      "Running average is 4.575\n",
      "New data [7, 8]\n",
      "Running average is 4.583102493074792\n",
      "New data [6, 2]\n",
      "Running average is 4.581491712707182\n",
      "New data [4, 3]\n",
      "Running average is 4.578512396694215\n",
      "New data [1, 8]\n",
      "Running average is 4.5782967032967035\n",
      "New data [5, 9]\n",
      "Running average is 4.5849315068493155\n",
      "New data [5, 8]\n",
      "Running average is 4.590163934426229\n",
      "New data [1, 4]\n",
      "Running average is 4.584468664850136\n",
      "New data [9, 1]\n",
      "Running average is 4.585597826086956\n",
      "New data [7, 9]\n",
      "Running average is 4.594850948509485\n",
      "New data [5, 1]\n",
      "Running average is 4.59054054054054\n",
      "New data [7, 3]\n",
      "Running average is 4.591644204851752\n",
      "New data [3, 4]\n",
      "Running average is 4.588709677419355\n",
      "New data [9, 2]\n",
      "Running average is 4.591152815013404\n",
      "New data [7, 5]\n",
      "Running average is 4.5949197860962565\n",
      "New data [0, 5]\n",
      "Running average is 4.589333333333333\n",
      "New data [8, 9]\n",
      "Running average is 4.599734042553192\n",
      "New data [9, 1]\n",
      "Running average is 4.60079575596817\n",
      "New data [3, 2]\n",
      "Running average is 4.595238095238095\n",
      "New data [7, 2]\n",
      "Running average is 4.594986807387863\n",
      "New data [0, 9]\n",
      "Running average is 4.594736842105263\n",
      "New data [3, 5]\n",
      "Running average is 4.593175853018373\n",
      "New data [2, 3]\n",
      "Running average is 4.587696335078534\n",
      "New data [0, 4]\n",
      "Running average is 4.580939947780679\n",
      "New data [5, 8]\n",
      "Running average is 4.5859375\n",
      "New data [5, 9]\n",
      "Running average is 4.592207792207792\n",
      "New data [0, 8]\n",
      "Running average is 4.590673575129534\n",
      "New data [9, 2]\n",
      "Running average is 4.593023255813954\n",
      "New data [8, 4]\n",
      "Running average is 4.596649484536083\n",
      "New data [1, 2]\n",
      "Running average is 4.5886889460154245\n",
      "New data [3, 2]\n",
      "Running average is 4.583333333333333\n",
      "New data [7, 5]\n",
      "Running average is 4.586956521739131\n",
      "New data [6, 0]\n",
      "Running average is 4.582908163265306\n",
      "New data [5, 6]\n",
      "Running average is 4.585241730279898\n",
      "New data [9, 5]\n",
      "Running average is 4.591370558375634\n",
      "New data [7, 6]\n",
      "Running average is 4.596202531645569\n",
      "New data [7, 5]\n",
      "Running average is 4.599747474747475\n",
      "New data [7, 3]\n",
      "Running average is 4.600755667506297\n",
      "New data [8, 1]\n",
      "Running average is 4.600502512562814\n",
      "New data [8, 3]\n",
      "Running average is 4.602756892230577\n",
      "New data [2, 8]\n",
      "Running average is 4.60375\n",
      "New data [8, 3]\n",
      "Running average is 4.605985037406484\n",
      "New data [6, 4]\n",
      "Running average is 4.606965174129353\n",
      "New data [2, 9]\n",
      "Running average is 4.609181141439206\n",
      "New data [4, 2]\n",
      "Running average is 4.60519801980198\n",
      "New data [0, 8]\n",
      "Running average is 4.603703703703704\n",
      "New data [9, 0]\n",
      "Running average is 4.603448275862069\n",
      "New data [7, 4]\n",
      "Running average is 4.605651105651106\n",
      "New data [3, 4]\n",
      "Running average is 4.602941176470588\n",
      "New data [4, 5]\n",
      "Running average is 4.602689486552567\n",
      "New data [8, 2]\n",
      "Running average is 4.603658536585366\n",
      "New data [4, 1]\n",
      "Running average is 4.598540145985401\n",
      "New data [4, 5]\n",
      "Running average is 4.598300970873787\n",
      "New data [5, 8]\n",
      "Running average is 4.602905569007264\n",
      "New data [7, 9]\n",
      "Running average is 4.611111111111111\n",
      "New data [1, 7]\n",
      "Running average is 4.609638554216867\n",
      "New data [1, 0]\n",
      "Running average is 4.599759615384615\n",
      "New data [4, 2]\n",
      "Running average is 4.595923261390888\n",
      "New data [5, 2]\n",
      "Running average is 4.5933014354066986\n",
      "New data [0, 2]\n",
      "Running average is 4.58472553699284\n",
      "New data [3, 2]\n",
      "Running average is 4.579761904761905\n",
      "New data [1, 5]\n",
      "Running average is 4.576009501187649\n",
      "New data [6, 8]\n",
      "Running average is 4.581753554502369\n",
      "New data [2, 4]\n",
      "Running average is 4.578014184397163\n",
      "New data [9, 1]\n",
      "Running average is 4.5790094339622645\n",
      "New data [4, 3]\n",
      "Running average is 4.576470588235294\n",
      "New data [2, 7]\n",
      "Running average is 4.576291079812207\n",
      "New data [2, 6]\n",
      "Running average is 4.574941451990632\n",
      "New data [8, 0]\n",
      "Running average is 4.5735981308411215\n",
      "New data [0, 6]\n",
      "Running average is 4.56993006993007\n",
      "New data [9, 6]\n",
      "Running average is 4.576744186046511\n",
      "New data [9, 0]\n",
      "Running average is 4.576566125290023\n",
      "New data [6, 5]\n",
      "Running average is 4.578703703703703\n",
      "New data [2, 4]\n",
      "Running average is 4.575057736720554\n",
      "New data [1, 8]\n",
      "Running average is 4.574884792626728\n",
      "New data [8, 4]\n",
      "Running average is 4.57816091954023\n",
      "New data [3, 4]\n",
      "Running average is 4.575688073394495\n",
      "New data [6, 4]\n",
      "Running average is 4.576659038901602\n",
      "New data [0, 8]\n",
      "Running average is 4.575342465753424\n",
      "New data [0, 6]\n",
      "Running average is 4.571753986332574\n",
      "New data [3, 2]\n",
      "Running average is 4.567045454545455\n",
      "New data [1, 0]\n",
      "Running average is 4.557823129251701\n",
      "New data [6, 4]\n"
     ]
    },
    {
     "name": "stdout",
     "output_type": "stream",
     "text": [
      "Running average is 4.5588235294117645\n",
      "New data [0, 8]\n",
      "Running average is 4.557562076749436\n",
      "New data [2, 5]\n",
      "Running average is 4.55518018018018\n",
      "New data [8, 1]\n",
      "Running average is 4.555056179775281\n",
      "New data [5, 6]\n",
      "Running average is 4.557174887892376\n",
      "New data [2, 6]\n",
      "Running average is 4.55592841163311\n",
      "New data [5, 0]\n",
      "Running average is 4.551339285714286\n",
      "New data [4, 6]\n",
      "Running average is 4.552338530066815\n",
      "New data [7, 9]\n",
      "Running average is 4.56\n",
      "New data [4, 1]\n",
      "Running average is 4.5554323725055434\n",
      "New data [3, 1]\n",
      "Running average is 4.549778761061947\n",
      "New data [1, 8]\n",
      "Running average is 4.549668874172186\n",
      "New data [5, 3]\n",
      "Running average is 4.548458149779735\n",
      "New data [2, 9]\n",
      "Running average is 4.55054945054945\n",
      "New data [9, 2]\n",
      "Running average is 4.552631578947368\n",
      "New data [2, 0]\n",
      "Running average is 4.544857768052516\n",
      "New data [7, 4]\n",
      "Running average is 4.546943231441048\n",
      "New data [1, 2]\n",
      "Running average is 4.540305010893246\n",
      "New data [1, 2]\n",
      "Running average is 4.533695652173913\n",
      "New data [9, 5]\n",
      "Running average is 4.539045553145336\n",
      "New data [9, 0]\n",
      "Running average is 4.538961038961039\n",
      "New data [1, 4]\n",
      "Running average is 4.5345572354211665\n",
      "New data [5, 6]\n",
      "Running average is 4.536637931034483\n",
      "New data [6, 8]\n",
      "Running average is 4.541935483870968\n",
      "New data [6, 8]\n",
      "Running average is 4.547210300429184\n",
      "New data [8, 6]\n",
      "Running average is 4.552462526766595\n",
      "New data [0, 8]\n",
      "Running average is 4.551282051282051\n",
      "New data [3, 2]\n",
      "Running average is 4.546908315565032\n",
      "New data [7, 3]\n",
      "Running average is 4.547872340425532\n",
      "New data [3, 5]\n",
      "Running average is 4.546709129511678\n",
      "New data [8, 9]\n",
      "Running average is 4.555084745762712\n",
      "New data [5, 0]\n",
      "Running average is 4.550739957716702\n",
      "New data [6, 4]\n",
      "Running average is 4.551687763713081\n",
      "New data [2, 3]\n",
      "Running average is 4.5473684210526315\n",
      "New data [9, 4]\n",
      "Running average is 4.551470588235294\n",
      "New data [5, 4]\n",
      "Running average is 4.551362683438155\n",
      "New data [1, 8]\n",
      "Running average is 4.551255230125523\n",
      "New data [4, 1]\n",
      "Running average is 4.546972860125261\n",
      "New data [3, 5]\n",
      "Running average is 4.545833333333333\n",
      "New data [4, 3]\n",
      "Running average is 4.543659043659043\n",
      "New data [5, 9]\n",
      "Running average is 4.5487551867219915\n",
      "New data [4, 0]\n",
      "Running average is 4.543478260869565\n",
      "New data [1, 7]\n",
      "Running average is 4.542355371900826\n",
      "New data [6, 3]\n",
      "Running average is 4.542268041237113\n",
      "New data [5, 1]\n",
      "Running average is 4.539094650205762\n",
      "New data [7, 0]\n",
      "Running average is 4.536960985626283\n",
      "New data [9, 2]\n",
      "Running average is 4.538934426229508\n",
      "New data [3, 4]\n",
      "Running average is 4.53680981595092\n",
      "New data [8, 4]\n",
      "Running average is 4.539795918367347\n",
      "New data [9, 0]\n",
      "Running average is 4.539714867617108\n",
      "New data [1, 7]\n",
      "Running average is 4.538617886178862\n",
      "New data [7, 2]\n",
      "Running average is 4.5385395537525355\n",
      "New data [3, 5]\n",
      "Running average is 4.537449392712551\n",
      "New data [6, 3]\n",
      "Running average is 4.537373737373738\n",
      "New data [2, 7]\n",
      "Running average is 4.537298387096774\n",
      "New data [9, 3]\n",
      "Running average is 4.540241448692153\n",
      "New data [7, 5]\n",
      "Running average is 4.543172690763052\n",
      "New data [8, 9]\n",
      "Running average is 4.551102204408818\n",
      "New data [4, 8]\n",
      "Running average is 4.554\n",
      "New data [4, 6]\n",
      "Running average is 4.554890219560878\n",
      "New data [7, 6]\n",
      "Running average is 4.558764940239044\n",
      "New data [0, 4]\n",
      "Running average is 4.5536779324055665\n",
      "New data [7, 3]\n",
      "Running average is 4.554563492063492\n",
      "New data [5, 4]\n",
      "Running average is 4.554455445544554\n",
      "New data [3, 6]\n",
      "Running average is 4.554347826086956\n",
      "New data [6, 0]\n",
      "Running average is 4.551282051282051\n",
      "New data [4, 3]\n",
      "Running average is 4.549212598425197\n",
      "New data [1, 0]\n",
      "Running average is 4.541257367387034\n",
      "New data [7, 9]\n",
      "Running average is 4.548039215686274\n",
      "New data [1, 3]\n",
      "Running average is 4.543052837573385\n",
      "New data [5, 2]\n",
      "Running average is 4.541015625\n",
      "New data [5, 9]\n",
      "Running average is 4.545808966861599\n",
      "New data [2, 6]\n",
      "Running average is 4.544747081712062\n",
      "New data [7, 1]\n",
      "Running average is 4.543689320388349\n",
      "New data [3, 7]\n",
      "Running average is 4.544573643410852\n",
      "New data [8, 0]\n",
      "Running average is 4.543520309477756\n",
      "New data [4, 3]\n",
      "Running average is 4.5415057915057915\n",
      "New data [3, 0]\n",
      "Running average is 4.535645472061657\n",
      "New data [2, 6]\n",
      "Running average is 4.5346153846153845\n",
      "New data [4, 8]\n",
      "Running average is 4.537428023032629\n",
      "New data [8, 2]\n",
      "Running average is 4.538314176245211\n",
      "New data [6, 3]\n",
      "Running average is 4.538240917782026\n",
      "New data [0, 2]\n",
      "Running average is 4.531488549618321\n",
      "New data [2, 0]\n",
      "Running average is 4.524761904761904\n",
      "New data [2, 6]\n",
      "Running average is 4.523764258555133\n",
      "New data [4, 6]\n",
      "Running average is 4.524667931688804\n",
      "New data [0, 4]\n",
      "Running average is 4.519886363636363\n",
      "New data [7, 8]\n",
      "Running average is 4.525519848771267\n",
      "New data [8, 5]\n",
      "Running average is 4.529245283018868\n",
      "New data [6, 2]\n",
      "Running average is 4.528248587570621\n",
      "New data [7, 0]\n",
      "Running average is 4.526315789473684\n",
      "New data [5, 0]\n",
      "Running average is 4.522514071294559\n",
      "New data [6, 3]\n",
      "Running average is 4.522471910112359\n",
      "New data [4, 7]\n",
      "Running average is 4.524299065420561\n",
      "New data [0, 5]\n",
      "Running average is 4.520522388059701\n",
      "New data [5, 0]\n",
      "Running average is 4.516759776536313\n",
      "New data [8, 3]\n",
      "Running average is 4.518587360594796\n",
      "New data [2, 1]\n",
      "Running average is 4.512987012987013\n",
      "New data [9, 7]\n",
      "Running average is 4.519444444444445\n",
      "New data [6, 5]\n",
      "Running average is 4.521256931608133\n",
      "New data [6, 4]\n",
      "Running average is 4.522140221402214\n",
      "New data [0, 7]\n",
      "Running average is 4.520257826887661\n",
      "New data [9, 3]\n",
      "Running average is 4.522977941176471\n",
      "New data [1, 3]\n",
      "Running average is 4.518348623853211\n",
      "New data [5, 6]\n",
      "Running average is 4.52014652014652\n",
      "New data [7, 4]\n",
      "Running average is 4.521937842778794\n",
      "New data [8, 1]\n",
      "Running average is 4.521897810218978\n",
      "New data [1, 9]\n",
      "Running average is 4.522768670309654\n",
      "New data [5, 6]\n",
      "Running average is 4.524545454545454\n",
      "New data [2, 0]\n",
      "Running average is 4.518148820326679\n",
      "New data [1, 6]\n",
      "Running average is 4.516304347826087\n",
      "New data [5, 9]\n",
      "Running average is 4.520795660036167\n",
      "New data [4, 5]\n",
      "Running average is 4.520758122743683\n",
      "New data [8, 2]\n",
      "Running average is 4.521621621621621\n",
      "New data [9, 3]\n",
      "Running average is 4.524280575539568\n",
      "New data [2, 9]\n",
      "Running average is 4.526032315978456\n",
      "New data [7, 1]\n",
      "Running average is 4.525089605734767\n",
      "New data [4, 8]\n",
      "Running average is 4.52772808586762\n",
      "New data [1, 6]\n",
      "Running average is 4.525892857142857\n",
      "New data [5, 2]\n",
      "Running average is 4.524064171122995\n",
      "New data [0, 3]\n",
      "Running average is 4.5186832740213525\n",
      "New data [7, 3]\n",
      "Running average is 4.519538188277087\n",
      "New data [0, 9]\n",
      "Running average is 4.5195035460992905\n",
      "New data [9, 7]\n",
      "Running average is 4.525663716814159\n",
      "New data [3, 2]\n",
      "Running average is 4.52208480565371\n",
      "New data [4, 7]\n",
      "Running average is 4.523809523809524\n",
      "New data [8, 6]\n",
      "Running average is 4.528169014084507\n",
      "New data [1, 2]\n",
      "Running average is 4.522847100175747\n",
      "New data [6, 3]\n",
      "Running average is 4.52280701754386\n",
      "New data [5, 2]\n",
      "Running average is 4.521015761821366\n",
      "New data [1, 6]\n",
      "Running average is 4.519230769230769\n",
      "New data [2, 3]\n",
      "Running average is 4.515706806282722\n",
      "New data [3, 4]\n",
      "Running average is 4.513937282229965\n",
      "New data [3, 6]\n",
      "Running average is 4.513913043478261\n",
      "New data [2, 5]\n",
      "Running average is 4.512152777777778\n",
      "New data [6, 5]\n",
      "Running average is 4.513864818024263\n",
      "New data [7, 9]\n",
      "Running average is 4.519896193771626\n",
      "New data [6, 7]\n",
      "Running average is 4.523316062176166\n",
      "New data [9, 2]\n",
      "Running average is 4.525\n",
      "New data [5, 4]\n",
      "Running average is 4.524956970740103\n",
      "New data [6, 9]\n",
      "Running average is 4.530068728522337\n",
      "New data [7, 2]\n",
      "Running average is 4.530017152658662\n",
      "New data [1, 6]\n",
      "Running average is 4.528253424657534\n",
      "New data [4, 1]\n",
      "Running average is 4.524786324786325\n",
      "New data [0, 4]\n",
      "Running average is 4.520477815699659\n",
      "New data [5, 4]\n",
      "Running average is 4.5204429301533215\n",
      "New data [4, 3]\n",
      "Running average is 4.5187074829931975\n",
      "New data [0, 8]\n",
      "Running average is 4.517826825127335\n",
      "New data [0, 5]\n",
      "Running average is 4.514406779661017\n",
      "New data [6, 3]\n",
      "Running average is 4.514382402707276\n",
      "New data [2, 0]\n",
      "Running average is 4.508445945945946\n",
      "New data [9, 2]\n",
      "Running average is 4.510118043844857\n",
      "New data [6, 9]\n",
      "Running average is 4.515151515151516\n",
      "New data [5, 8]\n",
      "Running average is 4.518487394957983\n",
      "New data [2, 1]\n",
      "Running average is 4.5134228187919465\n",
      "New data [1, 9]\n",
      "Running average is 4.514237855946399\n",
      "New data [7, 1]\n",
      "Running average is 4.513377926421405\n",
      "New data [5, 9]\n",
      "Running average is 4.517529215358931\n",
      "New data [6, 4]\n",
      "Running average is 4.5183333333333335\n",
      "New data [5, 1]\n",
      "Running average is 4.515806988352746\n",
      "New data [6, 5]\n",
      "Running average is 4.517441860465116\n",
      "New data [2, 8]\n",
      "Running average is 4.518242122719735\n",
      "New data [9, 5]\n",
      "Running average is 4.522350993377484\n",
      "New data [4, 9]\n",
      "Running average is 4.525619834710744\n",
      "New data [2, 1]\n",
      "Running average is 4.520627062706271\n",
      "New data [0, 8]\n",
      "Running average is 4.519769357495881\n",
      "New data [6, 0]\n",
      "Running average is 4.517269736842105\n",
      "New data [6, 3]\n",
      "Running average is 4.517241379310345\n",
      "New data [2, 4]\n",
      "Running average is 4.5147540983606556\n",
      "New data [9, 8]\n",
      "Running average is 4.5212765957446805\n",
      "New data [8, 7]\n",
      "Running average is 4.526143790849673\n",
      "New data [3, 2]\n",
      "Running average is 4.522838499184339\n",
      "New data [6, 8]\n",
      "Running average is 4.526872964169381\n",
      "New data [3, 1]\n",
      "Running average is 4.522764227642276\n",
      "New data [4, 6]\n",
      "Running average is 4.523538961038961\n",
      "New data [4, 8]\n",
      "Running average is 4.525931928687196\n",
      "New data [3, 4]\n",
      "Running average is 4.524271844660194\n",
      "New data [7, 8]\n",
      "Running average is 4.52907915993538\n",
      "New data [2, 6]\n",
      "Running average is 4.528225806451613\n",
      "New data [0, 8]\n",
      "Running average is 4.527375201288245\n",
      "New data [5, 2]\n",
      "Running average is 4.52572347266881\n",
      "New data [0, 3]\n",
      "Running average is 4.520866773675762\n",
      "New data [0, 2]\n",
      "Running average is 4.515224358974359\n",
      "New data [5, 6]\n",
      "Running average is 4.5168\n",
      "New data [1, 4]\n",
      "Running average is 4.513578274760383\n",
      "New data [8, 3]\n",
      "Running average is 4.515151515151516\n",
      "New data [1, 0]\n",
      "Running average is 4.50875796178344\n",
      "New data [5, 0]\n",
      "Running average is 4.505564387917329\n",
      "New data [5, 8]\n",
      "Running average is 4.508730158730159\n",
      "New data [6, 9]\n",
      "Running average is 4.513470681458003\n",
      "New data [2, 5]\n",
      "Running average is 4.511867088607595\n",
      "New data [9, 3]\n",
      "Running average is 4.514218009478673\n",
      "New data [9, 5]\n",
      "Running average is 4.51813880126183\n",
      "New data [6, 3]\n",
      "Running average is 4.518110236220473\n",
      "New data [8, 7]\n",
      "Running average is 4.522798742138365\n",
      "New data [6, 5]\n",
      "Running average is 4.524332810047095\n",
      "New data [7, 2]\n",
      "Running average is 4.524294670846395\n",
      "New data [9, 3]\n",
      "Running average is 4.52660406885759\n",
      "New data [8, 9]\n",
      "Running average is 4.5328125\n",
      "New data [4, 0]\n",
      "Running average is 4.528861154446178\n",
      "New data [8, 3]\n",
      "Running average is 4.530373831775701\n",
      "New data [5, 3]\n",
      "Running average is 4.529548989113531\n",
      "New data [4, 2]\n",
      "Running average is 4.5271739130434785\n",
      "New data [5, 4]\n",
      "Running average is 4.5271317829457365\n",
      "New data [0, 1]\n",
      "Running average is 4.5208978328173375\n",
      "New data [2, 1]\n",
      "Running average is 4.516228748068007\n",
      "New data [8, 5]\n",
      "Running average is 4.51929012345679\n",
      "New data [9, 8]\n",
      "Running average is 4.52542372881356\n",
      "New data [6, 3]\n",
      "Running average is 4.525384615384615\n",
      "New data [2, 8]\n",
      "Running average is 4.5261136712749614\n",
      "New data [9, 2]\n",
      "Running average is 4.52760736196319\n",
      "New data [3, 9]\n",
      "Running average is 4.5298621745788665\n",
      "New data [7, 5]\n",
      "Running average is 4.532110091743119\n",
      "New data [5, 4]\n",
      "Running average is 4.53206106870229\n",
      "New data [5, 0]\n",
      "Running average is 4.528963414634147\n",
      "New data [9, 7]\n",
      "Running average is 4.534246575342466\n",
      "New data [7, 1]\n",
      "Running average is 4.533434650455927\n",
      "New data [1, 8]\n",
      "Running average is 4.533383915022762\n",
      "New data [1, 0]\n",
      "Running average is 4.527272727272727\n",
      "New data [7, 6]\n",
      "Running average is 4.530257186081695\n",
      "New data [2, 5]\n",
      "Running average is 4.528700906344411\n",
      "New data [3, 0]\n",
      "Running average is 4.524132730015083\n",
      "New data [2, 8]\n",
      "Running average is 4.524849397590361\n",
      "New data [0, 3]\n",
      "Running average is 4.5203007518797\n",
      "New data [5, 1]\n",
      "Running average is 4.518018018018018\n",
      "New data [7, 1]\n",
      "Running average is 4.517241379310345\n",
      "New data [4, 6]\n",
      "Running average is 4.517964071856287\n",
      "New data [9, 2]\n",
      "Running average is 4.519431988041854\n",
      "New data [2, 6]\n",
      "Running average is 4.518656716417911\n",
      "New data [1, 7]\n",
      "Running average is 4.517883755588674\n",
      "New data [8, 3]\n",
      "Running average is 4.519345238095238\n",
      "New data [4, 1]\n",
      "Running average is 4.516344725111441\n",
      "New data [0, 1]\n",
      "Running average is 4.510385756676558\n",
      "New data [1, 3]\n",
      "Running average is 4.506666666666667\n",
      "New data [4, 3]\n",
      "Running average is 4.5051775147929\n",
      "New data [4, 7]\n",
      "Running average is 4.506646971935007\n",
      "New data [4, 9]\n",
      "Running average is 4.509587020648968\n",
      "New data [4, 2]\n",
      "Running average is 4.507363770250368\n",
      "New data [5, 7]\n",
      "Running average is 4.509558823529412\n",
      "New data [9, 3]\n",
      "Running average is 4.511747430249633\n",
      "New data [4, 2]\n",
      "Running average is 4.5095307917888565\n",
      "New data [7, 2]\n",
      "Running average is 4.509516837481699\n",
      "New data [8, 7]\n",
      "Running average is 4.513888888888889\n",
      "New data [0, 7]\n",
      "Running average is 4.512408759124088\n",
      "New data [3, 5]\n",
      "Running average is 4.511661807580175\n",
      "New data [6, 8]\n",
      "Running average is 4.5152838427947595\n",
      "New data [9, 2]\n",
      "Running average is 4.5167151162790695\n",
      "New data [2, 3]\n",
      "Running average is 4.513788098693759\n",
      "New data [5, 0]\n",
      "Running average is 4.510869565217392\n",
      "New data [0, 2]\n",
      "Running average is 4.505788712011578\n",
      "New data [8, 9]\n",
      "Running average is 4.511560693641618\n",
      "New data [2, 1]\n",
      "Running average is 4.507215007215007\n",
      "New data [8, 4]\n",
      "Running average is 4.509365994236311\n",
      "New data [9, 8]\n",
      "Running average is 4.515107913669064\n",
      "New data [7, 5]\n",
      "Running average is 4.517241379310345\n",
      "New data [2, 5]\n",
      "Running average is 4.5157819225251075\n",
      "New data [1, 6]\n",
      "Running average is 4.51432664756447\n",
      "New data [5, 2]\n",
      "Running average is 4.512875536480687\n",
      "New data [1, 8]\n",
      "Running average is 4.5128571428571425\n",
      "New data [7, 8]\n",
      "Running average is 4.5171184022824535\n",
      "New data [2, 5]\n",
      "Running average is 4.515669515669516\n",
      "New data [5, 8]\n",
      "Running average is 4.518492176386913\n",
      "New data [8, 5]\n",
      "Running average is 4.521306818181818\n",
      "New data [9, 7]\n",
      "Running average is 4.526241134751773\n",
      "New data [8, 6]\n",
      "Running average is 4.529745042492918\n",
      "New data [9, 0]\n",
      "Running average is 4.52970297029703\n",
      "New data [9, 6]\n",
      "Running average is 4.533898305084746\n",
      "New data [2, 6]\n",
      "Running average is 4.5331452750352605\n",
      "New data [7, 8]\n",
      "Running average is 4.5373239436619714\n",
      "New data [9, 8]\n",
      "Running average is 4.542897327707454\n",
      "New data [1, 6]\n",
      "Running average is 4.541432584269663\n",
      "New data [5, 7]\n",
      "Running average is 4.543478260869565\n",
      "New data [5, 4]\n",
      "Running average is 4.543417366946779\n",
      "New data [5, 4]\n",
      "Running average is 4.543356643356644\n",
      "New data [6, 5]\n",
      "Running average is 4.544692737430168\n",
      "New data [3, 2]\n",
      "Running average is 4.541841004184101\n",
      "New data [0, 1]\n",
      "Running average is 4.536211699164346\n",
      "New data [5, 9]\n",
      "Running average is 4.5396383866481225\n",
      "New data [7, 5]\n",
      "Running average is 4.541666666666667\n",
      "New data [0, 2]\n",
      "Running average is 4.536754507628294\n",
      "New data [1, 7]\n",
      "Running average is 4.53601108033241\n",
      "New data [5, 9]\n",
      "Running average is 4.539419087136929\n",
      "New data [6, 3]\n",
      "Running average is 4.539364640883978\n",
      "New data [7, 8]\n",
      "Running average is 4.543448275862069\n",
      "New data [0, 7]\n",
      "Running average is 4.542011019283747\n",
      "New data [3, 7]\n",
      "Running average is 4.542640990371389\n",
      "New data [0, 5]\n",
      "Running average is 4.539835164835165\n",
      "New data [2, 1]\n",
      "Running average is 4.535665294924554\n",
      "New data [7, 4]\n",
      "Running average is 4.536986301369863\n",
      "New data [4, 9]\n",
      "Running average is 4.539671682626539\n",
      "New data [8, 0]\n",
      "Running average is 4.538934426229508\n",
      "New data [5, 1]\n",
      "Running average is 4.536834924965894\n",
      "New data [7, 5]\n",
      "Running average is 4.5388283378746594\n",
      "New data [7, 1]\n",
      "Running average is 4.538095238095238\n",
      "New data [3, 9]\n",
      "Running average is 4.540081521739131\n",
      "New data [2, 1]\n",
      "Running average is 4.5359565807327\n",
      "New data [9, 5]\n",
      "Running average is 4.53929539295393\n",
      "New data [7, 6]\n",
      "Running average is 4.541948579161028\n",
      "New data [2, 6]\n",
      "Running average is 4.541216216216216\n",
      "New data [4, 6]\n",
      "Running average is 4.541835357624831\n",
      "New data [2, 6]\n",
      "Running average is 4.541105121293801\n",
      "New data [2, 5]\n",
      "Running average is 4.539703903095559\n",
      "New data [0, 6]\n",
      "Running average is 4.537634408602151\n",
      "New data [4, 1]\n",
      "Running average is 4.53489932885906\n",
      "New data [2, 7]\n",
      "Running average is 4.53485254691689\n",
      "New data [1, 7]\n",
      "Running average is 4.534136546184739\n",
      "New data [9, 6]\n",
      "Running average is 4.538101604278075\n",
      "New data [3, 2]\n",
      "Running average is 4.535380507343124\n",
      "New data [6, 7]\n",
      "Running average is 4.538\n",
      "New data [2, 9]\n",
      "Running average is 4.5392809587217045\n",
      "New data [2, 3]\n",
      "Running average is 4.53656914893617\n",
      "New data [2, 8]\n",
      "Running average is 4.537184594953519\n",
      "New data [2, 4]\n",
      "Running average is 4.5351458885941645\n",
      "New data [5, 4]\n",
      "Running average is 4.535099337748345\n",
      "New data [1, 0]\n",
      "Running average is 4.529761904761905\n",
      "New data [0, 3]\n",
      "Running average is 4.525759577278732\n",
      "New data [7, 4]\n",
      "Running average is 4.527044854881266\n",
      "New data [0, 2]\n",
      "Running average is 4.522397891963109\n",
      "New data [1, 6]\n",
      "Running average is 4.521052631578947\n",
      "New data [3, 4]\n",
      "Running average is 4.519710906701708\n",
      "New data [6, 0]\n",
      "Running average is 4.517716535433071\n",
      "New data [6, 1]\n",
      "Running average is 4.516382699868938\n",
      "New data [5, 6]\n",
      "Running average is 4.517670157068062\n",
      "New data [5, 8]\n",
      "Running average is 4.520261437908497\n",
      "New data [9, 1]\n",
      "Running average is 4.52088772845953\n",
      "New data [4, 3]\n",
      "Running average is 4.519556714471968\n",
      "New data [9, 7]\n",
      "Running average is 4.524088541666667\n",
      "New data [4, 2]\n",
      "Running average is 4.522106631989597\n",
      "New data [3, 7]\n",
      "Running average is 4.5227272727272725\n",
      "New data [0, 7]\n",
      "Running average is 4.521400778210117\n",
      "New data [9, 5]\n",
      "Running average is 4.524611398963731\n",
      "New data [9, 8]\n",
      "Running average is 4.529754204398448\n",
      "New data [7, 1]\n",
      "Running average is 4.52906976744186\n",
      "New data [8, 0]\n",
      "Running average is 4.5283870967741935\n",
      "New data [2, 7]\n",
      "Running average is 4.528350515463917\n",
      "New data [8, 7]\n",
      "Running average is 4.532175032175032\n",
      "New data [2, 4]\n",
      "Running average is 4.530205655526992\n",
      "New data [7, 5]\n",
      "Running average is 4.53209242618742\n",
      "New data [4, 6]\n",
      "Running average is 4.532692307692308\n",
      "New data [9, 4]\n",
      "Running average is 4.535211267605634\n",
      "New data [0, 1]\n",
      "Running average is 4.530051150895141\n",
      "New data [2, 6]\n",
      "Running average is 4.529374201787995\n",
      "New data [1, 8]\n",
      "Running average is 4.529336734693878\n",
      "New data [3, 8]\n",
      "Running average is 4.530573248407643\n",
      "New data [6, 5]\n",
      "Running average is 4.531806615776081\n",
      "New data [6, 8]\n",
      "Running average is 4.534942820838627\n",
      "New data [2, 0]\n",
      "Running average is 4.530456852791878\n",
      "New data [1, 3]\n",
      "Running average is 4.52724968314322\n",
      "New data [0, 4]\n",
      "Running average is 4.5240506329113925\n",
      "New data [0, 5]\n",
      "Running average is 4.5214917825537295\n",
      "New data [7, 2]\n",
      "Running average is 4.521464646464646\n",
      "New data [9, 7]\n",
      "Running average is 4.5258511979823455\n",
      "New data [0, 9]\n",
      "Running average is 4.525818639798489\n",
      "New data [5, 1]\n",
      "Running average is 4.523899371069183\n",
      "New data [5, 2]\n",
      "Running average is 4.522613065326633\n",
      "New data [1, 2]\n",
      "Running average is 4.518820577164367\n",
      "New data [6, 8]\n",
      "Running average is 4.521929824561403\n",
      "New data [2, 1]\n",
      "Running average is 4.518147684605757\n",
      "New data [9, 5]\n",
      "Running average is 4.52125\n",
      "New data [1, 2]\n",
      "Running average is 4.517478152309613\n",
      "New data [5, 6]\n",
      "Running average is 4.5187032418952615\n",
      "New data [9, 0]\n",
      "Running average is 4.518679950186799\n",
      "New data [5, 2]\n",
      "Running average is 4.517412935323383\n",
      "New data [9, 7]\n",
      "Running average is 4.521739130434782\n",
      "New data [2, 8]\n",
      "Running average is 4.522332506203474\n",
      "New data [3, 6]\n",
      "Running average is 4.522304832713755\n",
      "New data [3, 6]\n",
      "Running average is 4.522277227722772\n",
      "New data [3, 5]\n",
      "Running average is 4.521631644004945\n",
      "New data [4, 7]\n",
      "Running average is 4.52283950617284\n",
      "New data [4, 1]\n",
      "Running average is 4.520345252774352\n",
      "New data [8, 4]\n",
      "Running average is 4.522167487684729\n",
      "New data [6, 9]\n",
      "Running average is 4.525830258302583\n",
      "New data [0, 6]\n",
      "Running average is 4.523955773955774\n",
      "New data [3, 6]\n",
      "Running average is 4.523926380368098\n",
      "New data [2, 0]\n",
      "Running average is 4.519607843137255\n",
      "New data [6, 4]\n",
      "Running average is 4.520195838433293\n",
      "New data [5, 9]\n",
      "Running average is 4.52322738386308\n",
      "New data [1, 6]\n",
      "Running average is 4.521978021978022\n",
      "New data [0, 2]\n",
      "Running average is 4.517682926829268\n",
      "New data [5, 1]\n",
      "Running average is 4.515834348355664\n",
      "New data [7, 4]\n",
      "Running average is 4.517031630170316\n",
      "New data [8, 0]\n",
      "Running average is 4.51640340218712\n",
      "New data [5, 3]\n",
      "Running average is 4.515776699029126\n",
      "New data [4, 0]\n",
      "Running average is 4.512727272727273\n",
      "New data [5, 3]\n",
      "Running average is 4.512106537530267\n",
      "New data [6, 8]\n",
      "Running average is 4.515114873035066\n",
      "New data [0, 1]\n",
      "Running average is 4.5102657004830915\n",
      "New data [2, 9]\n",
      "Running average is 4.51145958986731\n",
      "New data [0, 9]\n",
      "Running average is 4.5114457831325305\n",
      "New data [9, 4]\n",
      "Running average is 4.513838748495788\n",
      "New data [5, 4]\n",
      "Running average is 4.513822115384615\n",
      "New data [1, 8]\n",
      "Running average is 4.513805522208884\n",
      "New data [4, 2]\n",
      "Running average is 4.511990407673861\n",
      "New data [6, 7]\n",
      "Running average is 4.51437125748503\n",
      "New data [3, 4]\n",
      "Running average is 4.5131578947368425\n",
      "New data [4, 1]\n",
      "Running average is 4.510752688172043\n",
      "New data [2, 1]\n",
      "Running average is 4.507159904534606\n",
      "New data [8, 9]\n",
      "Running average is 4.511918951132301\n",
      "New data [0, 6]\n",
      "Running average is 4.510119047619048\n",
      "New data [2, 6]\n",
      "Running average is 4.509512485136742\n",
      "New data [3, 7]\n",
      "Running average is 4.510095011876484\n",
      "New data [1, 0]\n",
      "Running average is 4.505338078291815\n",
      "New data [9, 8]\n",
      "Running average is 4.5100710900473935\n",
      "New data [7, 3]\n",
      "Running average is 4.510650887573965\n",
      "New data [0, 7]\n",
      "Running average is 4.509456264775413\n",
      "New data [1, 6]\n",
      "Running average is 4.508264462809917\n",
      "New data [4, 0]\n",
      "Running average is 4.505306603773585\n",
      "New data [5, 1]\n",
      "Running average is 4.503533568904594\n",
      "New data [0, 2]\n",
      "Running average is 4.499411764705882\n",
      "New data [9, 2]\n",
      "Running average is 4.500587544065805\n",
      "New data [3, 7]\n",
      "Running average is 4.501173708920188\n",
      "New data [1, 8]\n",
      "Running average is 4.501172332942556\n",
      "New data [9, 7]\n",
      "Running average is 4.505269320843091\n",
      "New data [4, 1]\n",
      "Running average is 4.502923976608187\n",
      "New data [4, 3]\n",
      "Running average is 4.5017523364485985\n",
      "New data [4, 1]\n",
      "Running average is 4.499416569428238\n",
      "New data [1, 6]\n",
      "Running average is 4.498251748251748\n",
      "New data [5, 2]\n",
      "Running average is 4.49708963911525\n",
      "New data [4, 3]\n",
      "Running average is 4.495930232558139\n",
      "New data [9, 8]\n",
      "Running average is 4.500580720092915\n",
      "New data [1, 3]\n",
      "Running average is 4.497679814385151\n",
      "New data [3, 7]\n",
      "Running average is 4.498261877172654\n",
      "New data [6, 4]\n",
      "Running average is 4.498842592592593\n",
      "New data [8, 5]\n",
      "Running average is 4.5011560693641615\n",
      "New data [5, 6]\n",
      "Running average is 4.502309468822171\n",
      "New data [7, 2]\n",
      "Running average is 4.502306805074971\n",
      "New data [8, 2]\n",
      "Running average is 4.502880184331797\n",
      "New data [4, 8]\n",
      "Running average is 4.504602991944764\n",
      "New data [3, 1]\n",
      "Running average is 4.501724137931035\n",
      "New data [2, 1]\n",
      "Running average is 4.498277841561424\n",
      "New data [6, 5]\n",
      "Running average is 4.4994266055045875\n",
      "New data [1, 3]\n",
      "Running average is 4.4965635738831615\n",
      "New data [0, 4]\n",
      "Running average is 4.49370709382151\n",
      "New data [9, 3]\n",
      "Running average is 4.4954285714285716\n",
      "New data [0, 5]\n",
      "Running average is 4.493150684931507\n",
      "New data [1, 9]\n",
      "Running average is 4.493728620296465\n",
      "New data [0, 1]\n",
      "Running average is 4.489179954441913\n",
      "New data [1, 7]\n",
      "Running average is 4.4886234357224115\n",
      "New data [6, 0]\n",
      "Running average is 4.4869318181818185\n",
      "New data [4, 0]\n",
      "Running average is 4.48410896708286\n",
      "New data [1, 4]\n",
      "Running average is 4.481859410430839\n",
      "New data [3, 8]\n",
      "Running average is 4.483012457531144\n",
      "New data [6, 7]\n",
      "Running average is 4.485294117647059\n",
      "New data [2, 3]\n",
      "Running average is 4.483050847457627\n",
      "New data [9, 2]\n",
      "Running average is 4.484198645598194\n",
      "New data [5, 3]\n",
      "Running average is 4.483652762119504\n",
      "New data [3, 9]\n",
      "Running average is 4.48536036036036\n",
      "New data [7, 3]\n",
      "Running average is 4.4859392575928005\n",
      "New data [7, 5]\n",
      "Running average is 4.487640449438202\n",
      "New data [1, 9]\n",
      "Running average is 4.488215488215488\n",
      "New data [8, 7]\n",
      "Running average is 4.491591928251121\n",
      "New data [3, 8]\n",
      "Running average is 4.492721164613662\n",
      "New data [4, 5]\n",
      "Running average is 4.492729306487695\n",
      "New data [7, 2]\n",
      "Running average is 4.4927374301675975\n",
      "New data [5, 2]\n",
      "Running average is 4.491629464285714\n",
      "New data [6, 5]\n",
      "Running average is 4.492753623188406\n",
      "New data [0, 9]\n",
      "Running average is 4.492761692650334\n",
      "New data [0, 2]\n",
      "Running average is 4.488876529477197\n",
      "New data [8, 2]\n",
      "Running average is 4.489444444444445\n",
      "New data [3, 5]\n",
      "Running average is 4.488901220865705\n",
      "New data [7, 6]\n",
      "Running average is 4.491130820399113\n",
      "New data [9, 6]\n",
      "Running average is 4.494462901439646\n",
      "New data [4, 9]\n",
      "Running average is 4.496681415929204\n",
      "New data [4, 5]\n",
      "Running average is 4.496685082872928\n",
      "New data [1, 4]\n",
      "Running average is 4.49448123620309\n",
      "New data [4, 7]\n",
      "Running average is 4.495589856670342\n",
      "New data [0, 2]\n",
      "Running average is 4.491740088105727\n",
      "New data [2, 8]\n",
      "Running average is 4.492299229922993\n",
      "New data [9, 2]\n",
      "Running average is 4.493406593406593\n",
      "New data [8, 4]\n",
      "Running average is 4.495060373216246\n",
      "New data [6, 3]\n",
      "Running average is 4.495065789473684\n",
      "New data [4, 1]\n",
      "Running average is 4.492880613362541\n",
      "New data [7, 3]\n",
      "Running average is 4.493435448577681\n",
      "New data [9, 4]\n",
      "Running average is 4.495628415300547\n",
      "New data [0, 4]\n",
      "Running average is 4.492903930131004\n",
      "New data [3, 6]\n",
      "Running average is 4.492911668484187\n",
      "New data [3, 9]\n",
      "Running average is 4.494553376906318\n",
      "New data [7, 4]\n",
      "Running average is 4.495647442872688\n",
      "New data [4, 3]\n",
      "Running average is 4.494565217391305\n",
      "New data [8, 6]\n",
      "Running average is 4.49728555917481\n",
      "New data [2, 0]\n",
      "Running average is 4.493492407809111\n",
      "New data [0, 5]\n",
      "Running average is 4.491332611050921\n",
      "New data [6, 1]\n",
      "Running average is 4.490259740259741\n",
      "New data [6, 8]\n",
      "Running average is 4.492972972972973\n",
      "New data [4, 6]\n",
      "Running average is 4.493520518358531\n",
      "New data [6, 1]\n",
      "Running average is 4.492448759439051\n",
      "New data [7, 2]\n",
      "Running average is 4.492456896551724\n",
      "New data [0, 6]\n",
      "Running average is 4.490850376749193\n",
      "New data [6, 5]\n",
      "Running average is 4.491935483870968\n",
      "New data [7, 1]\n",
      "Running average is 4.49140708915145\n",
      "New data [5, 9]\n",
      "Running average is 4.494098712446352\n",
      "New data [2, 0]\n",
      "Running average is 4.490353697749196\n",
      "New data [1, 3]\n",
      "Running average is 4.487687366167023\n",
      "New data [5, 4]\n",
      "Running average is 4.487700534759358\n",
      "New data [7, 6]\n",
      "Running average is 4.489850427350428\n",
      "New data [8, 0]\n",
      "Running average is 4.489327641408751\n",
      "New data [8, 3]\n",
      "Running average is 4.490405117270789\n",
      "New data [9, 3]\n",
      "Running average is 4.492012779552716\n",
      "New data [4, 3]\n",
      "Running average is 4.490957446808511\n",
      "New data [8, 4]\n",
      "Running average is 4.492561105207226\n",
      "New data [3, 0]\n",
      "Running average is 4.489384288747346\n",
      "New data [1, 2]\n",
      "Running average is 4.486214209968186\n",
      "New data [6, 1]\n",
      "Running average is 4.485169491525424\n",
      "New data [0, 3]\n",
      "Running average is 4.482010582010582\n",
      "New data [7, 5]\n",
      "Running average is 4.483615221987315\n",
      "New data [5, 3]\n",
      "Running average is 4.483104540654699\n",
      "New data [6, 9]\n",
      "Running average is 4.486286919831223\n",
      "New data [6, 3]\n",
      "Running average is 4.486301369863014\n",
      "New data [2, 0]\n",
      "Running average is 4.482631578947369\n",
      "New data [5, 8]\n",
      "Running average is 4.484752891692954\n",
      "New data [2, 5]\n",
      "Running average is 4.483718487394958\n",
      "New data [0, 6]\n",
      "Running average is 4.482161594963274\n",
      "New data [3, 1]\n",
      "Running average is 4.479559748427673\n",
      "New data [7, 3]\n",
      "Running average is 4.480104712041885\n",
      "New data [4, 3]\n",
      "Running average is 4.47907949790795\n",
      "New data [0, 3]\n",
      "Running average is 4.475966562173459\n",
      "New data [0, 1]\n",
      "Running average is 4.471816283924843\n",
      "New data [7, 4]\n",
      "Running average is 4.47288842544317\n",
      "New data [7, 4]\n",
      "Running average is 4.473958333333333\n",
      "New data [9, 3]\n",
      "Running average is 4.475546305931322\n",
      "New data [5, 0]\n",
      "Running average is 4.473492723492724\n",
      "New data [7, 1]\n",
      "Running average is 4.473001038421599\n",
      "New data [0, 3]\n",
      "Running average is 4.469917012448133\n",
      "New data [0, 9]\n",
      "Running average is 4.469948186528497\n",
      "New data [2, 0]\n",
      "Running average is 4.466356107660456\n",
      "New data [8, 1]\n",
      "Running average is 4.466390899689762\n",
      "New data [3, 1]\n",
      "Running average is 4.463842975206612\n",
      "New data [7, 2]\n",
      "Running average is 4.4638802889576885\n",
      "New data [5, 3]\n",
      "Running average is 4.46340206185567\n",
      "New data [5, 6]\n",
      "Running average is 4.464469618949536\n",
      "New data [5, 3]\n",
      "Running average is 4.4639917695473255\n",
      "New data [7, 1]\n",
      "Running average is 4.463514902363824\n",
      "New data [9, 0]\n",
      "Running average is 4.463552361396304\n",
      "New data [5, 8]\n",
      "Running average is 4.465641025641026\n",
      "New data [3, 4]\n",
      "Running average is 4.464651639344262\n",
      "New data [8, 0]\n",
      "Running average is 4.46417604912999\n",
      "New data [9, 0]\n",
      "Running average is 4.4642126789366054\n",
      "New data [6, 1]\n",
      "Running average is 4.463227783452503\n",
      "New data [1, 7]\n",
      "Running average is 4.462755102040816\n",
      "New data [2, 1]\n",
      "Running average is 4.45973496432212\n",
      "New data [4, 2]\n",
      "Running average is 4.458248472505091\n",
      "New data [4, 9]\n",
      "Running average is 4.460325534079349\n",
      "New data [6, 3]\n",
      "Running average is 4.460365853658536\n",
      "New data [6, 3]\n",
      "Running average is 4.460406091370558\n",
      "New data [4, 7]\n",
      "Running average is 4.4614604462474645\n",
      "New data [5, 4]\n",
      "Running average is 4.4614994934143875\n",
      "New data [4, 2]\n",
      "Running average is 4.46002024291498\n",
      "New data [6, 5]\n",
      "Running average is 4.461071789686552\n",
      "New data [8, 4]\n",
      "Running average is 4.462626262626262\n",
      "New data [5, 7]\n"
     ]
    },
    {
     "name": "stdout",
     "output_type": "stream",
     "text": [
      "Running average is 4.4641775983854695\n",
      "New data [7, 1]\n",
      "Running average is 4.463709677419355\n",
      "New data [6, 7]\n",
      "Running average is 4.4657603222557904\n",
      "New data [1, 7]\n",
      "Running average is 4.4652917505030185\n",
      "New data [4, 7]\n",
      "Running average is 4.466331658291457\n",
      "New data [2, 0]\n",
      "Running average is 4.46285140562249\n",
      "New data [0, 6]\n",
      "Running average is 4.461384152457372\n",
      "New data [3, 4]\n",
      "Running average is 4.460420841683367\n",
      "New data [4, 6]\n",
      "Running average is 4.460960960960961\n",
      "New data [3, 5]\n",
      "Running average is 4.4605\n"
     ]
    }
   ],
   "source": [
    "consumer = consume()\n",
    "next(consumer)\n",
    "producer = produce(consumer)\n",
    "\n",
    "for _ in range(1000):\n",
    "    next(producer)"
   ]
  },
  {
   "cell_type": "markdown",
   "metadata": {},
   "source": [
    "Чем хороша приведённая конструкция (её идея)? Мы не просто разделили процесс генерации и обработки данных, это можно было сделать и без всяких генераторов. **Send** создаёт отдельный поток вычислений, которые производятся параллельно основному телу программы. Таким образом, генерить и обрабатывать данные многими разными способами можно в параллели, притормаживая только по ключевому слову *yield* чтобы дождаться данных или следующего обращения. \n",
    "\n",
    "Теперь, можем сказать что для генераторов next(a) эквивалентент a.send(None).\n",
    "\n",
    "Всё это называется Coroutine и поподробнее можно почитать в PEP-342 https://www.python.org/dev/peps/pep-0342/"
   ]
  },
  {
   "cell_type": "markdown",
   "metadata": {},
   "source": [
    "![alt text](seminar6_iter_and_best_practice/coroutine.jpg)"
   ]
  },
  {
   "cell_type": "markdown",
   "metadata": {},
   "source": [
    "Эта идея позволяет нам, например, создать планировщик задач, который по определенным условиям будет запускать тот или иной генератор, и экономить время выполняя их в параллели и переключаясь на них только когда это требуется. \n",
    "\n",
    "**ВНИМАНИЕ** *Те кто переживает что плохо понял тему, и кто хочет разобраться и закрепить в памяти материал по генераторам, могут после лекции попробовать написать генератор, который в параллели качнет наши прошедшие лекции, обложить таймерами, и убедиться что это действительно работает быстрее. Это не обязательное задание, но это поможет усвоить материал. Ничего никуда посылать не надо.*"
   ]
  },
  {
   "cell_type": "markdown",
   "metadata": {},
   "source": [
    "Последнее, что хотелось бы рассмотреть это конструкция **yield from**. Обычно говорят, что эта конструкция устанавливает двунаправленную связь между вызывающим генератором и суб-генератором, передавая, в том числе, исключения (transparent two way channel).\n",
    "\n",
    "Сначала простой пример:"
   ]
  },
  {
   "cell_type": "code",
   "execution_count": 102,
   "metadata": {},
   "outputs": [],
   "source": [
    "def generator_simple():\n",
    "    for i in range(10):\n",
    "        yield i\n",
    "    for j in range(10, 20):\n",
    "        yield j"
   ]
  },
  {
   "cell_type": "markdown",
   "metadata": {},
   "source": [
    "Он, будет выдавать нам числа от 0 до 19. И мы решили разбить его на две части чтобы их можно было еще использовать по отдельности."
   ]
  },
  {
   "cell_type": "code",
   "execution_count": 103,
   "metadata": {},
   "outputs": [],
   "source": [
    "def generator1():\n",
    "    for i in range(10):\n",
    "        yield i\n",
    "\n",
    "def generator2():\n",
    "    for j in range(10, 20):\n",
    "        yield j\n",
    "        \n",
    "def generator():\n",
    "    for i in generator1():\n",
    "        yield i\n",
    "    for j in generator2():\n",
    "        yield j"
   ]
  },
  {
   "cell_type": "code",
   "execution_count": 104,
   "metadata": {},
   "outputs": [],
   "source": [
    "# То же самое можно записать в виде\n",
    "def generator_from():\n",
    "    yield from generator1()\n",
    "    yield from generator2()"
   ]
  },
  {
   "cell_type": "markdown",
   "metadata": {},
   "source": [
    "Понятно, что это не очень впечатляет, так что давайте посмотрим чуть более сложный пример"
   ]
  },
  {
   "cell_type": "code",
   "execution_count": 105,
   "metadata": {},
   "outputs": [],
   "source": [
    "def writer():\n",
    "    \"\"\"A coroutine that writes data *sent* to it \"\"\"\n",
    "    while True:\n",
    "        w = (yield)\n",
    "        print('>> ', w)\n",
    "\n",
    "def writer_wrapper(coro):\n",
    "    coro.send(None)  # Для инициализации\n",
    "    while True:\n",
    "        try:\n",
    "            x = (yield)  # Принимаем\n",
    "            coro.send(x)  # и передаём\n",
    "        except StopIteration:\n",
    "            pass"
   ]
  },
  {
   "cell_type": "code",
   "execution_count": 106,
   "metadata": {},
   "outputs": [
    {
     "name": "stdout",
     "output_type": "stream",
     "text": [
      ">>  0\n",
      ">>  1\n",
      ">>  2\n",
      ">>  3\n"
     ]
    }
   ],
   "source": [
    "w = writer()\n",
    "wrap = writer_wrapper(w)\n",
    "wrap.send(None)\n",
    "for i in range(4):\n",
    "    wrap.send(i)"
   ]
  },
  {
   "cell_type": "code",
   "execution_count": 108,
   "metadata": {},
   "outputs": [],
   "source": [
    "#Всё то же самое выполняется при помощи yield from\n",
    "def writer_wrapper_from(coro):\n",
    "    yield from coro"
   ]
  },
  {
   "cell_type": "code",
   "execution_count": 109,
   "metadata": {},
   "outputs": [
    {
     "name": "stdout",
     "output_type": "stream",
     "text": [
      ">>  0\n",
      ">>  1\n",
      ">>  2\n",
      ">>  3\n"
     ]
    }
   ],
   "source": [
    "w = writer()\n",
    "wrap = writer_wrapper_from(w)\n",
    "wrap.send(None)\n",
    "for i in range(4):\n",
    "    wrap.send(i)"
   ]
  },
  {
   "cell_type": "markdown",
   "metadata": {},
   "source": [
    "Если подытожить, то yield from позволяет серьезно упростить код и не думать о всяких вещах, о которых мы обычно не хотим думать, и **не теряет** при этом никаких важных исключений или типа того."
   ]
  },
  {
   "cell_type": "markdown",
   "metadata": {},
   "source": [
    "# Декораторы"
   ]
  },
  {
   "cell_type": "markdown",
   "metadata": {},
   "source": [
    "Допустим, мы столкнулись с задачей, что нам надо подправить кое-какие функции, но лезть в них и менять код прямо там нам не сильно охота, потому что, например, мы можем потом передумать. Или переживаем за общую совместимость в большом проекте. Сделаем обёртку нужной нам функции:"
   ]
  },
  {
   "cell_type": "code",
   "execution_count": 110,
   "metadata": {},
   "outputs": [],
   "source": [
    "def deprecated(func):\n",
    "    def wrap(*args, **kwargs):\n",
    "        print ('{} will be deprecated soon'.format(func.__name__))\n",
    "        return func(*args, **kwargs)\n",
    "    return wrap"
   ]
  },
  {
   "cell_type": "code",
   "execution_count": 113,
   "metadata": {},
   "outputs": [],
   "source": [
    "def my_func(x):\n",
    "    return x+3\n",
    "\n",
    "# \"Обернём\" нашу функцию посредством переприсвоения\n",
    "my_func = deprecated(my_func)"
   ]
  },
  {
   "cell_type": "code",
   "execution_count": 114,
   "metadata": {},
   "outputs": [
    {
     "name": "stdout",
     "output_type": "stream",
     "text": [
      "my_func will be deprecated soon\n"
     ]
    },
    {
     "data": {
      "text/plain": [
       "5"
      ]
     },
     "execution_count": 114,
     "metadata": {},
     "output_type": "execute_result"
    }
   ],
   "source": [
    "my_func(2)"
   ]
  },
  {
   "cell_type": "code",
   "execution_count": 117,
   "metadata": {},
   "outputs": [],
   "source": [
    "# Ровно то же самое можно записать без переприсвоения:\n",
    "@deprecated # Это декоратор\n",
    "def my_func(x):\n",
    "    return x+3"
   ]
  },
  {
   "cell_type": "code",
   "execution_count": 118,
   "metadata": {},
   "outputs": [
    {
     "name": "stdout",
     "output_type": "stream",
     "text": [
      "my_func will be deprecated soon\n"
     ]
    },
    {
     "data": {
      "text/plain": [
       "5"
      ]
     },
     "execution_count": 118,
     "metadata": {},
     "output_type": "execute_result"
    }
   ],
   "source": [
    "my_func(2)"
   ]
  },
  {
   "cell_type": "code",
   "execution_count": 119,
   "metadata": {},
   "outputs": [
    {
     "data": {
      "text/plain": [
       "'wrap'"
      ]
     },
     "execution_count": 119,
     "metadata": {},
     "output_type": "execute_result"
    }
   ],
   "source": [
    "# Но, заметим, что именем ф-ии стало имя обёртки\n",
    "my_func.__name__"
   ]
  },
  {
   "cell_type": "markdown",
   "metadata": {},
   "source": [
    "Чтобы сделать красивый декоратор и совсем ничего в функции не менять, кроме того что мы поменять хотим, давайте воспользуемся библиотекой functools ![alt text](Python06-iterators_extra/decoration.jpeg)"
   ]
  },
  {
   "cell_type": "code",
   "execution_count": 120,
   "metadata": {},
   "outputs": [
    {
     "data": {
      "text/plain": [
       "'my_func'"
      ]
     },
     "execution_count": 120,
     "metadata": {},
     "output_type": "execute_result"
    }
   ],
   "source": [
    "import functools\n",
    "\n",
    "def deprecated(func):\n",
    "    @functools.wraps(func)\n",
    "    def wrap(*args, **kwargs):\n",
    "        print ('{} will be deprecated soon'.format(func.__name__))\n",
    "        return func(*args, **kwargs)\n",
    "    return wrap\n",
    "\n",
    "@deprecated\n",
    "def my_func(x):\n",
    "    return x+3\n",
    "\n",
    "my_func.__name__"
   ]
  },
  {
   "cell_type": "markdown",
   "metadata": {},
   "source": [
    "Functools - высокоуровневая библиотека, упрощающая работу с функциями и другими вызываемыми объектами, когда требуется расширить, дополнить или даже полностью изменить сам объект. Более детально можно познакомиться, например, здесь https://docs.python.org/3.3/library/functools.html"
   ]
  },
  {
   "cell_type": "markdown",
   "metadata": {},
   "source": [
    "Декораторы работают с классами так же как и с функциями. \n",
    "\n",
    "Создадим декоратор выводящий время работы декорируемой функции или класса, вполне жизненный пример. "
   ]
  },
  {
   "cell_type": "code",
   "execution_count": 121,
   "metadata": {},
   "outputs": [],
   "source": [
    "import time\n",
    "\n",
    "def timer(func):\n",
    "    \"\"\"Print the runtime of the decorated function\"\"\"\n",
    "    @functools.wraps(func)\n",
    "    def wrapper_timer(*args, **kwargs):\n",
    "        start_time = time.perf_counter()    # 1\n",
    "        value = func(*args, **kwargs)\n",
    "        end_time = time.perf_counter()      # 2\n",
    "        run_time = end_time - start_time    # 3\n",
    "        print(f\"Finished {func.__name__!r} in {run_time:.4f} secs\")\n",
    "        return value\n",
    "    return wrapper_timer"
   ]
  },
  {
   "cell_type": "code",
   "execution_count": 123,
   "metadata": {},
   "outputs": [],
   "source": [
    "class TimeWaster:    \n",
    "    def __init__(self, max_num):\n",
    "        self.max_num = max_num\n",
    "\n",
    "    #@timer\n",
    "    def waste_time(self, num_times):\n",
    "        for _ in range(num_times):\n",
    "            sum([i**2 for i in range(self.max_num)])        "
   ]
  },
  {
   "cell_type": "code",
   "execution_count": 124,
   "metadata": {},
   "outputs": [],
   "source": [
    "tw = TimeWaster(1000)\n",
    "tw.waste_time(999)"
   ]
  },
  {
   "cell_type": "markdown",
   "metadata": {},
   "source": [
    "Допустим, мы хотим чтобы наш декоратор что-то нам важное вывел, например исключение. Только не в общий вывод, чтобы не засорять, а куда-то в другое место, где мы при необходимости прочитаем. Для этого можно использовать *атрибуты декоратора*"
   ]
  },
  {
   "cell_type": "code",
   "execution_count": 125,
   "metadata": {},
   "outputs": [],
   "source": [
    "def redirected_output(destination=None):        \n",
    "    def wrapper(*args, **kwargs):\n",
    "        with open(destination, 'w') as output:\n",
    "            print('Some important information', \n",
    "                  file=output)    \n",
    "    return wrapper"
   ]
  },
  {
   "cell_type": "code",
   "execution_count": 127,
   "metadata": {},
   "outputs": [],
   "source": [
    "@redirected_output(destination='log.txt')\n",
    "def foo():\n",
    "    pass"
   ]
  },
  {
   "cell_type": "markdown",
   "metadata": {},
   "source": [
    "Этот пример не очень хорош, зато он прост и демонстрирует, что в сам декоратор можно передавать входные данные"
   ]
  },
  {
   "cell_type": "markdown",
   "metadata": {},
   "source": [
    "![alt text](seminar6_iter_and_best_practice/end.jpg)"
   ]
  }
 ],
 "metadata": {
  "kernelspec": {
   "display_name": "Python 3",
   "language": "python",
   "name": "python3"
  },
  "language_info": {
   "codemirror_mode": {
    "name": "ipython",
    "version": 3
   },
   "file_extension": ".py",
   "mimetype": "text/x-python",
   "name": "python",
   "nbconvert_exporter": "python",
   "pygments_lexer": "ipython3",
   "version": "3.9.2"
  }
 },
 "nbformat": 4,
 "nbformat_minor": 4
}
