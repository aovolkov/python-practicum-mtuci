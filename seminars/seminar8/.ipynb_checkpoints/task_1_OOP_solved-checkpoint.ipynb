{
 "cells": [
  {
   "cell_type": "markdown",
   "id": "tired-error",
   "metadata": {},
   "source": [
    "## Домашнее задание №1 (курс ИТиП)\n",
    "### Тема: Объектно-ориентированное программирование на языке Python."
   ]
  },
  {
   "cell_type": "markdown",
   "id": "vietnamese-volume",
   "metadata": {},
   "source": [
    "**Среда выполнения:** Jupyter Notebook (Python 3.7)\n",
    "\n",
    "Результат выполнения задания - Jupyter Notebook с кодом и подробными ответами в случае теоретических вопросов. Максимальное число баллов за задание - 10.\n",
    "\n",
    "Все ячейки должны быть \"выполненными\", при этом результат должен воспроизводиться при проверке (на Python 3.7). Если какой-то код не был запущен или отрабатывает с ошибками, то пункт не засчитывается. Задание, сданное после дедлайна, не принимается. Можно отправить недоделанное задание, выполненные пункты будут оценены.\n",
    "\n",
    "Готовое задание отправляется на почту преподавателя (aleksandr.o.volkov@phystech.ru) с названием \"ИТиП. ДЗ-1. Номер группы. ФИО\".\n",
    "\n",
    "Задание выполняется самостоятельно. Если какие-то студенты будут уличены в списывании, все они автоматически получат за эту работу 0 баллов. Если вы нашли в Интернете какой-то специфичный код, который собираетесь заимствовать, обязательно укажите это в задании - наверняка вы не единственный, кто найдёт и использует эту информацию.\n",
    "\n",
    "Удалять фрагменты формулировок заданий запрещается.\n",
    "\n",
    "Постановка задачи:\n",
    "В данной работе нужно\n",
    "- ответить на ряд теоретических вопросов;\n",
    "- решить набор задач, проверяющих владение ООП-инструментами языка;\n",
    "\n",
    "Даже если это не указано явно в требованиях, код должен быть по возможности неизбыточным, работать с разумной сложностью и объёмом потребялемой памяти.\n",
    "Результирующий код должен быть читаемым, с единой системой отступов и адеквантными названиями переменных, проверяющие могут снизить балл за задание, выполненное без учёта этого требования."
   ]
  },
  {
   "cell_type": "markdown",
   "id": "hazardous-ministry",
   "metadata": {},
   "source": [
    "**Задание 1 (4 балла):** Дайте подробные ответы на следующие вопросы:\n",
    "\n",
    "1. В чём смысл инкапсуляции? Приведите пример конкретной ситуации в коде, в которой нарушение инкапсуляции приводит к проблемам.\n",
    "2. Какой метод называется статическим? Что такое параметр self?\n",
    "3. В чём отличия методов __new__ и __init__?\n",
    "4. Зачем нужны фабрики? Опишите смысл использования фабричного метода, фабрики и абстрактной фабрики, а также их взаимные отличия."
   ]
  },
  {
   "cell_type": "markdown",
   "id": "bizarre-measurement",
   "metadata": {},
   "source": [
    "**Задание 2 (2 балла):** Опишите класс комплексных чисел. У пользователя должна быть возможность создать его объект на основе числа и в алгебраической форме, и в полярной. Класс должен поддерживать основные математические операции (+, -, $*$, /) за счет перегрузки соответствующих магических методов. Также он должен поддерживать возможность получить число в алгебраической и полярной форме. Допускается использование модуля *math*."
   ]
  },
  {
   "cell_type": "code",
   "execution_count": 86,
   "id": "industrial-river",
   "metadata": {},
   "outputs": [],
   "source": [
    "x = complex(1, 3)"
   ]
  },
  {
   "cell_type": "code",
   "execution_count": 87,
   "id": "useful-information",
   "metadata": {},
   "outputs": [
    {
     "data": {
      "text/plain": [
       "(1+3j)"
      ]
     },
     "execution_count": 87,
     "metadata": {},
     "output_type": "execute_result"
    }
   ],
   "source": [
    "x"
   ]
  },
  {
   "cell_type": "code",
   "execution_count": 88,
   "id": "liable-syntax",
   "metadata": {},
   "outputs": [
    {
     "data": {
      "text/plain": [
       "0.0"
      ]
     },
     "execution_count": 88,
     "metadata": {},
     "output_type": "execute_result"
    }
   ],
   "source": [
    "complex(1).imag"
   ]
  },
  {
   "cell_type": "code",
   "execution_count": 89,
   "id": "affiliated-paradise",
   "metadata": {},
   "outputs": [
    {
     "data": {
      "text/plain": [
       "1.0"
      ]
     },
     "execution_count": 89,
     "metadata": {},
     "output_type": "execute_result"
    }
   ],
   "source": [
    "x.real"
   ]
  },
  {
   "cell_type": "markdown",
   "id": "reasonable-millennium",
   "metadata": {},
   "source": [
    "Полярная форма:\n",
    "$z = |z| * (cos(theta) + sin(theta)*i)$"
   ]
  },
  {
   "cell_type": "code",
   "execution_count": 104,
   "id": "honest-taste",
   "metadata": {},
   "outputs": [],
   "source": [
    "import math"
   ]
  },
  {
   "cell_type": "code",
   "execution_count": 121,
   "id": "secure-testimony",
   "metadata": {},
   "outputs": [],
   "source": [
    "class ComplexNumber:\n",
    "    \"\"\" complex_numbers = real + imag*i\"\"\"\n",
    "    \n",
    "    def __init__(self, real=0, imag=0):\n",
    "        self.real = real\n",
    "        self.imag = imag\n",
    "        \n",
    "    def __repr__(self):\n",
    "        if self.real != 0 and self.imag != 0:\n",
    "            complex_number = f\"{self.real} + {self.imag}i\"\n",
    "        elif self.imag != 0:\n",
    "            complex_number = f\"{0} + {self.imag}i\"\n",
    "        elif self.real != 0:\n",
    "            complex_number = f\"{self.real} + {0}i\"\n",
    "        else:\n",
    "            complex_number = f\"{0}i\"\n",
    "        return complex_number\n",
    "    \n",
    "    @staticmethod\n",
    "    def polar_form(r, theta):\n",
    "        return ComplexNumber(r * math.cos(theta), r * math.sin(theta))\n",
    "    \n",
    "    @staticmethod\n",
    "    def get_standart_form(z: ComplexNumber):\n",
    "        if isinstance(z, ComplexNumber):\n",
    "            r = math.sqrt(z.real ** 2 + z.imag ** 2)\n",
    "            theta = math.acos(z.real / r)\n",
    "            return r, theta\n",
    "        else:\n",
    "            ValueError(\"Это другой тип, требуется ComplexNumber!\")\n",
    "            \n",
    "    def __add__(self, other):\n",
    "        if isinstance(other, (int, float)):\n",
    "            return ComplexNumber(self.real + other, self.imag)\n",
    "        elif isinstance(other, (complex, ComplexNumber)):\n",
    "            return ComplexNumber(self.real + other.real, self.imag + other.imag)\n",
    "        return NotImplemented\n",
    "            "
   ]
  },
  {
   "cell_type": "markdown",
   "id": "alien-liberty",
   "metadata": {},
   "source": [
    "**Задание 3 (4 балла):** Опишите класс для векторов в N-мерном пространстве. В качестве основы используйте список значений координат вектора, задаваемый list. Обеспечьте поддержку следующих операций: сложение, вычитание (с созданием нового вектора-результата), скалярное произведение, косинус угла, евклидова норма. Все операции, которые можно перегрузить с помощью магических методов, должны быть реализованы именно через них. Класс должен производить проверку консистентности аргументов для каждой операции и в случаях ошибок выбрасывать исключение ValueError с исчерпывающим объяснением ошибки."
   ]
  },
  {
   "cell_type": "code",
   "execution_count": 136,
   "id": "velvet-requirement",
   "metadata": {},
   "outputs": [],
   "source": [
    "class Vector(list):\n",
    "    def __init__(self, vector_values_list=[]):\n",
    "        self.vals = vector_values_list\n",
    "    \n",
    "    def __repr__(self):\n",
    "        return f\"Vector({self.vals})\"\n",
    "    \n",
    "    def __len__(self):\n",
    "        return len(self.vals)\n",
    "    \n",
    "    def summ(self):\n",
    "        summ = 0\n",
    "        for i in range(len(self)):\n",
    "            summ += self.vals[i]\n",
    "        return summ\n",
    "    \n",
    "    def __add__(self, other):\n",
    "        if isinstance(other, Vector):\n",
    "            if len(self) == len(other):\n",
    "                sum_result = []\n",
    "                for i in range(len(other)):\n",
    "                    sum_result.append(self.vals[i] + other.vals[i])\n",
    "                return Vector(sum_result)\n",
    "            else:\n",
    "                raise ValueError(\"Length of two vectors are different!\")\n",
    "        return NotImplemented"
   ]
  },
  {
   "cell_type": "code",
   "execution_count": 137,
   "id": "located-usage",
   "metadata": {},
   "outputs": [
    {
     "data": {
      "text/plain": [
       "13"
      ]
     },
     "execution_count": 137,
     "metadata": {},
     "output_type": "execute_result"
    }
   ],
   "source": [
    "Vector.summ(Vector([1, 3, 5, 4]))"
   ]
  },
  {
   "cell_type": "code",
   "execution_count": 140,
   "id": "nominated-project",
   "metadata": {},
   "outputs": [
    {
     "data": {
      "text/plain": [
       "Vector([2, 6, 10, 7])"
      ]
     },
     "execution_count": 140,
     "metadata": {},
     "output_type": "execute_result"
    }
   ],
   "source": [
    "Vector([1, 3, 5, 4]) + Vector([1, 3, 5, 3])"
   ]
  },
  {
   "cell_type": "code",
   "execution_count": null,
   "id": "persistent-declaration",
   "metadata": {},
   "outputs": [],
   "source": []
  }
 ],
 "metadata": {
  "kernelspec": {
   "display_name": "Python 3",
   "language": "python",
   "name": "python3"
  },
  "language_info": {
   "codemirror_mode": {
    "name": "ipython",
    "version": 3
   },
   "file_extension": ".py",
   "mimetype": "text/x-python",
   "name": "python",
   "nbconvert_exporter": "python",
   "pygments_lexer": "ipython3",
   "version": "3.9.2"
  }
 },
 "nbformat": 4,
 "nbformat_minor": 5
}
