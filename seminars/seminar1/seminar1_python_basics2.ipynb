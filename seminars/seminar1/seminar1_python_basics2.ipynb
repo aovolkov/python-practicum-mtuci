{
 "cells": [
  {
   "cell_type": "markdown",
   "metadata": {},
   "source": [
    "![alt text](seminar1_python_basics/logo.png) "
   ]
  },
  {
   "cell_type": "markdown",
   "metadata": {},
   "source": [
    "# Курс \"Информационные технологии и Программирование\""
   ]
  },
  {
   "cell_type": "markdown",
   "metadata": {},
   "source": [
    "#### Теперь разберем списки, кортежи(туплы), наборы(сеты), словари, а так же функции и импорты"
   ]
  },
  {
   "cell_type": "markdown",
   "metadata": {},
   "source": [
    "Начнем с кортежей и списков. Людям с опытом программирования на других языках может сразу показаться непонятным и избыточным две такие схожие структуры, ну типа \"массив он и есть массив, зачем плодить сущности?\" Поэтому разберемся поподробнее чтобы понять чем это удобно"
   ]
  },
  {
   "cell_type": "markdown",
   "metadata": {},
   "source": [
    "## Кортеж (tuple)\n",
    "\n",
    "Кортеж - неизменяемая (нельзя вставить или удалить элементы, а также изменить их значения) последовательность данных любого типа"
   ]
  },
  {
   "cell_type": "code",
   "execution_count": 1,
   "metadata": {},
   "outputs": [],
   "source": [
    "# Канонический способ инициализации\n",
    "tup1 = (1, 2, 3) "
   ]
  },
  {
   "cell_type": "code",
   "execution_count": 2,
   "metadata": {},
   "outputs": [],
   "source": [
    "# Cоздание \"на лету\"\n",
    "tup2 = 1, 2, 3 "
   ]
  },
  {
   "cell_type": "code",
   "execution_count": 6,
   "metadata": {},
   "outputs": [
    {
     "name": "stdout",
     "output_type": "stream",
     "text": [
      "(1, 2, 3)\n",
      "(1, 2, 3)\n",
      "True\n"
     ]
    }
   ],
   "source": [
    "print (tup1) \n",
    "print (tup2) \n",
    "print (tup1==tup2)"
   ]
  },
  {
   "cell_type": "code",
   "execution_count": 7,
   "metadata": {},
   "outputs": [
    {
     "name": "stdout",
     "output_type": "stream",
     "text": [
      "(3.14, 2, 'this is a string', None)\n"
     ]
    }
   ],
   "source": [
    "# Любые данные\n",
    "tup3 = (3.14, 2, 'this is a string', None)\n",
    "print(tup3)"
   ]
  },
  {
   "cell_type": "code",
   "execution_count": 8,
   "metadata": {},
   "outputs": [
    {
     "name": "stdout",
     "output_type": "stream",
     "text": [
      "<class 'float'>\n",
      "<class 'int'>\n",
      "<class 'str'>\n",
      "<class 'NoneType'>\n"
     ]
    }
   ],
   "source": [
    "for element in tup3:\n",
    "    print(type(element))"
   ]
  },
  {
   "cell_type": "code",
   "execution_count": 9,
   "metadata": {},
   "outputs": [
    {
     "name": "stdout",
     "output_type": "stream",
     "text": [
      "3 2 1\n"
     ]
    }
   ],
   "source": [
    "# Распаковка кортежа\n",
    "a, b, c = tup1 # Распаковка кортежа в скалярные переменные\n",
    "print(c, b, a)"
   ]
  },
  {
   "cell_type": "code",
   "execution_count": 10,
   "metadata": {},
   "outputs": [
    {
     "name": "stdout",
     "output_type": "stream",
     "text": [
      "2\n"
     ]
    }
   ],
   "source": [
    "# Когда нас интересует только часть элементов, \n",
    "# то можно остальные заменить на \"_\"\n",
    "_, b, _ = tup1\n",
    "print(b)"
   ]
  },
  {
   "cell_type": "markdown",
   "metadata": {},
   "source": [
    "\"_\" - это на самом деле тоже переменная, и в целом ею можно пользоваться, но обычно в неё сливают всё ненужное "
   ]
  },
  {
   "cell_type": "code",
   "execution_count": 11,
   "metadata": {},
   "outputs": [
    {
     "name": "stdout",
     "output_type": "stream",
     "text": [
      "3\n"
     ]
    }
   ],
   "source": [
    "print(_)"
   ]
  },
  {
   "cell_type": "code",
   "execution_count": 13,
   "metadata": {},
   "outputs": [
    {
     "name": "stdout",
     "output_type": "stream",
     "text": [
      "2 1\n",
      "1 2\n"
     ]
    }
   ],
   "source": [
    "# Великое питонское чудо - поменять переменные местами за 1 операцию\n",
    "print(a, b)\n",
    "b, a = a, b\n",
    "print(a, b)"
   ]
  },
  {
   "cell_type": "code",
   "execution_count": 14,
   "metadata": {},
   "outputs": [
    {
     "name": "stdout",
     "output_type": "stream",
     "text": [
      "3\n"
     ]
    }
   ],
   "source": [
    "# Длина кортежа\n",
    "l = len(tup1) \n",
    "print(l)"
   ]
  },
  {
   "cell_type": "code",
   "execution_count": 15,
   "metadata": {},
   "outputs": [
    {
     "name": "stdout",
     "output_type": "stream",
     "text": [
      "2\n"
     ]
    }
   ],
   "source": [
    "# Обращение к конкретному элементу кортежа\n",
    "f = tup1[1]\n",
    "print(f)"
   ]
  },
  {
   "cell_type": "code",
   "execution_count": 16,
   "metadata": {},
   "outputs": [
    {
     "ename": "TypeError",
     "evalue": "'tuple' object does not support item assignment",
     "output_type": "error",
     "traceback": [
      "\u001b[1;31m---------------------------------------------------------------------------\u001b[0m",
      "\u001b[1;31mTypeError\u001b[0m                                 Traceback (most recent call last)",
      "\u001b[1;32m<ipython-input-16-ec1d177b7ea0>\u001b[0m in \u001b[0;36m<module>\u001b[1;34m\u001b[0m\n\u001b[0;32m      1\u001b[0m \u001b[1;31m# Изменить ничего нельзя\u001b[0m\u001b[1;33m\u001b[0m\u001b[1;33m\u001b[0m\u001b[1;33m\u001b[0m\u001b[0m\n\u001b[1;32m----> 2\u001b[1;33m \u001b[0mtup1\u001b[0m\u001b[1;33m[\u001b[0m\u001b[1;36m1\u001b[0m\u001b[1;33m]\u001b[0m \u001b[1;33m=\u001b[0m \u001b[1;36m17\u001b[0m\u001b[1;33m\u001b[0m\u001b[1;33m\u001b[0m\u001b[0m\n\u001b[0m",
      "\u001b[1;31mTypeError\u001b[0m: 'tuple' object does not support item assignment"
     ]
    }
   ],
   "source": [
    "# Изменить ничего нельзя\n",
    "tup1[1] = 17"
   ]
  },
  {
   "cell_type": "code",
   "execution_count": 17,
   "metadata": {},
   "outputs": [
    {
     "name": "stdout",
     "output_type": "stream",
     "text": [
      "(1, 2, 17)\n"
     ]
    }
   ],
   "source": [
    "# Но можно перетереть, и это всегда требует внимания\n",
    "tup1 = 1, 2, 17\n",
    "print (tup1)"
   ]
  },
  {
   "cell_type": "markdown",
   "metadata": {},
   "source": [
    "## Список (list)\n",
    "\n",
    "Список - изменяемая последовательность данных любого типа"
   ]
  },
  {
   "cell_type": "code",
   "execution_count": 18,
   "metadata": {},
   "outputs": [
    {
     "name": "stdout",
     "output_type": "stream",
     "text": [
      "[3.14, 2, 'this is a string', None]\n"
     ]
    }
   ],
   "source": [
    "# Канонический способ инициализации\n",
    "lis1 = [3.14, 2, 'this is a string', None] \n",
    "print (lis1)"
   ]
  },
  {
   "cell_type": "code",
   "execution_count": 19,
   "metadata": {},
   "outputs": [],
   "source": [
    "# Объединение двух списков\n",
    "s1 = [1, 2, 3]\n",
    "s2 = [6, 7, 8]"
   ]
  },
  {
   "cell_type": "code",
   "execution_count": 20,
   "metadata": {},
   "outputs": [
    {
     "name": "stdout",
     "output_type": "stream",
     "text": [
      "[1, 2, 3, 6, 7, 8]\n"
     ]
    }
   ],
   "source": [
    "# Легко и просто... и медленно\n",
    "s12a = s1 + s2 \n",
    "print(s12a)"
   ]
  },
  {
   "cell_type": "code",
   "execution_count": 21,
   "metadata": {},
   "outputs": [
    {
     "name": "stdout",
     "output_type": "stream",
     "text": [
      "[1, 2, 3, 6, 7, 8]\n"
     ]
    }
   ],
   "source": [
    "# Менее очевидно, но быстрее\n",
    "s12b = s1.copy() # Копируем список\n",
    "s12b.extend(s2) # Увеличиваем список на второй список\n",
    "print(s12a)"
   ]
  },
  {
   "cell_type": "code",
   "execution_count": 22,
   "metadata": {},
   "outputs": [
    {
     "name": "stdout",
     "output_type": "stream",
     "text": [
      "True\n"
     ]
    }
   ],
   "source": [
    "print(s12a == s12b)"
   ]
  },
  {
   "cell_type": "markdown",
   "metadata": {},
   "source": [
    "Интересна операция \"умножения\" списка s на натуральное число n: s * n. Оно преобразуется в сумму n списков s, после чего выполняется их объединение. В итоге получаем список s, повторенный n раз."
   ]
  },
  {
   "cell_type": "code",
   "execution_count": 23,
   "metadata": {},
   "outputs": [
    {
     "name": "stdout",
     "output_type": "stream",
     "text": [
      "[1, 2, 3, 1, 2, 3, 1, 2, 3]\n"
     ]
    }
   ],
   "source": [
    "s1 = [1, 2, 3]\n",
    "s2 = s1 * 3\n",
    "print(s2)"
   ]
  },
  {
   "cell_type": "code",
   "execution_count": 24,
   "metadata": {},
   "outputs": [
    {
     "name": "stdout",
     "output_type": "stream",
     "text": [
      "[23, 12, 31, 333]\n"
     ]
    }
   ],
   "source": [
    "# Добавление в конец списка\n",
    "s1 = [23, 12, 31]\n",
    "s1.append(333) \n",
    "print(s1)"
   ]
  },
  {
   "cell_type": "code",
   "execution_count": 26,
   "metadata": {},
   "outputs": [
    {
     "name": "stdout",
     "output_type": "stream",
     "text": [
      "12\n",
      "[23, 31]\n"
     ]
    }
   ],
   "source": [
    "# Извлекаем из списка элемент \n",
    "a = s1.pop(1) # Извлекаем из конца списка элемент\n",
    "print(a)\n",
    "print(s1)"
   ]
  },
  {
   "cell_type": "code",
   "execution_count": 27,
   "metadata": {},
   "outputs": [
    {
     "name": "stdout",
     "output_type": "stream",
     "text": [
      "12 in s1: False\n"
     ]
    }
   ],
   "source": [
    "# Проверяем, есть ли элемент \"12\" в списке\n",
    "ins1 = 12 in s1 \n",
    "print('12 in s1:', ins1)"
   ]
  },
  {
   "cell_type": "code",
   "execution_count": 28,
   "metadata": {},
   "outputs": [
    {
     "name": "stdout",
     "output_type": "stream",
     "text": [
      "[23, 31]\n"
     ]
    }
   ],
   "source": [
    "s_sort = sorted(s1) # Сортировка по возрастанию\n",
    "print(s_sort)"
   ]
  },
  {
   "cell_type": "code",
   "execution_count": 29,
   "metadata": {},
   "outputs": [
    {
     "name": "stdout",
     "output_type": "stream",
     "text": [
      "[23, 12, 31, 333]\n",
      "[12, 23, 31, 333]\n"
     ]
    }
   ],
   "source": [
    "# Можно также применять in-place сортировку .sort()\n",
    "s1 = [23, 12, 31]\n",
    "s1.append(333) \n",
    "print(s1)\n",
    "s1.sort()\n",
    "print(s1)"
   ]
  },
  {
   "cell_type": "code",
   "execution_count": 30,
   "metadata": {},
   "outputs": [
    {
     "name": "stdout",
     "output_type": "stream",
     "text": [
      "[23]\n"
     ]
    }
   ],
   "source": [
    "# Удаляем элемент списка\n",
    "del s_sort[1] # Удаляем второй элемент\n",
    "print(s_sort)"
   ]
  },
  {
   "cell_type": "code",
   "execution_count": 31,
   "metadata": {},
   "outputs": [
    {
     "name": "stdout",
     "output_type": "stream",
     "text": [
      "min element of s1: 12\n"
     ]
    }
   ],
   "source": [
    "# минимальный/максимальный элемент\n",
    "print('min element of s1:', min(s1))"
   ]
  },
  {
   "cell_type": "code",
   "execution_count": 32,
   "metadata": {},
   "outputs": [
    {
     "name": "stdout",
     "output_type": "stream",
     "text": [
      "4\n"
     ]
    }
   ],
   "source": [
    "# Длина списка\n",
    "print(len(s1))"
   ]
  },
  {
   "cell_type": "markdown",
   "metadata": {},
   "source": [
    "## Индексация в кортежах и списках\n"
   ]
  },
  {
   "cell_type": "markdown",
   "metadata": {},
   "source": [
    "\n",
    "\n",
    "Два различных подхода к индексации:\n",
    "\n",
    "* Взятие одного элемента списка s по его индексу j (отрицательные индексы означают просмотр списк справа налево): s[j]\n",
    "* Взятие т.н. \"среза\" - подпоследовательности, задаваемой начальным индексом (включается), конечным индексом (не включается) и шагом смещения (при отрицательном шаге идем справа налево): s[start:end:step]\n",
    "\n"
   ]
  },
  {
   "cell_type": "code",
   "execution_count": 34,
   "metadata": {},
   "outputs": [],
   "source": [
    "s = [1, 2, 3, 4, 5]"
   ]
  },
  {
   "cell_type": "code",
   "execution_count": 35,
   "metadata": {},
   "outputs": [
    {
     "name": "stdout",
     "output_type": "stream",
     "text": [
      "5\n"
     ]
    }
   ],
   "source": [
    "a = s[-1] # первый с конца\n",
    "print(a)"
   ]
  },
  {
   "cell_type": "code",
   "execution_count": 36,
   "metadata": {},
   "outputs": [
    {
     "name": "stdout",
     "output_type": "stream",
     "text": [
      "[2, 3]\n"
     ]
    }
   ],
   "source": [
    "w = s[1:3]\n",
    "print(w)"
   ]
  },
  {
   "cell_type": "code",
   "execution_count": 38,
   "metadata": {},
   "outputs": [
    {
     "name": "stdout",
     "output_type": "stream",
     "text": [
      "[1, 2]\n"
     ]
    }
   ],
   "source": [
    "w = s[:2] # Можно опускать начальный индекс\n",
    "print(w)"
   ]
  },
  {
   "cell_type": "code",
   "execution_count": 39,
   "metadata": {},
   "outputs": [
    {
     "name": "stdout",
     "output_type": "stream",
     "text": [
      "[4, 5]\n"
     ]
    }
   ],
   "source": [
    "w = s[3:] # И конечный\n",
    "print(w)"
   ]
  },
  {
   "cell_type": "code",
   "execution_count": 41,
   "metadata": {},
   "outputs": [
    {
     "name": "stdout",
     "output_type": "stream",
     "text": [
      "[2, 4]\n"
     ]
    }
   ],
   "source": [
    "w = s[1::2] # И даже оба индекса\n",
    "print(w)"
   ]
  },
  {
   "cell_type": "code",
   "execution_count": 42,
   "metadata": {},
   "outputs": [
    {
     "name": "stdout",
     "output_type": "stream",
     "text": [
      "[5, 4, 3, 2, 1]\n"
     ]
    }
   ],
   "source": [
    "w = s[::-1] # пройдёмся в обратном порядке\n",
    "print(w)"
   ]
  },
  {
   "cell_type": "markdown",
   "metadata": {},
   "source": [
    "Всё то же самое работает и в кортежах!"
   ]
  },
  {
   "cell_type": "markdown",
   "metadata": {},
   "source": [
    "## А ещё есть набор (set)"
   ]
  },
  {
   "cell_type": "markdown",
   "metadata": {},
   "source": [
    "Набор - неупорядоченное и непроиндексированное множество данных любого типа. Главное достоинство сета - это супероптимизированный поиск одинаковых элементов."
   ]
  },
  {
   "cell_type": "code",
   "execution_count": 1,
   "metadata": {},
   "outputs": [
    {
     "name": "stdout",
     "output_type": "stream",
     "text": [
      "{2, 3.14, 'this is a string', None}\n"
     ]
    }
   ],
   "source": [
    "thisset = {3.14, 2, 'this is a string', None, 2, 2}\n",
    "print(thisset)"
   ]
  },
  {
   "cell_type": "markdown",
   "metadata": {},
   "source": [
    "В наборе могут быть только уникальные переменные, все одинаковые перетираются. А еще к ним нельзя обратиться по индексу, но по ним можно итерироваться"
   ]
  },
  {
   "cell_type": "code",
   "execution_count": 2,
   "metadata": {
    "scrolled": true
   },
   "outputs": [
    {
     "name": "stdout",
     "output_type": "stream",
     "text": [
      "2 <class 'int'>\n",
      "3.14 <class 'float'>\n",
      "this is a string <class 'str'>\n",
      "None <class 'NoneType'>\n"
     ]
    }
   ],
   "source": [
    "for element in thisset:\n",
    "    print(element, type(element))"
   ]
  },
  {
   "cell_type": "code",
   "execution_count": 3,
   "metadata": {},
   "outputs": [
    {
     "name": "stdout",
     "output_type": "stream",
     "text": [
      "True\n"
     ]
    }
   ],
   "source": [
    "print(2 in thisset) # есть ли элемент в наборе"
   ]
  },
  {
   "cell_type": "code",
   "execution_count": 4,
   "metadata": {},
   "outputs": [
    {
     "name": "stdout",
     "output_type": "stream",
     "text": [
      "{'smth new', 3.14, None, 'this is a string'}\n"
     ]
    }
   ],
   "source": [
    "thisset.add('smth new') # что-то добавим\n",
    "thisset.remove(2) # что-то удалим\n",
    "print(thisset)"
   ]
  },
  {
   "cell_type": "code",
   "execution_count": 5,
   "metadata": {},
   "outputs": [
    {
     "ename": "KeyError",
     "evalue": "2",
     "output_type": "error",
     "traceback": [
      "\u001b[1;31m---------------------------------------------------------------------------\u001b[0m",
      "\u001b[1;31mKeyError\u001b[0m                                  Traceback (most recent call last)",
      "\u001b[1;32m<ipython-input-5-0cab201aeb9b>\u001b[0m in \u001b[0;36m<module>\u001b[1;34m\u001b[0m\n\u001b[1;32m----> 1\u001b[1;33m \u001b[0mthisset\u001b[0m\u001b[1;33m.\u001b[0m\u001b[0mremove\u001b[0m\u001b[1;33m(\u001b[0m\u001b[1;36m2\u001b[0m\u001b[1;33m)\u001b[0m \u001b[1;31m# удалить того что нет - нельзя\u001b[0m\u001b[1;33m\u001b[0m\u001b[1;33m\u001b[0m\u001b[0m\n\u001b[0m",
      "\u001b[1;31mKeyError\u001b[0m: 2"
     ]
    }
   ],
   "source": [
    "thisset.remove(2) # удалить того что нет - нельзя"
   ]
  },
  {
   "cell_type": "code",
   "execution_count": 6,
   "metadata": {},
   "outputs": [
    {
     "name": "stdout",
     "output_type": "stream",
     "text": [
      "{'smth new', 3.14, None, 'this is a string'}\n",
      "{'smth new', None, 'this is a string'}\n"
     ]
    }
   ],
   "source": [
    "# но можно сделать так (удалить, если есть)\n",
    "thisset.discard(2) \n",
    "print(thisset)\n",
    "thisset.discard(3.14) \n",
    "print(thisset)"
   ]
  },
  {
   "cell_type": "markdown",
   "metadata": {},
   "source": [
    "## Преобразование кортеж - список - набор и обратно"
   ]
  },
  {
   "cell_type": "code",
   "execution_count": 49,
   "metadata": {},
   "outputs": [
    {
     "name": "stdout",
     "output_type": "stream",
     "text": [
      "[2, 3.14, None, 'this is a string']\n",
      "(2, 3.14, None, 'this is a string')\n",
      "{2, 3.14, None, 'this is a string'}\n",
      "[2, 3.14, None, 'this is a string']\n",
      "True\n"
     ]
    }
   ],
   "source": [
    "lis = [2, 3.14, None, 'this is a string']\n",
    "tup = tuple(lis)\n",
    "s = set(tup)\n",
    "new_lis = list(s)\n",
    "\n",
    "print (lis) \n",
    "print(tup)\n",
    "print(s)\n",
    "print(new_lis)\n",
    "print(lis == new_lis) "
   ]
  },
  {
   "cell_type": "code",
   "execution_count": 50,
   "metadata": {
    "scrolled": true
   },
   "outputs": [
    {
     "name": "stdout",
     "output_type": "stream",
     "text": [
      "[3.14, 2, 'this is a string', None, 2, 2]\n",
      "(3.14, 2, 'this is a string', None, 2, 2)\n",
      "{2, 3.14, None, 'this is a string'}\n",
      "[2, 3.14, None, 'this is a string']\n",
      "False\n"
     ]
    }
   ],
   "source": [
    "# В сете могут произойти потери или перестановки!!!\n",
    "lis = [3.14, 2, 'this is a string', None, 2, 2] # сменим порядок или добавим одинаковых\n",
    "tup = tuple(lis)\n",
    "s = set(tup)\n",
    "new_lis = list(s)\n",
    "\n",
    "print (lis) \n",
    "print(tup)\n",
    "print(s)\n",
    "print(new_lis)\n",
    "print(lis == new_lis) "
   ]
  },
  {
   "cell_type": "markdown",
   "metadata": {},
   "source": [
    "## И всё же, чем же кортеж лучше списка?"
   ]
  },
  {
   "cell_type": "markdown",
   "metadata": {},
   "source": [
    "Вы могли заметить, что список умеет всё то же самое что кортеж, и даже больше. Смысл использования кортежа как раз и заключается в том, что он прост и туп, и работать с ним быстрее. "
   ]
  },
  {
   "cell_type": "code",
   "execution_count": 52,
   "metadata": {},
   "outputs": [
    {
     "name": "stdout",
     "output_type": "stream",
     "text": [
      "9.06 ns ± 0.322 ns per loop (mean ± std. dev. of 7 runs, 100000000 loops each)\n"
     ]
    }
   ],
   "source": [
    "timeit((3.14, 2, 'this is a string', None)) "
   ]
  },
  {
   "cell_type": "code",
   "execution_count": 53,
   "metadata": {},
   "outputs": [
    {
     "name": "stdout",
     "output_type": "stream",
     "text": [
      "60.2 ns ± 5.59 ns per loop (mean ± std. dev. of 7 runs, 10000000 loops each)\n"
     ]
    }
   ],
   "source": [
    "timeit([3.14, 2, 'this is a string', None])"
   ]
  },
  {
   "cell_type": "code",
   "execution_count": 54,
   "metadata": {},
   "outputs": [
    {
     "name": "stdout",
     "output_type": "stream",
     "text": [
      "88.4 ns ± 6.34 ns per loop (mean ± std. dev. of 7 runs, 10000000 loops each)\n"
     ]
    }
   ],
   "source": [
    "timeit({3.14, 2, 'this is a string', None})"
   ]
  },
  {
   "cell_type": "markdown",
   "metadata": {},
   "source": [
    "## Словари, или хэши (dictionary)"
   ]
  },
  {
   "cell_type": "markdown",
   "metadata": {},
   "source": [
    "Словарь – это специальная структура данных, в которой доступ к элементу осуществляется по ключу, который может быть любым неизменяемым типом данных"
   ]
  },
  {
   "cell_type": "markdown",
   "metadata": {},
   "source": [
    "![alt text](seminar1_python_basics/python_dictionary.jpg) "
   ]
  },
  {
   "cell_type": "code",
   "execution_count": 58,
   "metadata": {},
   "outputs": [
    {
     "name": "stdout",
     "output_type": "stream",
     "text": [
      "{'age': 5, 'amount': 'unknown', 11: [32, 33, 34]}\n"
     ]
    }
   ],
   "source": [
    "# Создание словаря, обычный метод\n",
    "h1 = {'age' : 5, 'amount' : 'unknown', 11 : [32, 33, 34]} \n",
    "print(h1)"
   ]
  },
  {
   "cell_type": "code",
   "execution_count": 59,
   "metadata": {},
   "outputs": [],
   "source": [
    "# Создание словаря, с помощью отдельных списков ключей и значений\n",
    "key_list = ['age', 'amount', 11]\n",
    "value_list = [5, 'unknown', [32, 33, 34]]\n",
    "h2 = dict(zip(key_list, value_list)) "
   ]
  },
  {
   "cell_type": "code",
   "execution_count": 60,
   "metadata": {},
   "outputs": [
    {
     "name": "stdout",
     "output_type": "stream",
     "text": [
      "True\n"
     ]
    }
   ],
   "source": [
    "print(h1 == h2)"
   ]
  },
  {
   "cell_type": "code",
   "execution_count": 61,
   "metadata": {},
   "outputs": [
    {
     "name": "stdout",
     "output_type": "stream",
     "text": [
      "{'age': 5, 'amount': 'new_value', 11: [32, 33, 34]}\n"
     ]
    }
   ],
   "source": [
    "h2['amount'] = 'new_value' # Доступ по ключу\n",
    "print(h2)"
   ]
  },
  {
   "cell_type": "code",
   "execution_count": 62,
   "metadata": {},
   "outputs": [
    {
     "name": "stdout",
     "output_type": "stream",
     "text": [
      "Keys: ['age', 'amount', 11] Values: [5, 'new_value', [32, 33, 34]]\n"
     ]
    }
   ],
   "source": [
    "h2_keys = list(h2.keys()) # Список ключей словаря\n",
    "h2_values = list(h2.values()) # Список значений словаря\n",
    "print('Keys:', h2_keys, 'Values:', h2_values)"
   ]
  },
  {
   "cell_type": "code",
   "execution_count": 63,
   "metadata": {},
   "outputs": [
    {
     "name": "stdout",
     "output_type": "stream",
     "text": [
      "{'age': 5, 11: [32, 33, 34]}\n"
     ]
    }
   ],
   "source": [
    "# Удаление элемента по ключу\n",
    "del h2['amount'] \n",
    "print(h2)"
   ]
  },
  {
   "cell_type": "code",
   "execution_count": 64,
   "metadata": {},
   "outputs": [
    {
     "name": "stdout",
     "output_type": "stream",
     "text": [
      "2\n"
     ]
    }
   ],
   "source": [
    "# Длина словаря \n",
    "print(len(h2)) "
   ]
  },
  {
   "cell_type": "code",
   "execution_count": 65,
   "metadata": {},
   "outputs": [
    {
     "name": "stdout",
     "output_type": "stream",
     "text": [
      "True False\n"
     ]
    }
   ],
   "source": [
    "key1_in_h = 'age' in h2 # Проверка на существование элемента с таким ключом\n",
    "key2_in_h = 'amount' in h2 \n",
    "print(key1_in_h, key2_in_h)"
   ]
  },
  {
   "cell_type": "markdown",
   "metadata": {},
   "source": [
    "## ВАЖНО\n",
    "### Ссылки и копирование"
   ]
  },
  {
   "cell_type": "markdown",
   "metadata": {},
   "source": [
    "По умолчанию в Python все является объектом. При присваивании var1 = var2 копируется не значение переменной var2, а ссылка на это значение. И если для простых неизменяемых типов это не приводит к затруднению (каждое новое присваивание приводит к изменению значения только той переменной, которой присваивается значение), то в случае со списками и словарями ситуация сложнее.\n"
   ]
  },
  {
   "cell_type": "code",
   "execution_count": 66,
   "metadata": {},
   "outputs": [
    {
     "name": "stdout",
     "output_type": "stream",
     "text": [
      "2 3\n"
     ]
    }
   ],
   "source": [
    "var1 = 1\n",
    "var2 = 2\n",
    "var1 = var2 # var1 == var2 == 2\n",
    "var2 = 3 # var1 значение не поменяет, потому что меняется ссылка в var2, а в var1 - нет\n",
    "print(var1, var2)"
   ]
  },
  {
   "cell_type": "code",
   "execution_count": 67,
   "metadata": {},
   "outputs": [
    {
     "name": "stdout",
     "output_type": "stream",
     "text": [
      "[3, 4] [5, 6]\n"
     ]
    }
   ],
   "source": [
    "arr1 = [1, 2]\n",
    "arr2 = [3, 4]\n",
    "arr1 = arr2\n",
    "arr2 = [5, 6]\n",
    "print(arr1, arr2) \n",
    "# Вроде все хорошо, как и в случае со скалярными переменными"
   ]
  },
  {
   "cell_type": "code",
   "execution_count": 68,
   "metadata": {},
   "outputs": [
    {
     "name": "stdout",
     "output_type": "stream",
     "text": [
      "[1, 2, 3] [1, 2, 3]\n",
      "[1, 10, 3] [1, 10, 3]\n"
     ]
    }
   ],
   "source": [
    "arr1 = arr2 = [1,2,3]\n",
    "print(arr1, arr2)\n",
    "arr2[1] = 10 # кручу-верчу, запутать хочу!\n",
    "# Поменяем только ссылку на второе значение, и вуаля\n",
    "print(arr1, arr2) # последнее значение поменялось в обоих массивах"
   ]
  },
  {
   "cell_type": "markdown",
   "metadata": {},
   "source": [
    "Борьба с такими неочевидными случаями следующая: для словарей при присваивании пользоваться методом объект1 = объект2.copy(), а в общем случае (в т.ч. и для списков) пользоваться методами copy() (или deepcopy(), если присваиваем вложенные списки) из пакета copy"
   ]
  },
  {
   "cell_type": "code",
   "execution_count": 69,
   "metadata": {},
   "outputs": [
    {
     "name": "stdout",
     "output_type": "stream",
     "text": [
      "[1, 2, 3] [1, 2, 3]\n",
      "[1, 2, 3] [1, 10, 3]\n"
     ]
    }
   ],
   "source": [
    "arr1 = [1,2,3] \n",
    "arr2 = arr1.copy()\n",
    "print(arr1, arr2)\n",
    "arr2[1] = 10 # кручу-верчу, запутать хочу!\n",
    "# Поменяем только ссылку на второе значение, и вуаля\n",
    "print(arr1, arr2) \n",
    "# на этот раз всё как мы ожидали"
   ]
  },
  {
   "cell_type": "markdown",
   "metadata": {},
   "source": [
    "Проверить, имеют ли объекты одни и те же ссылки, можно с помощью служебного слова is"
   ]
  },
  {
   "cell_type": "code",
   "execution_count": 70,
   "metadata": {},
   "outputs": [
    {
     "name": "stdout",
     "output_type": "stream",
     "text": [
      "[1, 2] [1, 2] True\n",
      "[1, 2] [1, 2] False\n"
     ]
    }
   ],
   "source": [
    "arr1 = [1, 2]\n",
    "arr2 = arr1\n",
    "print(arr1, arr2, arr1 is arr2)\n",
    "arr3 = arr1.copy()\n",
    "print(arr1, arr3, arr1 is arr3)"
   ]
  },
  {
   "cell_type": "markdown",
   "metadata": {},
   "source": [
    "# Функции"
   ]
  },
  {
   "cell_type": "markdown",
   "metadata": {},
   "source": [
    "## Определение функции и параметры вызова\n",
    "* Определение функции с помощью def:"
   ]
  },
  {
   "cell_type": "code",
   "execution_count": 71,
   "metadata": {},
   "outputs": [
    {
     "name": "stdout",
     "output_type": "stream",
     "text": [
      "This is my funtion!\n"
     ]
    }
   ],
   "source": [
    "def func():\n",
    "    print('This is my funtion!')    \n",
    "    \n",
    "func()"
   ]
  },
  {
   "cell_type": "markdown",
   "metadata": {},
   "source": [
    "* Параметры могут быть позиционными и именованными\n",
    "* Именованные должны всегда идти после позиционных\n",
    "* Именованные при вызове можно помещать в любом порядке за позиционными\n",
    "* Именованные подразумевают задание значений по умолчанию"
   ]
  },
  {
   "cell_type": "code",
   "execution_count": 72,
   "metadata": {},
   "outputs": [
    {
     "name": "stdout",
     "output_type": "stream",
     "text": [
      "x=q y=w z=1 w=2\n",
      "x=q y=w z=6 w=7\n",
      "x=q y=w z=222 w=111\n"
     ]
    }
   ],
   "source": [
    "def funcpar(x, y, z=1, u=2):\n",
    "    print('x={} y={} z={} w={}'.format(x,y,z,u))\n",
    "    \n",
    "funcpar('q', 'w') # Использование заданных по умолчанию значений\n",
    "funcpar('q', 'w', 6, 7) # Можно задавать именованные параметры как позиционные\n",
    "funcpar('q', 'w', u=111, z=222) # Можно менять местами именованные параметры"
   ]
  },
  {
   "cell_type": "markdown",
   "metadata": {},
   "source": [
    "## Возвращаемые значения\n",
    "* Возвращаемое значение определяется служебным словом return\n",
    "* Если return отсутствует, либо вызывается без аргументов, то возвращается значение None\n",
    "* При возвращении нескольких значений эти значения заключаются в кортеж\n",
    "\n"
   ]
  },
  {
   "cell_type": "code",
   "execution_count": 73,
   "metadata": {},
   "outputs": [
    {
     "name": "stdout",
     "output_type": "stream",
     "text": [
      "f1\n",
      "f2\n",
      "f3\n",
      "r1=None r2=None r3=(1, 2, 3)\n"
     ]
    }
   ],
   "source": [
    "def f1():\n",
    "    print('f1')\n",
    "    \n",
    "def f2():\n",
    "    print('f2')\n",
    "    return\n",
    "\n",
    "def f3():\n",
    "    print('f3')\n",
    "    return 1, 2, 3\n",
    "\n",
    "r1 = f1()\n",
    "r2 = f2()\n",
    "r3 = f3()\n",
    "print('r1={} r2={} r3={}'.format(r1, r2, r3))"
   ]
  },
  {
   "cell_type": "markdown",
   "metadata": {},
   "source": [
    "## Передача по ссылке"
   ]
  },
  {
   "cell_type": "markdown",
   "metadata": {},
   "source": [
    "* Значения в функцию передаются по ссылке, но сами ссылки передаются по значению, поэтому в функции нельзя заставить ссылку из точки вызова ссылаться на другой объект:\n",
    "    * Значения сложных типов (список, словарь, объект пользовательского класса) можно изменить, не меняя ссылки => можем их менять изнутри функции\n",
    "    * Простые типы (число, строка, кортеж) нельзя изменить, не меняя ссылку на объект => не получится изменить изнутри функции\n"
   ]
  },
  {
   "cell_type": "code",
   "execution_count": 74,
   "metadata": {},
   "outputs": [],
   "source": [
    "def fsimple(x):\n",
    "    print('Func that does x += 1')\n",
    "    x += 1\n",
    "    \n",
    "def fcomplex(x):\n",
    "    print('Func that does x[0] += 1')\n",
    "    x[0] += 1\n",
    "    \n",
    "# Они обе ничего не возвращают!"
   ]
  },
  {
   "cell_type": "code",
   "execution_count": 73,
   "metadata": {},
   "outputs": [
    {
     "name": "stdout",
     "output_type": "stream",
     "text": [
      "Func that does x += 1\n",
      "Func that does x[0] += 1\n",
      "x1=100 x2=[101, 200]\n"
     ]
    }
   ],
   "source": [
    "x1 = 100\n",
    "x2 = [100, 200]\n",
    "\n",
    "fsimple(x1)\n",
    "fcomplex(x2)\n",
    "\n",
    "print('x1={} x2={}'.format(x1, x2))"
   ]
  },
  {
   "cell_type": "markdown",
   "metadata": {},
   "source": [
    "## Ссылки на функции\n",
    "* Имя функции является ссылкой на нее"
   ]
  },
  {
   "cell_type": "code",
   "execution_count": 74,
   "metadata": {},
   "outputs": [
    {
     "name": "stdout",
     "output_type": "stream",
     "text": [
      "111\n",
      "++222++\n"
     ]
    }
   ],
   "source": [
    "def myprint(x):\n",
    "    print('++{}++'.format(x))\n",
    "    \n",
    "lis = [print, myprint] # Определяем список ссылок на функции\n",
    "lis[0](111) # Вызываем их с аргументами\n",
    "lis[1](222)"
   ]
  },
  {
   "cell_type": "markdown",
   "metadata": {},
   "source": [
    "## Лямбда-функция \n",
    "Это простая функция в одно выражение"
   ]
  },
  {
   "cell_type": "code",
   "execution_count": 7,
   "metadata": {},
   "outputs": [
    {
     "name": "stdout",
     "output_type": "stream",
     "text": [
      "27\n"
     ]
    }
   ],
   "source": [
    "myf = lambda x: x*x*x # Определение лямбда-функции\n",
    "\n",
    "print(myf(3)) # Ее вызов"
   ]
  },
  {
   "cell_type": "markdown",
   "metadata": {},
   "source": [
    "## Передаваемые аргументы\n",
    "В функцию можно передавать не только заранее продуманное число переменных, но и, вообще говоря, любое число любых переменных. Делается это с помощью с помощью `*` и `**` (`*`args и `**`kwargs, соответственно). \n",
    "\n",
    "kw - keyword (речь о словарях)\n",
    "\n",
    "Проще всего понять происходящее на примере."
   ]
  },
  {
   "cell_type": "code",
   "execution_count": 8,
   "metadata": {},
   "outputs": [
    {
     "name": "stdout",
     "output_type": "stream",
     "text": [
      "sum: 35\n"
     ]
    }
   ],
   "source": [
    "# Зададим функцию сложения трёх переменных\n",
    "def adder(x,y,z): \n",
    "    print(\"sum:\",x+y+z)\n",
    "\n",
    "adder(10,12,13)"
   ]
  },
  {
   "cell_type": "code",
   "execution_count": 9,
   "metadata": {},
   "outputs": [
    {
     "ename": "TypeError",
     "evalue": "adder() takes 3 positional arguments but 5 were given",
     "output_type": "error",
     "traceback": [
      "\u001b[1;31m---------------------------------------------------------------------------\u001b[0m",
      "\u001b[1;31mTypeError\u001b[0m                                 Traceback (most recent call last)",
      "\u001b[1;32m<ipython-input-9-24f667e67b39>\u001b[0m in \u001b[0;36m<module>\u001b[1;34m\u001b[0m\n\u001b[0;32m      1\u001b[0m \u001b[1;31m# Передадим в неё больше переменных\u001b[0m\u001b[1;33m\u001b[0m\u001b[1;33m\u001b[0m\u001b[1;33m\u001b[0m\u001b[0m\n\u001b[0;32m      2\u001b[0m \u001b[1;33m\u001b[0m\u001b[0m\n\u001b[1;32m----> 3\u001b[1;33m \u001b[0madder\u001b[0m\u001b[1;33m(\u001b[0m\u001b[1;36m5\u001b[0m\u001b[1;33m,\u001b[0m\u001b[1;36m10\u001b[0m\u001b[1;33m,\u001b[0m\u001b[1;36m15\u001b[0m\u001b[1;33m,\u001b[0m\u001b[1;36m20\u001b[0m\u001b[1;33m,\u001b[0m\u001b[1;36m25\u001b[0m\u001b[1;33m)\u001b[0m\u001b[1;33m\u001b[0m\u001b[1;33m\u001b[0m\u001b[0m\n\u001b[0m",
      "\u001b[1;31mTypeError\u001b[0m: adder() takes 3 positional arguments but 5 were given"
     ]
    }
   ],
   "source": [
    "# Передадим в неё больше переменных\n",
    "\n",
    "adder(5,10,15,20,25)"
   ]
  },
  {
   "cell_type": "markdown",
   "metadata": {},
   "source": [
    "А что делать если мы заранее количество переменных не знаем? сколько пришло - столько и сложить. Обычно в таких случаях люди пишут какой-то цикл, в питоне это можно решить, сделав функцию не сложением трёх переменных, а сложением всех пришедших переменных"
   ]
  },
  {
   "cell_type": "code",
   "execution_count": 10,
   "metadata": {},
   "outputs": [],
   "source": [
    "def adder(*num):\n",
    "    sum = 0\n",
    "    \n",
    "    for n in num:\n",
    "        sum = sum + n\n",
    "    print(\"sum:\",sum)"
   ]
  },
  {
   "cell_type": "code",
   "execution_count": 11,
   "metadata": {},
   "outputs": [
    {
     "name": "stdout",
     "output_type": "stream",
     "text": [
      "sum: 8\n",
      "sum: 22\n",
      "sum: 17\n"
     ]
    }
   ],
   "source": [
    "# Проверим на разном числе входных данных\n",
    "adder(3,5)\n",
    "adder(4,5,6,7)\n",
    "adder(1,2,3,5,6)"
   ]
  },
  {
   "cell_type": "markdown",
   "metadata": {},
   "source": [
    "`**`kwargs делает то же самое с данными типа \"словарь\""
   ]
  },
  {
   "cell_type": "code",
   "execution_count": 13,
   "metadata": {},
   "outputs": [],
   "source": [
    "def intro(**data):\n",
    "    for key, value in data.items():\n",
    "        print(\"{} is {}\".format(key,value))"
   ]
  },
  {
   "cell_type": "code",
   "execution_count": 14,
   "metadata": {},
   "outputs": [
    {
     "name": "stdout",
     "output_type": "stream",
     "text": [
      "Firstname is Sita\n",
      "Lastname is Sharma\n",
      "Age is 22\n",
      "Phone is 1234567890\n"
     ]
    }
   ],
   "source": [
    "intro(Firstname=\"Sita\", Lastname=\"Sharma\", Age=22, Phone=1234567890)"
   ]
  },
  {
   "cell_type": "code",
   "execution_count": 15,
   "metadata": {},
   "outputs": [
    {
     "name": "stdout",
     "output_type": "stream",
     "text": [
      "Firstname is John\n",
      "Lastname is Wood\n",
      "Email is johnwood@nomail.com\n",
      "Country is Wakanda\n",
      "Age is 25\n",
      "Phone is 9876543210\n"
     ]
    }
   ],
   "source": [
    "intro(Firstname=\"John\", Lastname=\"Wood\", Email=\"johnwood@nomail.com\", Country=\"Wakanda\", Age=25, Phone=9876543210)"
   ]
  },
  {
   "cell_type": "code",
   "execution_count": 16,
   "metadata": {},
   "outputs": [],
   "source": [
    "# Когда имеем дело одновременно с обязательными входными данными,\n",
    "# а так же неизвестными обычными и словарными, то делать надо так:\n",
    "\n",
    "def diff_param_func(x, *y, **z):\n",
    "    print('Predefined:', x)\n",
    "    print('Non-predefined:', y)\n",
    "    print('Dictionary:')   \n",
    "    for key, value in z.items():\n",
    "        print(\"{} is {}\".format(key,value))"
   ]
  },
  {
   "cell_type": "code",
   "execution_count": 17,
   "metadata": {},
   "outputs": [
    {
     "name": "stdout",
     "output_type": "stream",
     "text": [
      "Predefined: 10\n",
      "Non-predefined: (55, 66, 77)\n",
      "Dictionary:\n",
      "name is John\n",
      "age is 30\n"
     ]
    }
   ],
   "source": [
    "diff_param_func(10, 55, 66, 77, name='John', age=30)"
   ]
  },
  {
   "cell_type": "markdown",
   "metadata": {},
   "source": [
    "# Импорт модулей (пакетов)"
   ]
  },
  {
   "cell_type": "markdown",
   "metadata": {},
   "source": [
    "Модуль (библиотека) в Python – это просто файл с расширением ‘.py’, в котором определены некоторые функции и / или классы.\n",
    "\n",
    "Есть два способа использования модулей:\n",
    "\n",
    "* Загрузка в текущее пространство имен\n",
    "* Загрузка в новое именованное пространство имен\n",
    "\n",
    "Содержимое уже загруженного модуля можно посмотреть с помощью команды dir.\n"
   ]
  },
  {
   "cell_type": "markdown",
   "metadata": {},
   "source": [
    "Попробуем оба способа. Соответствующие файлы лежат в папке с материалами лекции  "
   ]
  },
  {
   "cell_type": "code",
   "execution_count": 87,
   "metadata": {},
   "outputs": [],
   "source": [
    "# Загружаем все из mypackage в пространство имен mypackage\n",
    "import seminar1_python_basics.mypackage"
   ]
  },
  {
   "cell_type": "code",
   "execution_count": 88,
   "metadata": {},
   "outputs": [],
   "source": [
    "import sys\n",
    "sys.path\n",
    "sys.path.append('./seminar1_python_basics')"
   ]
  },
  {
   "cell_type": "code",
   "execution_count": 89,
   "metadata": {},
   "outputs": [],
   "source": [
    "# Теперь полный путь указывать не нужно\n",
    "import mypackage "
   ]
  },
  {
   "cell_type": "code",
   "execution_count": 90,
   "metadata": {},
   "outputs": [],
   "source": [
    "# Загружаем все из mypackage2 в текущее пространство имен\n",
    "from mypackage2 import * "
   ]
  },
  {
   "cell_type": "code",
   "execution_count": 91,
   "metadata": {},
   "outputs": [
    {
     "data": {
      "text/plain": [
       "['__builtins__',\n",
       " '__cached__',\n",
       " '__doc__',\n",
       " '__file__',\n",
       " '__loader__',\n",
       " '__name__',\n",
       " '__package__',\n",
       " '__spec__',\n",
       " 'myfunc1',\n",
       " 'myfunc2']"
      ]
     },
     "execution_count": 91,
     "metadata": {},
     "output_type": "execute_result"
    }
   ],
   "source": [
    "dir(mypackage)"
   ]
  },
  {
   "cell_type": "code",
   "execution_count": 92,
   "metadata": {},
   "outputs": [
    {
     "name": "stdout",
     "output_type": "stream",
     "text": [
      "My func 1\n",
      "My new func 1\n"
     ]
    }
   ],
   "source": [
    "mypackage.myfunc1() # Обращение через именованное пространство имен\n",
    "mynewfunc1() # Обращение через глобальное пространство имен"
   ]
  },
  {
   "cell_type": "markdown",
   "metadata": {},
   "source": [
    "Можно из модуля загрузить одну или несколько функций, не загружая остальные."
   ]
  },
  {
   "cell_type": "code",
   "execution_count": 93,
   "metadata": {},
   "outputs": [
    {
     "name": "stdout",
     "output_type": "stream",
     "text": [
      "My func 1\n"
     ]
    }
   ],
   "source": [
    "from mypackage import myfunc1 # Загружаем только функцию myfunc1\n",
    "myfunc1()"
   ]
  },
  {
   "cell_type": "markdown",
   "metadata": {},
   "source": [
    "Можно при загрузке поменять название модуля или функций"
   ]
  },
  {
   "cell_type": "code",
   "execution_count": 95,
   "metadata": {},
   "outputs": [
    {
     "name": "stdout",
     "output_type": "stream",
     "text": [
      "My func 1\n",
      "My func 1\n"
     ]
    }
   ],
   "source": [
    "import mypackage as yourpackage # Переименовываем название модуля\n",
    "from mypackage import myfunc1 as yourfunc1 # Переименовываем название функции\n",
    "\n",
    "yourpackage.myfunc1()\n",
    "yourfunc1()"
   ]
  },
  {
   "cell_type": "code",
   "execution_count": 94,
   "metadata": {},
   "outputs": [],
   "source": [
    "import numpy as np\n",
    "import pandas as pd"
   ]
  },
  {
   "cell_type": "markdown",
   "metadata": {},
   "source": [
    "Загрузка стандартных библиотек (numpy, math и пр.), которые были предустановлены с Python либо установлены позднее с помощью pip, conda или ещё как-то, осуществляется точно так же с использованием конструкции import"
   ]
  },
  {
   "cell_type": "code",
   "execution_count": 96,
   "metadata": {},
   "outputs": [
    {
     "name": "stdout",
     "output_type": "stream",
     "text": [
      "5.0\n"
     ]
    }
   ],
   "source": [
    "import math\n",
    "print(math.sqrt(25))"
   ]
  },
  {
   "cell_type": "code",
   "execution_count": 97,
   "metadata": {},
   "outputs": [],
   "source": [
    "from math import sqrt"
   ]
  },
  {
   "cell_type": "code",
   "execution_count": 98,
   "metadata": {},
   "outputs": [
    {
     "data": {
      "text/plain": [
       "5.0"
      ]
     },
     "execution_count": 98,
     "metadata": {},
     "output_type": "execute_result"
    }
   ],
   "source": [
    "sqrt(25)"
   ]
  },
  {
   "cell_type": "markdown",
   "metadata": {},
   "source": [
    "### ДЗ для проверки своих знаний."
   ]
  },
  {
   "cell_type": "markdown",
   "metadata": {},
   "source": [
    "![alt text](seminar1_python_basics/hometask.jpg)"
   ]
  },
  {
   "cell_type": "markdown",
   "metadata": {},
   "source": [
    "Предлагаю всем кто внимательно прослушал сегодняшний семинар мини-задание на закрепление материала:\n",
    "\n",
    "Написать функцию для 4 основных арифметических операций: сложение, вычитание, умножение, деление, для сколько угодно переменных, сложить это в отдельный файл и сам файл (и ноутбук с описанным импортом и примерами) прислать нам на почту: **aleksandr.o.volkov@phystech.edu** с темой *python-seminar1*, не забыв указать своё имя-фамилию.\n",
    "\n",
    "примеры для валидации:\n",
    "\n",
    "- a + b + c + d = arithmetics['addition'](a, b, c, d)\n",
    "\n",
    "- a - b - c - d = arithmetics['subtraction'](a, b, c, d)\n",
    "\n",
    "- a * b * c * d = arithmetics['multiplication'](a, b, c, d)\n",
    "\n",
    "- a / b / c / d = arithmetics['division'](a, b, c, d)"
   ]
  },
  {
   "cell_type": "code",
   "execution_count": null,
   "metadata": {},
   "outputs": [],
   "source": []
  }
 ],
 "metadata": {
  "kernelspec": {
   "display_name": "Python 3",
   "language": "python",
   "name": "python3"
  },
  "language_info": {
   "codemirror_mode": {
    "name": "ipython",
    "version": 3
   },
   "file_extension": ".py",
   "mimetype": "text/x-python",
   "name": "python",
   "nbconvert_exporter": "python",
   "pygments_lexer": "ipython3",
   "version": "3.9.2"
  }
 },
 "nbformat": 4,
 "nbformat_minor": 4
}
