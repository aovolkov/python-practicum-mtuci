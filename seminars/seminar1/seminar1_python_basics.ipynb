{
 "cells": [
  {
   "cell_type": "markdown",
   "metadata": {},
   "source": [
    "# Курс \"Информационные технологии и программирование\"\n"
   ]
  },
  {
   "cell_type": "markdown",
   "metadata": {},
   "source": [
    "![alt text](seminar1_python_basics/logo.png)"
   ]
  },
  {
   "cell_type": "markdown",
   "metadata": {},
   "source": [
    "# Семинар 1. Введение в Python"
   ]
  },
  {
   "cell_type": "markdown",
   "metadata": {},
   "source": [
    "Python язык уже не очень молодой (1991 г), но невероятно популярный в наше время.\n",
    "\n",
    "Разрабатывается сообществом во главе с Гвидо Ван Россумом (“Пожизненным Великодушным Диктатором”)\n",
    "\n",
    "Свойства Python:\n",
    "\n",
    "- язык высокого уровня общего назначения\n",
    "- поддержка динамической типизации\n",
    "- автоматическое управление памятью\n",
    "- кроссплатформенность\n",
    "- поддержка нескольких парадигм (процедурной, объектной, функциональной)\n",
    "- мощная стандартная библиотека\n",
    "- огромное число сторонних библиотек\n",
    "- интерпретируемый\n",
    "\n",
    "Области применения:\n",
    "\n",
    "- скрипты, в том числе для системного администрирования\n",
    "- обработка текстов，картинок, видео, звука\n",
    "- обработка и визуализация данных (особенно в научной области)\n",
    "- веб-программирование\n",
    "- нейронные сети, машинное обучение, ИИ"
   ]
  },
  {
   "cell_type": "markdown",
   "metadata": {},
   "source": [
    "## 1. Философия питона"
   ]
  },
  {
   "cell_type": "code",
   "execution_count": 1,
   "metadata": {},
   "outputs": [
    {
     "name": "stdout",
     "output_type": "stream",
     "text": [
      "The Zen of Python, by Tim Peters\n",
      "\n",
      "Beautiful is better than ugly.\n",
      "Explicit is better than implicit.\n",
      "Simple is better than complex.\n",
      "Complex is better than complicated.\n",
      "Flat is better than nested.\n",
      "Sparse is better than dense.\n",
      "Readability counts.\n",
      "Special cases aren't special enough to break the rules.\n",
      "Although practicality beats purity.\n",
      "Errors should never pass silently.\n",
      "Unless explicitly silenced.\n",
      "In the face of ambiguity, refuse the temptation to guess.\n",
      "There should be one-- and preferably only one --obvious way to do it.\n",
      "Although that way may not be obvious at first unless you're Dutch.\n",
      "Now is better than never.\n",
      "Although never is often better than *right* now.\n",
      "If the implementation is hard to explain, it's a bad idea.\n",
      "If the implementation is easy to explain, it may be a good idea.\n",
      "Namespaces are one honking great idea -- let's do more of those!\n"
     ]
    }
   ],
   "source": [
    "import this"
   ]
  },
  {
   "cell_type": "markdown",
   "metadata": {},
   "source": [
    "![alt text](seminar1_python_basics/simplicity.jpg)"
   ]
  },
  {
   "cell_type": "markdown",
   "metadata": {},
   "source": [
    "На текущий момент существует две версии питона, Python2 и Python3. С первого января 2021 года Python2 больше не поддерживаться. Поэтому изучать плюсы/минусы, различия и особенности не имеет смысла, просто возьмем Python3."
   ]
  },
  {
   "cell_type": "markdown",
   "metadata": {},
   "source": [
    "## 2. Установка\n",
    "\n",
    "Установка, разумеется, рознится в зависимости от операционной системы. Ввиду популярности и вариативности языка, методов установки найдется немало. Из простейших и рекомендуемых:  \n",
    "- с официального сайта https://www.python.org/downloads/\n",
    "- кондой https://www.anaconda.com/products/individual"
   ]
  },
  {
   "cell_type": "markdown",
   "metadata": {},
   "source": [
    "## А как лучше питонить?"
   ]
  },
  {
   "cell_type": "markdown",
   "metadata": {},
   "source": [
    "Есть минимум 3 варианта запускать код\n",
    "* Сохранять в файле с расширением \".py\", после чего запускать интерпрератор python с подачей этого файла на вход (обычный способ)\n",
    "* Использовать интерактивный режим в командной строке (запуск интерпретатора `python` и ввод команд справа от `>>>`)\n",
    "* Использовать интерактивный режим - IPython (например, Jupyter)"
   ]
  },
  {
   "cell_type": "markdown",
   "metadata": {},
   "source": [
    "Мы сейчас, соответственно, в юпитере. Так и будем продолжать все последующие презентации, потому что для лекций это удобно и красиво. \n",
    "\n",
    "#### !!! ВАЖНО \n",
    "Сразу надо отметить, что это не всегда самый удобный вариант для работы. Причин много. Во первых прыгать по окошкам запуская их в нужном порядке - удобно для какого-нибудь дебага или тестирования, но становится слишком медленным и трудозатратным когда надо это проделать много раз.\n",
    "Кроме того, юпитер не высвобождает память после окончания работы. Т.е. гпу остаются загруженными, а повторный запуск и вовсе может привести к переполнению памяти.\n",
    "\n",
    "Терминал же иногда удобно использоавть для проверки работает ли какой-то пакет или нет"
   ]
  },
  {
   "cell_type": "markdown",
   "metadata": {},
   "source": [
    "### Установка jupyter\n",
    "Делается с помощью `pip install jupyter`"
   ]
  },
  {
   "cell_type": "markdown",
   "metadata": {},
   "source": [
    "### Запуск jupyter\n",
    "После установки запуск происоходит с помощью команды `jupyter notebook`. Браузер автоматически откроет главное командное окно jupyter с заголовком \"Home\". Для запуска нового ноутбука нужно будет нажать на кнопку справа \"New\" и выбрать интерпретатор - Python 3."
   ]
  },
  {
   "cell_type": "markdown",
   "metadata": {},
   "source": [
    "### Ячейки (cell)\n",
    "Ячейки бывают двух типов: ячейки кода и ячейки разметки. \n",
    "\n",
    "В ячейках кода пишется код (точно так же, как и в обычном \\*.py). \n",
    "\n",
    "В ячейках разметки пишется обычный поясняющий текст (есть неплохая поддержка ТеХ: $\\sum_{i=0}^{\\infty}\\frac{1}{x^{i}}$ )."
   ]
  },
  {
   "cell_type": "markdown",
   "metadata": {},
   "source": [
    "### Особенности ячеек кода\n",
    "* Обычно код запускается ячейка за ячейкой (в любом порядке), кнопка \"Run\"\n",
    "* Если код \"завис\", то делается прерывание ядра (кнопка \"Interrupt\", аналог \"Ctrl-C\" в консоли)\n",
    "* В совсем запущенных случаях нужно делать перезапуск ядра с самого начала (кнопка \"Restart\")\n",
    "* При прерывании ядра значения переменных сохраняются, при перезапуске - нет"
   ]
  },
  {
   "cell_type": "markdown",
   "metadata": {},
   "source": [
    "### Запуск системных команд\n",
    "Делается с помощью `!команда`. Команды ниже - только для Unix-окружения."
   ]
  },
  {
   "cell_type": "code",
   "execution_count": 2,
   "metadata": {},
   "outputs": [
    {
     "name": "stderr",
     "output_type": "stream",
     "text": [
      "'pwd' is not recognized as an internal or external command,\n",
      "operable program or batch file.\n",
      "'ls' is not recognized as an internal or external command,\n",
      "operable program or batch file.\n"
     ]
    }
   ],
   "source": [
    "!pwd\n",
    "!ls ../"
   ]
  },
  {
   "cell_type": "markdown",
   "metadata": {},
   "source": [
    "## 3. Основные типы данных"
   ]
  },
  {
   "cell_type": "markdown",
   "metadata": {},
   "source": [
    "## Какими основными типами данных будем в основном пользоваться:\n",
    "* Числовые: `int` -> `float` -> `complex`\n",
    "* Логический: `bool` (`True` или `False`)\n",
    "* Строковый: `str`\n",
    "* `NoneType` и его единственный представитель: `None`\n",
    "\n",
    "Посмотреть тип переменной можно с помощью конструкции `type(var)`"
   ]
  },
  {
   "cell_type": "code",
   "execution_count": 4,
   "metadata": {},
   "outputs": [
    {
     "name": "stdout",
     "output_type": "stream",
     "text": [
      "10 <class 'int'>\n"
     ]
    }
   ],
   "source": [
    "x = 10\n",
    "print(x, type(x))"
   ]
  },
  {
   "cell_type": "code",
   "execution_count": 5,
   "metadata": {},
   "outputs": [
    {
     "name": "stdout",
     "output_type": "stream",
     "text": [
      "3.3333333333333335 <class 'float'>\n"
     ]
    }
   ],
   "source": [
    "y = 10 / 3\n",
    "print(y, type(y))"
   ]
  },
  {
   "cell_type": "code",
   "execution_count": 6,
   "metadata": {},
   "outputs": [
    {
     "name": "stdout",
     "output_type": "stream",
     "text": [
      "(2+3j) <class 'complex'>\n"
     ]
    }
   ],
   "source": [
    "z = 2 + 3j\n",
    "print(z, type(z))"
   ]
  },
  {
   "cell_type": "code",
   "execution_count": 7,
   "metadata": {},
   "outputs": [
    {
     "name": "stdout",
     "output_type": "stream",
     "text": [
      "False <class 'bool'>\n"
     ]
    }
   ],
   "source": [
    "a_0 = True\n",
    "a_1 = False\n",
    "a = a_0 == a_1\n",
    "print(a, type(a))"
   ]
  },
  {
   "cell_type": "code",
   "execution_count": 8,
   "metadata": {},
   "outputs": [
    {
     "name": "stdout",
     "output_type": "stream",
     "text": [
      "this is a string <class 'str'>\n"
     ]
    }
   ],
   "source": [
    "b = \"this is a string\"\n",
    "print(b, type(b))"
   ]
  },
  {
   "cell_type": "code",
   "execution_count": 9,
   "metadata": {},
   "outputs": [
    {
     "name": "stdout",
     "output_type": "stream",
     "text": [
      "None <class 'NoneType'>\n"
     ]
    }
   ],
   "source": [
    "c = None\n",
    "print(c, type(c))"
   ]
  },
  {
   "cell_type": "code",
   "execution_count": 10,
   "metadata": {},
   "outputs": [
    {
     "name": "stdout",
     "output_type": "stream",
     "text": [
      "True True\n"
     ]
    }
   ],
   "source": [
    "c_1 = c is None\n",
    "c_2 = b is not None\n",
    "print(c_1, c_2)"
   ]
  },
  {
   "cell_type": "markdown",
   "metadata": {},
   "source": [
    "В Python возможны множественные сравнения, так же как и присваивания:"
   ]
  },
  {
   "cell_type": "code",
   "execution_count": 10,
   "metadata": {},
   "outputs": [
    {
     "name": "stdout",
     "output_type": "stream",
     "text": [
      "True\n",
      "False\n"
     ]
    }
   ],
   "source": [
    "x = 10\n",
    "print(5 < x < 15)\n",
    "print(5 < x > 15)"
   ]
  },
  {
   "cell_type": "code",
   "execution_count": 12,
   "metadata": {},
   "outputs": [
    {
     "name": "stdout",
     "output_type": "stream",
     "text": [
      "10 123 123\n"
     ]
    }
   ],
   "source": [
    "y = z = 123\n",
    "print(x, y, z)"
   ]
  },
  {
   "cell_type": "code",
   "execution_count": 13,
   "metadata": {},
   "outputs": [
    {
     "data": {
      "text/plain": [
       "124"
      ]
     },
     "execution_count": 13,
     "metadata": {},
     "output_type": "execute_result"
    }
   ],
   "source": [
    "z += 1\n",
    "z"
   ]
  },
  {
   "cell_type": "code",
   "execution_count": 14,
   "metadata": {},
   "outputs": [
    {
     "data": {
      "text/plain": [
       "123"
      ]
     },
     "execution_count": 14,
     "metadata": {},
     "output_type": "execute_result"
    }
   ],
   "source": [
    "y"
   ]
  },
  {
   "cell_type": "markdown",
   "metadata": {},
   "source": [
    "### ВАЖНО\n",
    "\n",
    "При использовании более сложных типов данных, которые мы изучим в будущем, может сложиться ситуации что при таком множественном определении, мы выделим только 1 место в памяти и создадим только 1 переменную, и 2 ссылки на неё. И потом изменив одну автоматом изменим вторую. \n",
    "\n",
    "Это прямо таки не очень, можно потом неделю искать ошибку и рыдать обкладывая принтами каждую буковку. Во избежание преждевременного суицида, я рекомендую никогда так переменные не определять."
   ]
  },
  {
   "cell_type": "markdown",
   "metadata": {},
   "source": [
    "![alt text](Seminar1_python_basics/sugar.jpg) "
   ]
  },
  {
   "cell_type": "markdown",
   "metadata": {},
   "source": [
    "## Строки"
   ]
  },
  {
   "cell_type": "markdown",
   "metadata": {},
   "source": [
    "* Строки можно понимать как массив символов\n",
    "    * Соответственно проходить по символам циклом\n",
    "    * Такая же индексация\n",
    "    * Однако списком не является - при присвоении строки ведут себя как скалярные величины, а не как списки"
   ]
  },
  {
   "cell_type": "code",
   "execution_count": 15,
   "metadata": {
    "scrolled": true
   },
   "outputs": [
    {
     "name": "stdout",
     "output_type": "stream",
     "text": [
      "H\n",
      "e\n",
      "l\n",
      "l\n",
      "o\n",
      " \n",
      "t\n",
      "o\n",
      " \n",
      "A\n",
      "l\n",
      "l\n"
     ]
    }
   ],
   "source": [
    "st = \"Hello to All\"\n",
    "for c in st:\n",
    "    print(c)"
   ]
  },
  {
   "cell_type": "code",
   "execution_count": 16,
   "metadata": {},
   "outputs": [
    {
     "name": "stdout",
     "output_type": "stream",
     "text": [
      "1st char: H\n",
      "Slice: el oAl\n"
     ]
    }
   ],
   "source": [
    "print(\"1st char:\", st[0])\n",
    "print(\"Slice:\", st[1::2])"
   ]
  },
  {
   "cell_type": "code",
   "execution_count": 17,
   "metadata": {},
   "outputs": [
    {
     "name": "stdout",
     "output_type": "stream",
     "text": [
      "st = Hello to All\n",
      "st2 = Hello to All!!!\n"
     ]
    }
   ],
   "source": [
    "st2 = st # Копируем ссылку\n",
    "st2 += \"!!!\" # Меняем st2\n",
    "print('st =', st)\n",
    "print('st2 =', st2) # st не поменялась!"
   ]
  },
  {
   "cell_type": "markdown",
   "metadata": {},
   "source": [
    "## Форматирование строк\n",
    "Два основных метода форматирования строк:\n",
    "* Классический метод: с помощью оператора `%` (близок к Сишному `sprintf`)\n",
    "* Усовершенствованный способ: с помощью функции `format`"
   ]
  },
  {
   "cell_type": "code",
   "execution_count": 18,
   "metadata": {},
   "outputs": [
    {
     "name": "stdout",
     "output_type": "stream",
     "text": [
      "abracadabra 1.11 and also 34\n"
     ]
    }
   ],
   "source": [
    "s_in = \"%scadabra %.2f and also %d\"\n",
    "s_out = s_in % (\"abra\", 1.1111, 34)\n",
    "print(s_out)"
   ]
  },
  {
   "cell_type": "code",
   "execution_count": 19,
   "metadata": {},
   "outputs": [
    {
     "name": "stdout",
     "output_type": "stream",
     "text": [
      "abra and cad and also abracadabra\n"
     ]
    }
   ],
   "source": [
    "t_in = '{0} and {1} and also {0}{1}{0}' # в фигурных скобках будут вставляться значения из списка format с соответствующими индексами\n",
    "t_out = t_in.format('abra', 'cad') # Одинарные и двойные кавычки равнозначны\n",
    "print(t_out)"
   ]
  },
  {
   "cell_type": "markdown",
   "metadata": {},
   "source": [
    "### Полезные функции"
   ]
  },
  {
   "cell_type": "markdown",
   "metadata": {},
   "source": [
    "* Объединять строки с помощью одного разделителя: `разделитель.join(последовательность_строк)`\n",
    "* Разделить строку в список, используя разделитель: `строка.split(разделитель)`"
   ]
  },
  {
   "cell_type": "code",
   "execution_count": 20,
   "metadata": {},
   "outputs": [
    {
     "name": "stdout",
     "output_type": "stream",
     "text": [
      "Hello  to  all\n"
     ]
    }
   ],
   "source": [
    "st_list1 = ['Hello', 'to', 'all']\n",
    "st1 = '  '.join(st_list1)\n",
    "print(st1)"
   ]
  },
  {
   "cell_type": "code",
   "execution_count": 22,
   "metadata": {},
   "outputs": [
    {
     "name": "stdout",
     "output_type": "stream",
     "text": [
      "['Hello', 'to', 'all']\n"
     ]
    }
   ],
   "source": [
    "st2 = 'Hello,to,all'\n",
    "st_list2 = st2.split(',')\n",
    "print(st_list2)"
   ]
  },
  {
   "cell_type": "markdown",
   "metadata": {},
   "source": [
    "* Найти подстроку: `строка.find(подстрока)`\n",
    "* Заменить подстроку: `строка.replace(подстрока_old, подстрока_new)`\n",
    "* Проверка на вхождение (индекс не нужен): с помощью оператора `in`\n",
    "* Наиболее гибко можно работать со строками в модуле регулярных выражений `re`"
   ]
  },
  {
   "cell_type": "code",
   "execution_count": 23,
   "metadata": {
    "scrolled": true
   },
   "outputs": [
    {
     "name": "stdout",
     "output_type": "stream",
     "text": [
      "Index of \"lo\": 3\n",
      "Index of \"hi\": -1\n",
      "\"to\" is in string: True\n",
      "Replace \"all\" -> \"you\": Hello to you\n"
     ]
    }
   ],
   "source": [
    "st = 'Hello to all'\n",
    "print('Index of \"lo\":', st.find('lo')) # индекс подстроки\n",
    "print('Index of \"hi\":', st.find('hi')) # или -1, если такой нет\n",
    "print('\"to\" is in string:', 'to' in st)\n",
    "print('Replace \"all\" -> \"you\":', st.replace('all', 'you'))"
   ]
  },
  {
   "cell_type": "markdown",
   "metadata": {},
   "source": [
    "### 3.1 Важные замечания"
   ]
  },
  {
   "cell_type": "markdown",
   "metadata": {},
   "source": [
    "#### Регистрозависимость\n",
    "Все идентификаторы (названия служебных слов, переменных, функций, классов, пакетов и пр.) регистрозависимые."
   ]
  },
  {
   "cell_type": "code",
   "execution_count": 24,
   "metadata": {},
   "outputs": [
    {
     "name": "stdout",
     "output_type": "stream",
     "text": [
      "a = 20 A = 10\n"
     ]
    }
   ],
   "source": [
    "A = 10\n",
    "a = 20\n",
    "print(\"a =\", a, \"A =\", A)"
   ]
  },
  {
   "cell_type": "markdown",
   "metadata": {},
   "source": [
    "#### Индексация\n",
    "Индексы внутри последовательных структур данных всегда начинаются с `0`."
   ]
  },
  {
   "cell_type": "code",
   "execution_count": 29,
   "metadata": {},
   "outputs": [
    {
     "name": "stdout",
     "output_type": "stream",
     "text": [
      "T\n"
     ]
    }
   ],
   "source": [
    "mystring = 'This is a string'\n",
    "print(mystring[0])"
   ]
  },
  {
   "cell_type": "markdown",
   "metadata": {},
   "source": [
    "#### Комментарии\n",
    "* Однострочный комментарий начинается с символа `#`, который должен быть выровнен так же, как и блок кода, к которому он относится (если идет первым в строке)\n",
    "* Многострочный комментарий начинается и заканчивается тройной кавычкой `\"\"\"`"
   ]
  },
  {
   "cell_type": "code",
   "execution_count": 25,
   "metadata": {},
   "outputs": [
    {
     "name": "stdout",
     "output_type": "stream",
     "text": [
      "x < 2\n",
      "End of comments\n"
     ]
    }
   ],
   "source": [
    "# Comment 1\n",
    "x = 1 # Comment 2\n",
    "if x < 2:\n",
    "    # Comment 3\n",
    "    print(\"x < 2\")\n",
    "\"\"\"\n",
    "Multi-line \n",
    "comment\n",
    "print ('sorry, no print from here')\n",
    "\"\"\"\n",
    "print(\"End of comments\")"
   ]
  },
  {
   "cell_type": "markdown",
   "metadata": {},
   "source": [
    "### ВАЖНО \n",
    "#### Выделение блоков кода\n",
    "Многострочные блоки кода одного уровня, такие как условные конструкции, циклы и пр., всегда выделяются с помощью одинакового числа отступов (пробелы или табы). Лучше использовать отступ в 4 пробела.\n",
    "\n",
    "Соответственно, отступ - это не просто отступ, это операторные скобки, и его нельзя ставить где угодно и как попало"
   ]
  },
  {
   "cell_type": "code",
   "execution_count": 26,
   "metadata": {},
   "outputs": [
    {
     "name": "stdout",
     "output_type": "stream",
     "text": [
      "x > 5\n"
     ]
    }
   ],
   "source": [
    "x = 7\n",
    "if x > 5:\n",
    "    print(\"x > 5\")\n",
    "else:\n",
    "    print(\"x <= 5\")"
   ]
  },
  {
   "cell_type": "markdown",
   "metadata": {},
   "source": [
    "Если очень хочется поместить в одну строку несколько конструкций, можно пользоваться точкой с запятой `;`"
   ]
  },
  {
   "cell_type": "code",
   "execution_count": 27,
   "metadata": {},
   "outputs": [
    {
     "name": "stdout",
     "output_type": "stream",
     "text": [
      "\n",
      "Second print.\n"
     ]
    }
   ],
   "source": [
    "print(); print('Second print.') "
   ]
  },
  {
   "cell_type": "markdown",
   "metadata": {},
   "source": [
    "### Простейший ввод-вывод"
   ]
  },
  {
   "cell_type": "markdown",
   "metadata": {},
   "source": [
    "* Самые внимательные, могли заметить, что `print` нам уже встречался. \n",
    "* Для считывания данных с клавиатуры используется `input`"
   ]
  },
  {
   "cell_type": "code",
   "execution_count": 28,
   "metadata": {},
   "outputs": [
    {
     "name": "stdout",
     "output_type": "stream",
     "text": [
      "Enter string: erty\n",
      "You entered: erty\n"
     ]
    }
   ],
   "source": [
    "s = input('Enter string: ')\n",
    "print('You entered:', s)"
   ]
  },
  {
   "cell_type": "markdown",
   "metadata": {},
   "source": [
    "* Для работы с файлами используются стандартные функции `open()` и `close()`.\n",
    "    * Открыть файл: `файловый_дескриптор = open(имя_файла, флаги)`\n",
    "    * Флаги: 't' - текстовый (по умолчанию) или 'b' - бинарный, 'r', 'w', 'a' - открыть для чтения, записи, или добавления в конец\n",
    "    * Закрыть файл можно как `файловый_дескриптор.close()` либо при выходе из оператора контекста `with`\n",
    "\n",
    "Запись проиходит во время закрытия, поэтому кто не закрывает файлы - будет получать пустые болванки, которые система иногда даже удалять не хочет потому что \"файл открыт где-то ещё, завершите работу...\""
   ]
  },
  {
   "cell_type": "code",
   "execution_count": 29,
   "metadata": {},
   "outputs": [],
   "source": [
    "f = open('Seminar1_python_basics/fio.txt', 'w') # Открываем файл\n",
    "# Совершаем файловые операции\n",
    "f.close() # Закрываем файл\n",
    "\n",
    "# Или то же самое, но проще\n",
    "with open(\"Seminar1_python_basics/fio.txt\", 'w') as f: # Используем оператор контекста\n",
    "    # Совершаем файловые операции\n",
    "    pass # Обозначение пустого блока\n",
    "# На выходе из блока 'with' файл уже закрыт"
   ]
  },
  {
   "cell_type": "markdown",
   "metadata": {},
   "source": [
    "* Запись в файл можно сделать двумя способами\n",
    "    * `print(строка, file=файловый_дескриптор)`\n",
    "    * `файловый_дескриптор.write(строка)`"
   ]
  },
  {
   "cell_type": "code",
   "execution_count": 32,
   "metadata": {},
   "outputs": [],
   "source": [
    "str1 = 'Hello,'\n",
    "str2 = 'World!'\n",
    "with open('Seminar1_python_basics/fio1.txt', 'w') as f:\n",
    "    print(str1, file=f)\n",
    "    print(str2, file=f)"
   ]
  },
  {
   "cell_type": "code",
   "execution_count": 29,
   "metadata": {},
   "outputs": [
    {
     "name": "stdout",
     "output_type": "stream",
     "text": [
      "Hello,\r\n",
      "World!"
     ]
    }
   ],
   "source": [
    "with open('Python01-basics_extra/fio2.txt', 'w') as f:\n",
    "    f.write(str1 + '\\n') # write не добавляет перевод строки\n",
    "    f.write(str2)\n",
    "!cat Python01-basics_extra/fio2.txt"
   ]
  },
  {
   "cell_type": "markdown",
   "metadata": {},
   "source": [
    "* Чтение из файла лучше делать построчно\n",
    "    * Пройтись циклом по строкам: `for переменная in дескриптор_файла` \n",
    "    * Можно сразу получить все строки: `дескриптор_файла.readlines()`"
   ]
  },
  {
   "cell_type": "code",
   "execution_count": 33,
   "metadata": {},
   "outputs": [
    {
     "name": "stdout",
     "output_type": "stream",
     "text": [
      "Hello,\n",
      "World!\n"
     ]
    }
   ],
   "source": [
    "with open('Seminar1_python_basics/fio1.txt', 'r') as f:\n",
    "    for line in f:\n",
    "        print(line, end='') \n",
    "        # В прочитанных строках есть перевод строки, поэтому не будем переводить строки после print"
   ]
  },
  {
   "cell_type": "code",
   "execution_count": 34,
   "metadata": {},
   "outputs": [
    {
     "name": "stdout",
     "output_type": "stream",
     "text": [
      "['Hello,\\n', 'World!\\n']\n"
     ]
    }
   ],
   "source": [
    "with open('Seminar1_python_basics/fio1.txt', 'r') as f:\n",
    "    lines = f.readlines()\n",
    "    print(lines)"
   ]
  },
  {
   "cell_type": "markdown",
   "metadata": {},
   "source": [
    "# Условия"
   ]
  },
  {
   "cell_type": "markdown",
   "metadata": {},
   "source": [
    "if он и в Африке if"
   ]
  },
  {
   "cell_type": "code",
   "execution_count": 35,
   "metadata": {},
   "outputs": [],
   "source": [
    "x = 23\n",
    "if x < 10:\n",
    "    print('x < 10')"
   ]
  },
  {
   "cell_type": "markdown",
   "metadata": {},
   "source": [
    "Можно сделать много условий, но выполнится первое выполнившееся"
   ]
  },
  {
   "cell_type": "code",
   "execution_count": 36,
   "metadata": {},
   "outputs": [
    {
     "name": "stdout",
     "output_type": "stream",
     "text": [
      "x < 20\n"
     ]
    }
   ],
   "source": [
    "x = 19\n",
    "if x < 20:\n",
    "    print('x < 20')\n",
    "elif x < 30:\n",
    "    print('10 <= x < 30')\n",
    "else:\n",
    "    print('x >= 30')"
   ]
  },
  {
   "cell_type": "code",
   "execution_count": 37,
   "metadata": {},
   "outputs": [
    {
     "name": "stdout",
     "output_type": "stream",
     "text": [
      "x < 20\n"
     ]
    }
   ],
   "source": [
    "# Допустимы более сложные однострочные структуры\n",
    "print('x < 20') if x < 20 else print('x >= 20')"
   ]
  },
  {
   "cell_type": "markdown",
   "metadata": {},
   "source": [
    "# Циклы"
   ]
  },
  {
   "cell_type": "markdown",
   "metadata": {},
   "source": [
    "* Цикл с предусловием: `while условие: тело_цикла`\n",
    "* Переборный цикл: `for i in итератор: тело_цикла`"
   ]
  },
  {
   "cell_type": "code",
   "execution_count": 38,
   "metadata": {},
   "outputs": [
    {
     "name": "stdout",
     "output_type": "stream",
     "text": [
      "while 5\n",
      "while 4\n",
      "while 3\n",
      "while 2\n",
      "while 1\n"
     ]
    }
   ],
   "source": [
    "i = 5\n",
    "while i > 0:\n",
    "    print('while', i)\n",
    "    i -= 1"
   ]
  },
  {
   "cell_type": "code",
   "execution_count": 39,
   "metadata": {},
   "outputs": [
    {
     "name": "stdout",
     "output_type": "stream",
     "text": [
      "1\n",
      "2\n",
      "3\n"
     ]
    }
   ],
   "source": [
    "# Итерируемся по списку\n",
    "lis = [1, 2, 3]\n",
    "for i in lis:\n",
    "    print(i) "
   ]
  },
  {
   "cell_type": "markdown",
   "metadata": {},
   "source": [
    "* Ходом выполнения цикла можно дополнительно управлять с помощью `break` и `continue`\n",
    "    * `break` делает аварийный выход из цикла\n",
    "    * `continue` начинает сразу следующую итерацию цикла"
   ]
  },
  {
   "cell_type": "code",
   "execution_count": 48,
   "metadata": {},
   "outputs": [
    {
     "name": "stdout",
     "output_type": "stream",
     "text": [
      "while 10\n",
      "while 9\n",
      "while 8\n",
      "while 6\n",
      "while 5\n"
     ]
    }
   ],
   "source": [
    "i = 10\n",
    "while i > 0:\n",
    "    if i == 7: # Не печатаем 7\n",
    "        i -= 1\n",
    "        continue\n",
    "    print('while', i)\n",
    "    if i == 5: # Выходим при достижении 5\n",
    "        break\n",
    "    i -= 1"
   ]
  },
  {
   "cell_type": "markdown",
   "metadata": {},
   "source": [
    "# Цикл for"
   ]
  },
  {
   "cell_type": "markdown",
   "metadata": {},
   "source": [
    "* Если итерируемый список состоит из последовательностей, то их можно сразу распаковать\n",
    "* Если необходимо знать не только значение из списка, но и его индекс, используется `enumerate(список)`\n",
    "* Для словаря используется конструкция `словарь.items()`\n",
    "* Для итераций по списку последовательных целых значений используется `range`"
   ]
  },
  {
   "cell_type": "code",
   "execution_count": 41,
   "metadata": {},
   "outputs": [
    {
     "name": "stdout",
     "output_type": "stream",
     "text": [
      "(1,2)\n",
      "(2,3)\n",
      "(6,7)\n"
     ]
    }
   ],
   "source": [
    "lis = [(1, 2), (2, 3), (6, 7)]\n",
    "for i, j in lis: # Распаковка кортежа\n",
    "    print('({},{})'.format(i, j))\n",
    "    #print(i, j)"
   ]
  },
  {
   "cell_type": "code",
   "execution_count": 40,
   "metadata": {},
   "outputs": [
    {
     "name": "stdout",
     "output_type": "stream",
     "text": [
      "lis[0] = 2\n",
      "lis[1] = 4\n",
      "lis[2] = 6\n"
     ]
    }
   ],
   "source": [
    "lis = [2, 4, 6]\n",
    "for ind, val in enumerate(lis): # Следим за индексами\n",
    "    print('lis[{}] = {}'.format(ind, val))\n",
    "    #print(ind, val)"
   ]
  },
  {
   "cell_type": "code",
   "execution_count": 42,
   "metadata": {},
   "outputs": [
    {
     "name": "stdout",
     "output_type": "stream",
     "text": [
      "Iteration number 1\n",
      "Iteration number 2\n"
     ]
    }
   ],
   "source": [
    "for i in range(1,3): # range(n) - итератор по последовательности 0..n-1\n",
    "    print('Iteration number', i)"
   ]
  },
  {
   "cell_type": "markdown",
   "metadata": {},
   "source": [
    "### List comprehensions (однострочные генераторы циклов)"
   ]
  },
  {
   "cell_type": "markdown",
   "metadata": {},
   "source": [
    "Является синтаксическим сахаром. Нужно для быстрого формирования списков или словарей с учетом прореживания по условию.\n",
    "* Простая форма для списка: `[выражение for var in последовательность if условие]`"
   ]
  },
  {
   "cell_type": "code",
   "execution_count": 43,
   "metadata": {},
   "outputs": [
    {
     "name": "stdout",
     "output_type": "stream",
     "text": [
      "[9, 16, 25] [9, 16, 25]\n",
      "True\n"
     ]
    }
   ],
   "source": [
    "lis1 = [1, 2, 3, 4, 5]\n",
    "\n",
    "\n",
    "lis2 = [x*x for x in lis1 if x > 2]\n",
    "# Это эквивалентно\n",
    "lis3 = []\n",
    "for x in lis1:\n",
    "    if x > 2:\n",
    "        lis3.append(x*x)\n",
    "        \n",
    "print(lis2, lis3)\n",
    "print(lis2 == lis3)"
   ]
  },
  {
   "cell_type": "markdown",
   "metadata": {},
   "source": [
    "* Вложенные циклы: `[выражение for var1 in последовательность1 for var2 in последовательность2 if условие]`"
   ]
  },
  {
   "cell_type": "code",
   "execution_count": 44,
   "metadata": {},
   "outputs": [
    {
     "name": "stdout",
     "output_type": "stream",
     "text": [
      "[-2, -4, -6, -8, -10] True\n"
     ]
    }
   ],
   "source": [
    "lis1 = [(1,-1), (2,-2), (3,-3), (4,-4), (5,-5)]\n",
    "lis2 = [2*y for x in lis1 for y in x if y < 0]\n",
    "# Это эквивалентно\n",
    "lis3 = []\n",
    "for x in lis1:\n",
    "    for y in x:\n",
    "        if y < 0:\n",
    "            lis3.append(2*y)\n",
    "print(lis2, lis2 == lis3)"
   ]
  },
  {
   "cell_type": "code",
   "execution_count": 57,
   "metadata": {},
   "outputs": [
    {
     "name": "stdout",
     "output_type": "stream",
     "text": [
      "{3: 9, 4: 16, 5: 25}\n"
     ]
    }
   ],
   "source": [
    "lis1 = [1, 2, 3, 4, 5]\n",
    "h = {x : x*x for x in lis1 if x > 2}\n",
    "print(h)"
   ]
  },
  {
   "cell_type": "code",
   "execution_count": 45,
   "metadata": {},
   "outputs": [],
   "source": [
    "dict_example = {'key1':'value1'}"
   ]
  },
  {
   "cell_type": "code",
   "execution_count": 50,
   "metadata": {},
   "outputs": [
    {
     "data": {
      "text/plain": [
       "[('key1', 'value1')]"
      ]
     },
     "execution_count": 50,
     "metadata": {},
     "output_type": "execute_result"
    }
   ],
   "source": [
    "list(dict_example.items())"
   ]
  },
  {
   "cell_type": "markdown",
   "metadata": {},
   "source": [
    "* Быстрая проверка на выполнение условие для всех элементов списка (`all`) или хотя бы одного (`any`)"
   ]
  },
  {
   "cell_type": "code",
   "execution_count": 58,
   "metadata": {},
   "outputs": [
    {
     "name": "stdout",
     "output_type": "stream",
     "text": [
      "any=True, all=False\n"
     ]
    }
   ],
   "source": [
    "var_a = [1, 4, 55, 128]\n",
    "ans_any = any(x > 127 for x in var_a)\n",
    "ans_all = all(x > 127 for x in var_a)\n",
    "print('any={}, all={}'.format(ans_any, ans_all))"
   ]
  },
  {
   "cell_type": "markdown",
   "metadata": {},
   "source": [
    "# Afterwords"
   ]
  },
  {
   "cell_type": "markdown",
   "metadata": {},
   "source": [
    "Врядли сегодня у кого-то произошло \"Вау! Питон гораздо лучше чем любой другой язык!\" - нет, он в общем-то похож на любой другой язык, всё примерно как везде - переменные, условия, циклы и т.д. Поэтому его изучение не должно вызвать каких-то непреодолимых сложностей. А достоинства и недостатки мы с вами постараемся ощутить в течении последующего семестра."
   ]
  },
  {
   "cell_type": "markdown",
   "metadata": {},
   "source": [
    "Ваше ДЗ:\n",
    "![alt text](Seminar1_python_basics/homework.jpg)"
   ]
  },
  {
   "cell_type": "code",
   "execution_count": null,
   "metadata": {},
   "outputs": [],
   "source": []
  }
 ],
 "metadata": {
  "kernelspec": {
   "display_name": "Python 3",
   "language": "python",
   "name": "python3"
  },
  "language_info": {
   "codemirror_mode": {
    "name": "ipython",
    "version": 3
   },
   "file_extension": ".py",
   "mimetype": "text/x-python",
   "name": "python",
   "nbconvert_exporter": "python",
   "pygments_lexer": "ipython3",
   "version": "3.9.2"
  }
 },
 "nbformat": 4,
 "nbformat_minor": 4
}
