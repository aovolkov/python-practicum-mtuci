{
 "cells": [
  {
   "cell_type": "markdown",
   "id": "third-street",
   "metadata": {},
   "source": [
    "## Семинар №5: ООП в Python. Повторение\n",
    "![alt text](../seminar4/seminar4_OOP/Python-logo-notext.svg)"
   ]
  },
  {
   "cell_type": "markdown",
   "id": "compact-substance",
   "metadata": {},
   "source": [
    "Контрольные вопросы по ООП:\n",
    "1. Как связаны классы и объекты?\n",
    "2. Для чего необходимо ключевое слово self в классах?\n",
    "3. Как создаются и для чего нужны статические методы?\n",
    "4. Как реализуется наследование классов в Python?"
   ]
  },
  {
   "cell_type": "code",
   "execution_count": 2,
   "id": "finite-dance",
   "metadata": {},
   "outputs": [],
   "source": [
    "# 2. Для чего необходимо ключевое слово self в классах?\n",
    "\n",
    "class Hello:\n",
    "    def __init__(self, name):\n",
    "        self.name = name\n",
    "        print(f'Привет, {self.name}')"
   ]
  },
  {
   "cell_type": "code",
   "execution_count": 3,
   "id": "threaded-leeds",
   "metadata": {},
   "outputs": [
    {
     "name": "stdout",
     "output_type": "stream",
     "text": [
      "Привет, Андрей\n"
     ]
    },
    {
     "data": {
      "text/plain": [
       "<__main__.Hello at 0x1a52f93cc70>"
      ]
     },
     "execution_count": 3,
     "metadata": {},
     "output_type": "execute_result"
    }
   ],
   "source": [
    "Hello('Андрей')"
   ]
  },
  {
   "cell_type": "code",
   "execution_count": 5,
   "id": "settled-today",
   "metadata": {},
   "outputs": [],
   "source": [
    "# 3. Как создаются и для чего нужны статические методы?\n",
    "\n",
    "class Person:\n",
    "    \n",
    "    def __init__(self, name):\n",
    "        self.name = name\n",
    "    \n",
    "    @staticmethod\n",
    "    def status(year_of_birth):\n",
    "        if 2021 - year_of_birth >= 18:\n",
    "            print('Вам доступно содержание контента страницы')\n",
    "        else:\n",
    "            print('Часть страниц вам могут быть не доступны')"
   ]
  },
  {
   "cell_type": "code",
   "execution_count": 6,
   "id": "transsexual-consultancy",
   "metadata": {},
   "outputs": [
    {
     "name": "stdout",
     "output_type": "stream",
     "text": [
      "Вам доступно содержание контента страницы\n",
      "Часть страниц вам могут быть не доступны\n"
     ]
    }
   ],
   "source": [
    "student = Person('Андрей')\n",
    "# Тесты:\n",
    "student.status(1989)\n",
    "Person.status(2006)"
   ]
  },
  {
   "cell_type": "markdown",
   "id": "owned-sucking",
   "metadata": {},
   "source": [
    "### Что такое дескрипторы данных?"
   ]
  },
  {
   "cell_type": "markdown",
   "id": "dominant-smith",
   "metadata": {},
   "source": [
    "Очень часто переменные, инициализируемые в классе, являются однотипными. Например, есть класс Employee (сотрудник), \n",
    "принимающий параметры: \n",
    "- имя, \n",
    "- фамилия, \n",
    "- отчество, \n",
    "- должность. \n",
    "\n",
    "Все они являются строками. Следовательно, прежде чем создать экземпляр класса, нужно проверить, что пользователь ввел строки. А для этого потребуются сеттеры, проверяющие тип вводимых параметров. В итоге, мы 4 раза повторим код проверки. Нарушается принцип *DRY (don't repeat yourself)*.\n",
    "\n",
    "Для таких ситуаций удобно использовать дескрипторы (они, к слову, широко применяются во фреймворке Django при создании моделей).\n",
    "\n",
    "Дескриптор - такой атрибут объекта, поведение которого переопределяется специальными методами. Проще говоря, доступ к какому-то свойству экземпляра можно переопределить с учетом дополнительных проверок. Если делать эти верификации без дескрипторов, то один и тот же код начнет повторяться.\n",
    "\n",
    "Существует 4 метода протокола дескрипторов:\n",
    "- \\__get__() - получить значение свойства;\n",
    "- \\__set__() - задать значение;\n",
    "- \\__delete__() - удалить атрибут;\n",
    "- \\__set_name__() - присвоить имя свойству (появился в Питоне версии 3.6).\n",
    "\n",
    "Если применяется только метод \\__get__(), то мы имеем дело с дескриптором без данных, а если есть еще и \\__set__(), то речь будет идти о дескрипторе данных."
   ]
  },
  {
   "cell_type": "code",
   "execution_count": 16,
   "id": "alike-control",
   "metadata": {},
   "outputs": [],
   "source": [
    "class StringChecker:\n",
    "    \n",
    "    # Нужен для получения доступа к свойству\n",
    "    def __get__(self, instance, owner):\n",
    "        if instance is None:\n",
    "            return self\n",
    "        return instance.__dict__[self.name]\n",
    "    \n",
    "    # Нужен для изменения свойства\n",
    "    def __set__(self, instance, str_value):\n",
    "        if not isinstance(str_value, str):\n",
    "            raise ValueError('Требуется ввести строку')\n",
    "        elif len(str_value) < 2:\n",
    "            raise ValueError('Необходимо минимум 2 буквы')\n",
    "        instance.__dict__[self.name] = str_value\n",
    "    \n",
    "    # Нужен для того, чтобы задать имя свойства\n",
    "    def __set_name__(self, owner, name):\n",
    "        self.name = name"
   ]
  },
  {
   "cell_type": "code",
   "execution_count": 17,
   "id": "solved-contamination",
   "metadata": {},
   "outputs": [],
   "source": [
    "class Employee:\n",
    "    \n",
    "    name = StringChecker()\n",
    "    surname = StringChecker()\n",
    "    patronymic = StringChecker()\n",
    "    post = StringChecker()\n",
    "    def __init__(self, name, surname, patronymic, post):\n",
    "        self.name = name\n",
    "        self.surname = surname\n",
    "        self.patronymic = patronymic\n",
    "        self.post = post"
   ]
  },
  {
   "cell_type": "code",
   "execution_count": 19,
   "id": "circular-board",
   "metadata": {},
   "outputs": [],
   "source": [
    "employer = Employee(\"Иван\", 'Иванов', 'Иванович', 'Программист')"
   ]
  },
  {
   "cell_type": "code",
   "execution_count": 20,
   "id": "acceptable-pantyhose",
   "metadata": {},
   "outputs": [
    {
     "data": {
      "text/plain": [
       "{'name': 'Иван',\n",
       " 'surname': 'Иванов',\n",
       " 'patronymic': 'Иванович',\n",
       " 'post': 'Программист'}"
      ]
     },
     "execution_count": 20,
     "metadata": {},
     "output_type": "execute_result"
    }
   ],
   "source": [
    "employer.__dict__"
   ]
  },
  {
   "cell_type": "code",
   "execution_count": 21,
   "id": "elegant-percentage",
   "metadata": {},
   "outputs": [
    {
     "ename": "ValueError",
     "evalue": "Необходимо минимум 2 буквы",
     "output_type": "error",
     "traceback": [
      "\u001b[1;31m---------------------------------------------------------------------------\u001b[0m",
      "\u001b[1;31mValueError\u001b[0m                                Traceback (most recent call last)",
      "\u001b[1;32m<ipython-input-21-317d2a47a165>\u001b[0m in \u001b[0;36m<module>\u001b[1;34m\u001b[0m\n\u001b[1;32m----> 1\u001b[1;33m \u001b[0memployer\u001b[0m\u001b[1;33m.\u001b[0m\u001b[0mpost\u001b[0m \u001b[1;33m=\u001b[0m \u001b[1;34m'П'\u001b[0m\u001b[1;33m\u001b[0m\u001b[1;33m\u001b[0m\u001b[0m\n\u001b[0m",
      "\u001b[1;32m<ipython-input-16-e353ec667745>\u001b[0m in \u001b[0;36m__set__\u001b[1;34m(self, instance, str_value)\u001b[0m\n\u001b[0;32m     12\u001b[0m             \u001b[1;32mraise\u001b[0m \u001b[0mValueError\u001b[0m\u001b[1;33m(\u001b[0m\u001b[1;34m'Требуется ввести строку'\u001b[0m\u001b[1;33m)\u001b[0m\u001b[1;33m\u001b[0m\u001b[1;33m\u001b[0m\u001b[0m\n\u001b[0;32m     13\u001b[0m         \u001b[1;32melif\u001b[0m \u001b[0mlen\u001b[0m\u001b[1;33m(\u001b[0m\u001b[0mstr_value\u001b[0m\u001b[1;33m)\u001b[0m \u001b[1;33m<\u001b[0m \u001b[1;36m2\u001b[0m\u001b[1;33m:\u001b[0m\u001b[1;33m\u001b[0m\u001b[1;33m\u001b[0m\u001b[0m\n\u001b[1;32m---> 14\u001b[1;33m             \u001b[1;32mraise\u001b[0m \u001b[0mValueError\u001b[0m\u001b[1;33m(\u001b[0m\u001b[1;34m'Необходимо минимум 2 буквы'\u001b[0m\u001b[1;33m)\u001b[0m\u001b[1;33m\u001b[0m\u001b[1;33m\u001b[0m\u001b[0m\n\u001b[0m\u001b[0;32m     15\u001b[0m         \u001b[0minstance\u001b[0m\u001b[1;33m.\u001b[0m\u001b[0m__dict__\u001b[0m\u001b[1;33m[\u001b[0m\u001b[0mself\u001b[0m\u001b[1;33m.\u001b[0m\u001b[0mname\u001b[0m\u001b[1;33m]\u001b[0m \u001b[1;33m=\u001b[0m \u001b[0mstr_value\u001b[0m\u001b[1;33m\u001b[0m\u001b[1;33m\u001b[0m\u001b[0m\n\u001b[0;32m     16\u001b[0m \u001b[1;33m\u001b[0m\u001b[0m\n",
      "\u001b[1;31mValueError\u001b[0m: Необходимо минимум 2 буквы"
     ]
    }
   ],
   "source": [
    "employer.post = 'П'"
   ]
  },
  {
   "cell_type": "markdown",
   "id": "charitable-brother",
   "metadata": {},
   "source": [
    "## Задачи"
   ]
  },
  {
   "cell_type": "markdown",
   "id": "acoustic-scott",
   "metadata": {},
   "source": [
    "Нужно реализовать класс для проверки можно ли сотсавить из трех заданных сторон треугольник."
   ]
  },
  {
   "cell_type": "code",
   "execution_count": 26,
   "id": "micro-accuracy",
   "metadata": {},
   "outputs": [],
   "source": [
    "class TriangChecker:\n",
    "     \n",
    "    def __init__(self, sides):\n",
    "        self.sides = sides\n",
    "    \n",
    "    def is_triangle(self):\n",
    "        if all(isinstance(side, (int, float)) for side in self.sides):\n",
    "            if all(side > 0 for side in self.sides):\n",
    "                sorted_sides = sorted(self.sides)\n",
    "                if sorted_sides[0] + sorted_sides[1] > sorted_sides[2]:\n",
    "                    return 'Можно построить треугольник'\n",
    "                else:\n",
    "                    return 'Нельзя построить треугольник'\n",
    "            else:\n",
    "                return 'Нельзя построить треугольник с отрицательными сторонами'\n",
    "        else:\n",
    "            return 'Требуется вводить только числа'"
   ]
  },
  {
   "cell_type": "code",
   "execution_count": 28,
   "id": "weighted-twist",
   "metadata": {},
   "outputs": [],
   "source": [
    "# Тесты \n",
    "triangle1 = TriangChecker([2, 3, 4])\n",
    "assert triangle1.is_triangle() == 'Можно построить треугольник', 'Не обработан базовый случай'\n",
    "triangle2 = TriangChecker([2, 89, 4])\n",
    "assert triangle2.is_triangle() == 'Нельзя построить треугольник', 'Не обработан базовый случай'\n",
    "triangle3 = TriangChecker([-2, 89, 4])\n",
    "assert triangle3.is_triangle() == 'Нельзя построить треугольник с отрицательными сторонами', 'Не обработан случай с отрицательными числами'\n",
    "triangle4 = TriangChecker([2, 89, 'Строка'])\n",
    "assert triangle4.is_triangle() == 'Требуется вводить только числа', 'Не обработан случай для строк'"
   ]
  },
  {
   "cell_type": "code",
   "execution_count": null,
   "id": "trying-ancient",
   "metadata": {},
   "outputs": [],
   "source": []
  }
 ],
 "metadata": {
  "kernelspec": {
   "display_name": "Python 3",
   "language": "python",
   "name": "python3"
  },
  "language_info": {
   "codemirror_mode": {
    "name": "ipython",
    "version": 3
   },
   "file_extension": ".py",
   "mimetype": "text/x-python",
   "name": "python",
   "nbconvert_exporter": "python",
   "pygments_lexer": "ipython3",
   "version": "3.9.2"
  }
 },
 "nbformat": 4,
 "nbformat_minor": 5
}
