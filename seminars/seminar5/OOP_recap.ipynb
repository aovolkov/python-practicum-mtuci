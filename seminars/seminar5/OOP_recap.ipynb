{
 "cells": [
  {
   "cell_type": "markdown",
   "id": "third-street",
   "metadata": {},
   "source": [
    "## Семинар №5: ООП в Python. Повторение\n",
    "![alt text](../seminar4/seminar4_OOP/Python-logo-notext.svg)"
   ]
  },
  {
   "cell_type": "markdown",
   "id": "compact-substance",
   "metadata": {},
   "source": [
    "Контрольные вопросы по ООП:\n",
    "1. Как связаны классы и объекты?\n",
    "2. Для чего необходимо ключевое слово self в классах?\n",
    "3. Как создаются и для чего нужны статические методы?\n",
    "4. Как реализуется наследование классов в Python?"
   ]
  },
  {
   "cell_type": "code",
   "execution_count": 4,
   "id": "finite-dance",
   "metadata": {},
   "outputs": [],
   "source": [
    "# 2. Для чего необходимо ключевое слово self в классах?\n",
    "\n",
    "class Hello:\n",
    "    def __init__(self, name):\n",
    "        self.name = name\n",
    "        print(f'Привет, {self.name}')"
   ]
  },
  {
   "cell_type": "code",
   "execution_count": 5,
   "id": "threaded-leeds",
   "metadata": {},
   "outputs": [
    {
     "name": "stdout",
     "output_type": "stream",
     "text": [
      "Привет, Андрей\n"
     ]
    },
    {
     "data": {
      "text/plain": [
       "<__main__.Hello at 0x2443dd5cfa0>"
      ]
     },
     "execution_count": 5,
     "metadata": {},
     "output_type": "execute_result"
    }
   ],
   "source": [
    "Hello('Андрей')"
   ]
  },
  {
   "cell_type": "code",
   "execution_count": 6,
   "id": "settled-today",
   "metadata": {},
   "outputs": [],
   "source": [
    "# 3. Как создаются и для чего нужны статические методы?\n",
    "\n",
    "class Person:\n",
    "    \n",
    "    def __init__(self, name):\n",
    "        self.name = name\n",
    "    \n",
    "    @staticmethod\n",
    "    def status(year_of_birth):\n",
    "        if 2021 - year_of_birth >= 18:\n",
    "            print('Вам доступно содержание контента страницы')\n",
    "        else:\n",
    "            print('Часть страниц вам могут быть не доступны')"
   ]
  },
  {
   "cell_type": "code",
   "execution_count": 7,
   "id": "transsexual-consultancy",
   "metadata": {},
   "outputs": [
    {
     "name": "stdout",
     "output_type": "stream",
     "text": [
      "Вам доступно содержание контента страницы\n",
      "Часть страниц вам могут быть не доступны\n"
     ]
    }
   ],
   "source": [
    "student = Person('Андрей')\n",
    "# Тесты:\n",
    "student.status(1989)\n",
    "Person.status(2006)"
   ]
  },
  {
   "cell_type": "markdown",
   "id": "charitable-brother",
   "metadata": {},
   "source": [
    "## Задача\n",
    "Нужно реализовать класс для проверки можно ли сотсавить из трех заданных сторон треугольник."
   ]
  },
  {
   "cell_type": "code",
   "execution_count": 26,
   "id": "micro-accuracy",
   "metadata": {},
   "outputs": [],
   "source": [
    "class TriangChecker:\n",
    "     \n",
    "    def __init__(self, sides):\n",
    "        self.sides = sides\n",
    "    \n",
    "    def is_triangle(self):\n",
    "        if all(isinstance(side, (int, float)) for side in self.sides):\n",
    "            if all(side > 0 for side in self.sides):\n",
    "                sorted_sides = sorted(self.sides)\n",
    "                if sorted_sides[0] + sorted_sides[1] > sorted_sides[2]:\n",
    "                    return 'Можно построить треугольник'\n",
    "                else:\n",
    "                    return 'Нельзя построить треугольник'\n",
    "            else:\n",
    "                return 'Нельзя построить треугольник с отрицательными сторонами'\n",
    "        else:\n",
    "            return 'Требуется вводить только числа'"
   ]
  },
  {
   "cell_type": "code",
   "execution_count": 28,
   "id": "weighted-twist",
   "metadata": {},
   "outputs": [],
   "source": [
    "# Тесты \n",
    "triangle1 = TriangChecker([2, 3, 4])\n",
    "assert triangle1.is_triangle() == 'Можно построить треугольник', 'Не обработан базовый случай'\n",
    "triangle2 = TriangChecker([2, 89, 4])\n",
    "assert triangle2.is_triangle() == 'Нельзя построить треугольник', 'Не обработан базовый случай'\n",
    "triangle3 = TriangChecker([-2, 89, 4])\n",
    "assert triangle3.is_triangle() == 'Нельзя построить треугольник с отрицательными сторонами', 'Не обработан случай с отрицательными числами'\n",
    "triangle4 = TriangChecker([2, 89, 'Строка'])\n",
    "assert triangle4.is_triangle() == 'Требуется вводить только числа', 'Не обработан случай для строк'"
   ]
  },
  {
   "cell_type": "markdown",
   "id": "hairy-indonesian",
   "metadata": {},
   "source": [
    "## Аннотация типов\n",
    "- Последний принцип ООП, который требуется рассмотреть - полиморфизм\n",
    "- Для обсуждение интерфейсов и полиморфизма нужно детальнее рассмотреть аннотирование типов и статическую проверку типизации\n",
    "- До появления аннотирования понятие интерфейса в Python не имело особого смысла"
   ]
  },
  {
   "cell_type": "markdown",
   "id": "brilliant-responsibility",
   "metadata": {},
   "source": [
    "### Подход: утиная типизация\n",
    "- \"Если что-то ведёт себя как утка, значит это - утка\"\n",
    "- Эта концепция возникает в языках с динамической типизацией (Python, JavaScript) и означает, что при использовании объекта\n",
    " - его конкретный класс не имеет значения\n",
    " - важны его атрибуты (поля и методы)\n",
    "- Т.е. объект принимается без каких-либо проверок, и если он имеет нужные атрибуты - код выполнится корректно, если не имеет - нет"
   ]
  },
  {
   "cell_type": "code",
   "execution_count": 8,
   "id": "assured-supervision",
   "metadata": {},
   "outputs": [
    {
     "name": "stdout",
     "output_type": "stream",
     "text": [
      "True\n"
     ]
    }
   ],
   "source": [
    "class A:\n",
    "    def __eq__(self, val):\n",
    "        return True\n",
    "\n",
    "# The object with __eq__ method is expected\n",
    "print(A() == 3)"
   ]
  },
  {
   "cell_type": "markdown",
   "id": "described-wrestling",
   "metadata": {},
   "source": [
    "- Пример выше показывает, что утиная типизация при отсутствии контроля типов может привести к неприятным последствиям\n",
    "- На утиной типизации основан механизм полиморфизма в Python"
   ]
  },
  {
   "cell_type": "markdown",
   "id": "posted-sucking",
   "metadata": {},
   "source": [
    "## Полиморфизм\n",
    "- Полиморфизм позволяет работать с объектами, основываясь только на их интерфейсе, без знания типа\n",
    "- В C++ требуется, чтобы объекты полиморфных классов имели общего предка\n",
    "- В общем случае в Python это необязательно, достаточно, чтобы объекты поддерживали один интерфейс (duck-typing)\n",
    "\n",
    "Опишем для примера два класса геометрических фигур:"
   ]
  },
  {
   "cell_type": "code",
   "execution_count": 10,
   "id": "innocent-tolerance",
   "metadata": {},
   "outputs": [],
   "source": [
    "class Square:\n",
    "    def __init__(self, side):\n",
    "        self.side = side\n",
    "    \n",
    "    def area(self):\n",
    "        return self.side ** 2\n",
    "\n",
    "class Triangle:\n",
    "    def __init__(self, a, b, c):\n",
    "        self.a, self.b, self.c = a, b, c\n",
    "\n",
    "    def area(self):\n",
    "        s = (self.a + self.b + self.c) / 2.0\n",
    "        return (s *(s - self.a) * (s - self.b) * (s - self.c)) ** 0.5"
   ]
  },
  {
   "cell_type": "markdown",
   "id": "amazing-claim",
   "metadata": {},
   "source": [
    "Теперь опишем функцию, которая ожидает объекты, умеющие вычислять свою площадь:"
   ]
  },
  {
   "cell_type": "code",
   "execution_count": 11,
   "id": "similar-frost",
   "metadata": {},
   "outputs": [],
   "source": [
    "def compute_areas(figures):\n",
    "    for figure in figures:\n",
    "        print(figure.area(), end=' ')"
   ]
  },
  {
   "cell_type": "markdown",
   "id": "extreme-matrix",
   "metadata": {},
   "source": [
    "Можем запускать, не беспокоясь о том, что именно представляют собой входные объекты:"
   ]
  },
  {
   "cell_type": "code",
   "execution_count": 12,
   "id": "interpreted-binding",
   "metadata": {},
   "outputs": [
    {
     "name": "stdout",
     "output_type": "stream",
     "text": [
      "100 1.479019945774904 "
     ]
    }
   ],
   "source": [
    "compute_areas([Square(10), Triangle(1, 3, 3)])"
   ]
  },
  {
   "cell_type": "code",
   "execution_count": 13,
   "id": "automatic-cream",
   "metadata": {},
   "outputs": [
    {
     "name": "stdout",
     "output_type": "stream",
     "text": [
      "{'__doc__', '__module__', '__dict__', '__weakref__'}\n"
     ]
    }
   ],
   "source": [
    "class A:\n",
    "    pass\n",
    "\n",
    "print(set(A.__dict__.keys()))"
   ]
  },
  {
   "cell_type": "code",
   "execution_count": 14,
   "id": "future-pakistan",
   "metadata": {},
   "outputs": [
    {
     "data": {
      "text/plain": [
       "['__class__',\n",
       " '__delattr__',\n",
       " '__dict__',\n",
       " '__dir__',\n",
       " '__doc__',\n",
       " '__eq__',\n",
       " '__format__',\n",
       " '__ge__',\n",
       " '__getattribute__',\n",
       " '__gt__',\n",
       " '__hash__',\n",
       " '__init__',\n",
       " '__init_subclass__',\n",
       " '__le__',\n",
       " '__lt__',\n",
       " '__module__',\n",
       " '__ne__',\n",
       " '__new__',\n",
       " '__reduce__',\n",
       " '__reduce_ex__',\n",
       " '__repr__',\n",
       " '__setattr__',\n",
       " '__sizeof__',\n",
       " '__str__',\n",
       " '__subclasshook__',\n",
       " '__weakref__']"
      ]
     },
     "execution_count": 14,
     "metadata": {},
     "output_type": "execute_result"
    }
   ],
   "source": [
    "dir(A)"
   ]
  },
  {
   "cell_type": "markdown",
   "id": "owned-sucking",
   "metadata": {},
   "source": [
    "### Что такое дескрипторы данных?"
   ]
  },
  {
   "cell_type": "markdown",
   "id": "dominant-smith",
   "metadata": {},
   "source": [
    "Очень часто переменные, инициализируемые в классе, являются однотипными. Например, есть класс Employee (сотрудник), \n",
    "принимающий параметры: \n",
    "- имя, \n",
    "- фамилия, \n",
    "- отчество, \n",
    "- должность. \n",
    "\n",
    "Все они являются строками. Следовательно, прежде чем создать экземпляр класса, нужно проверить, что пользователь ввел строки. А для этого потребуются сеттеры, проверяющие тип вводимых параметров. В итоге, мы 4 раза повторим код проверки. Нарушается принцип *DRY (don't repeat yourself)*.\n",
    "\n",
    "Для таких ситуаций удобно использовать дескрипторы (они, к слову, широко применяются во фреймворке Django при создании моделей).\n",
    "\n",
    "Дескриптор - такой атрибут объекта, поведение которого переопределяется специальными методами. Проще говоря, доступ к какому-то свойству экземпляра можно переопределить с учетом дополнительных проверок. Если делать эти верификации без дескрипторов, то один и тот же код начнет повторяться.\n",
    "\n",
    "Существует 4 метода протокола дескрипторов:\n",
    "- \\__get__() - получить значение свойства;\n",
    "- \\__set__() - задать значение;\n",
    "- \\__delete__() - удалить атрибут;\n",
    "- \\__set_name__() - присвоить имя свойству (появился в Питоне версии 3.6).\n",
    "\n",
    "Если применяется только метод \\__get__(), то мы имеем дело с дескриптором без данных, а если есть еще и \\__set__(), то речь будет идти о дескрипторе данных."
   ]
  },
  {
   "cell_type": "code",
   "execution_count": 15,
   "id": "alike-control",
   "metadata": {},
   "outputs": [],
   "source": [
    "class StringChecker:\n",
    "    \n",
    "    # Нужен для получения доступа к свойству\n",
    "    def __get__(self, instance, owner):\n",
    "        if instance is None:\n",
    "            return self\n",
    "        return instance.__dict__[self.name]\n",
    "    \n",
    "    # Нужен для изменения свойства\n",
    "    def __set__(self, instance, str_value):\n",
    "        if not isinstance(str_value, str):\n",
    "            raise ValueError('Требуется ввести строку')\n",
    "        elif len(str_value) < 2:\n",
    "            raise ValueError('Необходимо минимум 2 буквы')\n",
    "        instance.__dict__[self.name] = str_value\n",
    "    \n",
    "    # Нужен для того, чтобы задать имя свойства\n",
    "    def __set_name__(self, owner, name):\n",
    "        self.name = name"
   ]
  },
  {
   "cell_type": "code",
   "execution_count": 16,
   "id": "solved-contamination",
   "metadata": {},
   "outputs": [],
   "source": [
    "class Employee:\n",
    "    \n",
    "    name = StringChecker()\n",
    "    surname = StringChecker()\n",
    "    patronymic = StringChecker()\n",
    "    post = StringChecker()\n",
    "    def __init__(self, name, surname, patronymic, post):\n",
    "        self.name = name\n",
    "        self.surname = surname\n",
    "        self.patronymic = patronymic\n",
    "        self.post = post"
   ]
  },
  {
   "cell_type": "code",
   "execution_count": 17,
   "id": "circular-board",
   "metadata": {},
   "outputs": [],
   "source": [
    "employer = Employee(\"Иван\", 'Иванов', 'Иванович', 'Программист')"
   ]
  },
  {
   "cell_type": "code",
   "execution_count": 18,
   "id": "acceptable-pantyhose",
   "metadata": {},
   "outputs": [
    {
     "data": {
      "text/plain": [
       "{'name': 'Иван',\n",
       " 'surname': 'Иванов',\n",
       " 'patronymic': 'Иванович',\n",
       " 'post': 'Программист'}"
      ]
     },
     "execution_count": 18,
     "metadata": {},
     "output_type": "execute_result"
    }
   ],
   "source": [
    "employer.__dict__"
   ]
  },
  {
   "cell_type": "code",
   "execution_count": 20,
   "id": "elegant-percentage",
   "metadata": {},
   "outputs": [
    {
     "ename": "ValueError",
     "evalue": "Требуется ввести строку",
     "output_type": "error",
     "traceback": [
      "\u001b[1;31m---------------------------------------------------------------------------\u001b[0m",
      "\u001b[1;31mValueError\u001b[0m                                Traceback (most recent call last)",
      "\u001b[1;32m<ipython-input-20-b91037628ed3>\u001b[0m in \u001b[0;36m<module>\u001b[1;34m\u001b[0m\n\u001b[1;32m----> 1\u001b[1;33m \u001b[0memployer\u001b[0m\u001b[1;33m.\u001b[0m\u001b[0mpost\u001b[0m \u001b[1;33m=\u001b[0m \u001b[1;36m123\u001b[0m\u001b[1;33m\u001b[0m\u001b[1;33m\u001b[0m\u001b[0m\n\u001b[0m",
      "\u001b[1;32m<ipython-input-15-e353ec667745>\u001b[0m in \u001b[0;36m__set__\u001b[1;34m(self, instance, str_value)\u001b[0m\n\u001b[0;32m     10\u001b[0m     \u001b[1;32mdef\u001b[0m \u001b[0m__set__\u001b[0m\u001b[1;33m(\u001b[0m\u001b[0mself\u001b[0m\u001b[1;33m,\u001b[0m \u001b[0minstance\u001b[0m\u001b[1;33m,\u001b[0m \u001b[0mstr_value\u001b[0m\u001b[1;33m)\u001b[0m\u001b[1;33m:\u001b[0m\u001b[1;33m\u001b[0m\u001b[1;33m\u001b[0m\u001b[0m\n\u001b[0;32m     11\u001b[0m         \u001b[1;32mif\u001b[0m \u001b[1;32mnot\u001b[0m \u001b[0misinstance\u001b[0m\u001b[1;33m(\u001b[0m\u001b[0mstr_value\u001b[0m\u001b[1;33m,\u001b[0m \u001b[0mstr\u001b[0m\u001b[1;33m)\u001b[0m\u001b[1;33m:\u001b[0m\u001b[1;33m\u001b[0m\u001b[1;33m\u001b[0m\u001b[0m\n\u001b[1;32m---> 12\u001b[1;33m             \u001b[1;32mraise\u001b[0m \u001b[0mValueError\u001b[0m\u001b[1;33m(\u001b[0m\u001b[1;34m'Требуется ввести строку'\u001b[0m\u001b[1;33m)\u001b[0m\u001b[1;33m\u001b[0m\u001b[1;33m\u001b[0m\u001b[0m\n\u001b[0m\u001b[0;32m     13\u001b[0m         \u001b[1;32melif\u001b[0m \u001b[0mlen\u001b[0m\u001b[1;33m(\u001b[0m\u001b[0mstr_value\u001b[0m\u001b[1;33m)\u001b[0m \u001b[1;33m<\u001b[0m \u001b[1;36m2\u001b[0m\u001b[1;33m:\u001b[0m\u001b[1;33m\u001b[0m\u001b[1;33m\u001b[0m\u001b[0m\n\u001b[0;32m     14\u001b[0m             \u001b[1;32mraise\u001b[0m \u001b[0mValueError\u001b[0m\u001b[1;33m(\u001b[0m\u001b[1;34m'Необходимо минимум 2 буквы'\u001b[0m\u001b[1;33m)\u001b[0m\u001b[1;33m\u001b[0m\u001b[1;33m\u001b[0m\u001b[0m\n",
      "\u001b[1;31mValueError\u001b[0m: Требуется ввести строку"
     ]
    }
   ],
   "source": [
    "employer.post = 123"
   ]
  },
  {
   "cell_type": "code",
   "execution_count": 28,
   "id": "duplicate-basket",
   "metadata": {},
   "outputs": [],
   "source": [
    "def summ(a: int, b: int):\n",
    "    return a + b    "
   ]
  },
  {
   "cell_type": "code",
   "execution_count": 30,
   "id": "monetary-publication",
   "metadata": {},
   "outputs": [
    {
     "data": {
      "text/plain": [
       "['12', '24']"
      ]
     },
     "execution_count": 30,
     "metadata": {},
     "output_type": "execute_result"
    }
   ],
   "source": [
    "summ([\"12\"], [\"24\"])"
   ]
  },
  {
   "cell_type": "markdown",
   "id": "unlimited-german",
   "metadata": {},
   "source": [
    "## Модуль MyPy: статическая проверка типов\n",
    "- Модуль mypy - стандартный инструмент для статической проверки аннотированного кода на Python (ещё есть pytype и pyright)\n",
    "- Установка и использование стандартные:"
   ]
  },
  {
   "cell_type": "code",
   "execution_count": 31,
   "id": "editorial-addiction",
   "metadata": {},
   "outputs": [
    {
     "name": "stderr",
     "output_type": "stream",
     "text": [
      "WARNING: You are using pip version 21.3.1; however, version 22.0.4 is available.\n",
      "You should consider upgrading via the 'c:\\users\\aleksandr.volkov\\appdata\\local\\programs\\python\\python39\\python.exe -m pip install --upgrade pip' command.\n"
     ]
    },
    {
     "name": "stdout",
     "output_type": "stream",
     "text": [
      "Requirement already satisfied: mypy in c:\\users\\aleksandr.volkov\\appdata\\local\\programs\\python\\python39\\lib\\site-packages (0.942)\n",
      "Requirement already satisfied: mypy-extensions>=0.4.3 in c:\\users\\aleksandr.volkov\\appdata\\local\\programs\\python\\python39\\lib\\site-packages (from mypy) (0.4.3)\n",
      "Requirement already satisfied: tomli>=1.1.0 in c:\\users\\aleksandr.volkov\\appdata\\local\\programs\\python\\python39\\lib\\site-packages (from mypy) (2.0.1)\n",
      "Requirement already satisfied: typing-extensions>=3.10 in c:\\users\\aleksandr.volkov\\appdata\\local\\programs\\python\\python39\\lib\\site-packages (from mypy) (4.1.1)\n"
     ]
    }
   ],
   "source": [
    "!pip install mypy"
   ]
  },
  {
   "cell_type": "code",
   "execution_count": 59,
   "id": "trying-ancient",
   "metadata": {},
   "outputs": [],
   "source": [
    "def check_last():\n",
    "    with open('temp.txt', 'w') as fout:\n",
    "        fout.write(In[len(In)-2])\n",
    "    !mypy temp.txt"
   ]
  },
  {
   "cell_type": "code",
   "execution_count": 33,
   "id": "logical-channel",
   "metadata": {},
   "outputs": [
    {
     "data": {
      "text/plain": [
       "6.25"
      ]
     },
     "execution_count": 33,
     "metadata": {},
     "output_type": "execute_result"
    }
   ],
   "source": [
    "def func(n: int = 10) -> int:\n",
    "    return n ** 2\n",
    "\n",
    "func(2.5)"
   ]
  },
  {
   "cell_type": "code",
   "execution_count": 34,
   "id": "developing-finnish",
   "metadata": {},
   "outputs": [
    {
     "name": "stdout",
     "output_type": "stream",
     "text": [
      "temp.txt:4: error: Argument 1 to \"func\" has incompatible type \"float\"; expected \"int\"\n",
      "Found 1 error in 1 file (checked 1 source file)\n"
     ]
    }
   ],
   "source": [
    "check_last()"
   ]
  },
  {
   "cell_type": "code",
   "execution_count": 46,
   "id": "brazilian-drive",
   "metadata": {},
   "outputs": [],
   "source": [
    "from typing import Union, List, Set"
   ]
  },
  {
   "cell_type": "code",
   "execution_count": 53,
   "id": "basic-characterization",
   "metadata": {},
   "outputs": [
    {
     "name": "stdout",
     "output_type": "stream",
     "text": [
      "temp.txt:1: error: Name \"Union\" is not defined\n",
      "temp.txt:1: note: Did you forget to import it from \"typing\"? (Suggestion: \"from typing import Union\")\n",
      "temp.txt:1: error: Name \"List\" is not defined\n",
      "temp.txt:1: note: Did you forget to import it from \"typing\"? (Suggestion: \"from typing import List\")\n",
      "temp.txt:1: error: Name \"Set\" is not defined\n",
      "temp.txt:1: note: Did you forget to import it from \"typing\"? (Suggestion: \"from typing import Set\")\n",
      "temp.txt:8: error: Name \"check_last\" is not defined\n",
      "Found 4 errors in 1 file (checked 1 source file)\n"
     ]
    }
   ],
   "source": [
    "from typing import Union, List, Set\n",
    "def func(x: Union[List[int], Set[int]]) -> None:\n",
    "    pass\n",
    "\n",
    "func([1, 2, 3])\n",
    "func({1, 2, 3})\n",
    "func({'s', 't', 'r'})\n",
    "\n",
    "check_last()"
   ]
  },
  {
   "cell_type": "code",
   "execution_count": 48,
   "id": "italian-convergence",
   "metadata": {},
   "outputs": [],
   "source": [
    "func([1, 2, 3])\n",
    "func({1, 2, 3})\n",
    "func({'s', 't', 'r'})"
   ]
  },
  {
   "cell_type": "code",
   "execution_count": 54,
   "id": "solved-drive",
   "metadata": {},
   "outputs": [],
   "source": [
    "from typing import Any"
   ]
  },
  {
   "cell_type": "code",
   "execution_count": 56,
   "id": "comparable-gravity",
   "metadata": {},
   "outputs": [],
   "source": [
    "def func_any(x: Any) -> None: pass\n",
    "\n",
    "func_any(None)"
   ]
  },
  {
   "cell_type": "code",
   "execution_count": 60,
   "id": "accurate-caribbean",
   "metadata": {},
   "outputs": [
    {
     "name": "stdout",
     "output_type": "stream",
     "text": [
      "Success: no issues found in 1 source file\n"
     ]
    }
   ],
   "source": [
    "check_last()"
   ]
  },
  {
   "cell_type": "markdown",
   "id": "rotary-touch",
   "metadata": {},
   "source": [
    "## Pydantic"
   ]
  },
  {
   "cell_type": "code",
   "execution_count": 61,
   "id": "posted-conspiracy",
   "metadata": {},
   "outputs": [
    {
     "name": "stdout",
     "output_type": "stream",
     "text": [
      "Requirement already satisfied: pydantic in c:\\users\\aleksandr.volkov\\appdata\\local\\programs\\python\\python39\\lib\\site-packages (1.8.2)\n",
      "Requirement already satisfied: typing-extensions>=3.7.4.3 in c:\\users\\aleksandr.volkov\\appdata\\local\\programs\\python\\python39\\lib\\site-packages (from pydantic) (4.1.1)\n"
     ]
    },
    {
     "name": "stderr",
     "output_type": "stream",
     "text": [
      "WARNING: You are using pip version 21.3.1; however, version 22.0.4 is available.\n",
      "You should consider upgrading via the 'c:\\users\\aleksandr.volkov\\appdata\\local\\programs\\python\\python39\\python.exe -m pip install --upgrade pip' command.\n"
     ]
    }
   ],
   "source": [
    "!pip install pydantic"
   ]
  },
  {
   "cell_type": "code",
   "execution_count": 62,
   "id": "greatest-indication",
   "metadata": {},
   "outputs": [],
   "source": [
    "from typing import Optional, List\n",
    "from pydantic import BaseModel"
   ]
  },
  {
   "cell_type": "code",
   "execution_count": 63,
   "id": "superb-tradition",
   "metadata": {},
   "outputs": [],
   "source": [
    "class Data(BaseModel):\n",
    "    int_field: int\n",
    "    str_field: str\n",
    "    list_field: Optional[List[int]]"
   ]
  },
  {
   "cell_type": "code",
   "execution_count": 64,
   "id": "handmade-unemployment",
   "metadata": {},
   "outputs": [
    {
     "data": {
      "text/plain": [
       "Data(int_field=10, str_field='str', list_field=None)"
      ]
     },
     "execution_count": 64,
     "metadata": {},
     "output_type": "execute_result"
    }
   ],
   "source": [
    "Data(**{'int_field': 10, 'str_field': 'str'})"
   ]
  },
  {
   "cell_type": "code",
   "execution_count": 65,
   "id": "regional-reply",
   "metadata": {},
   "outputs": [
    {
     "ename": "ValidationError",
     "evalue": "1 validation error for Data\nint_field\n  value is not a valid integer (type=type_error.integer)",
     "output_type": "error",
     "traceback": [
      "\u001b[1;31m---------------------------------------------------------------------------\u001b[0m",
      "\u001b[1;31mValidationError\u001b[0m                           Traceback (most recent call last)",
      "\u001b[1;32m<ipython-input-65-bea2e9b6d502>\u001b[0m in \u001b[0;36m<module>\u001b[1;34m\u001b[0m\n\u001b[1;32m----> 1\u001b[1;33m \u001b[0mData\u001b[0m\u001b[1;33m(\u001b[0m\u001b[1;33m**\u001b[0m\u001b[1;33m{\u001b[0m\u001b[1;34m'int_field'\u001b[0m\u001b[1;33m:\u001b[0m \u001b[1;34m'str'\u001b[0m\u001b[1;33m,\u001b[0m \u001b[1;34m'str_field'\u001b[0m\u001b[1;33m:\u001b[0m \u001b[1;34m'str'\u001b[0m\u001b[1;33m}\u001b[0m\u001b[1;33m)\u001b[0m\u001b[1;33m\u001b[0m\u001b[1;33m\u001b[0m\u001b[0m\n\u001b[0m",
      "\u001b[1;32mc:\\users\\aleksandr.volkov\\appdata\\local\\programs\\python\\python39\\lib\\site-packages\\pydantic\\main.cp39-win_amd64.pyd\u001b[0m in \u001b[0;36mpydantic.main.BaseModel.__init__\u001b[1;34m()\u001b[0m\n",
      "\u001b[1;31mValidationError\u001b[0m: 1 validation error for Data\nint_field\n  value is not a valid integer (type=type_error.integer)"
     ]
    }
   ],
   "source": [
    "Data(**{'int_field': 'str', 'str_field': 'str'})"
   ]
  },
  {
   "cell_type": "code",
   "execution_count": 66,
   "id": "detailed-lesson",
   "metadata": {},
   "outputs": [
    {
     "data": {
      "text/plain": [
       "Data(int_field=10, str_field='str', list_field=None)"
      ]
     },
     "execution_count": 66,
     "metadata": {},
     "output_type": "execute_result"
    }
   ],
   "source": [
    "Data(**{'int_field': '10', 'str_field': 'str'})"
   ]
  },
  {
   "cell_type": "markdown",
   "id": "noticed-omaha",
   "metadata": {},
   "source": [
    "### Вложенные pydantic-классы"
   ]
  },
  {
   "cell_type": "code",
   "execution_count": 67,
   "id": "typical-japan",
   "metadata": {},
   "outputs": [],
   "source": [
    "class Foo(BaseModel):\n",
    "    count: int\n",
    "    size: float = None\n",
    "\n",
    "class Bar(BaseModel):\n",
    "    apple = 'apple'\n",
    "    banana = 'banana'\n",
    "    \n",
    "class Spam(BaseModel):\n",
    "    foo: Foo\n",
    "    bars: List[Bar]"
   ]
  },
  {
   "cell_type": "code",
   "execution_count": 68,
   "id": "material-anderson",
   "metadata": {},
   "outputs": [],
   "source": [
    "m = Spam(foo={'count': 4}, bars=[{'apple': 'x1'}, {'apple': 'x2'}])"
   ]
  },
  {
   "cell_type": "code",
   "execution_count": 69,
   "id": "excited-minister",
   "metadata": {},
   "outputs": [
    {
     "name": "stdout",
     "output_type": "stream",
     "text": [
      "foo=Foo(count=4, size=None) bars=[Bar(apple='x1', banana='banana'), Bar(apple='x2', banana='banana')]\n"
     ]
    }
   ],
   "source": [
    "print(m)"
   ]
  },
  {
   "cell_type": "code",
   "execution_count": 70,
   "id": "advance-costume",
   "metadata": {},
   "outputs": [],
   "source": [
    "from pydantic import Field\n",
    "\n",
    "class Data(BaseModel):\n",
    "    int_field: int\n",
    "    str_field: str = Field(min_length=2, max_length=5)"
   ]
  },
  {
   "cell_type": "code",
   "execution_count": 73,
   "id": "governing-custom",
   "metadata": {},
   "outputs": [
    {
     "data": {
      "text/plain": [
       "Data(int_field=200, str_field='232')"
      ]
     },
     "execution_count": 73,
     "metadata": {},
     "output_type": "execute_result"
    }
   ],
   "source": [
    "Data(int_field=200, str_field='232')"
   ]
  },
  {
   "cell_type": "code",
   "execution_count": null,
   "id": "authentic-football",
   "metadata": {},
   "outputs": [],
   "source": []
  }
 ],
 "metadata": {
  "kernelspec": {
   "display_name": "Python 3",
   "language": "python",
   "name": "python3"
  },
  "language_info": {
   "codemirror_mode": {
    "name": "ipython",
    "version": 3
   },
   "file_extension": ".py",
   "mimetype": "text/x-python",
   "name": "python",
   "nbconvert_exporter": "python",
   "pygments_lexer": "ipython3",
   "version": "3.9.2"
  }
 },
 "nbformat": 4,
 "nbformat_minor": 5
}
