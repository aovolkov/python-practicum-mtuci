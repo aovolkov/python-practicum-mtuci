{
 "cells": [
  {
   "cell_type": "markdown",
   "metadata": {},
   "source": [
    "## Семинар 5. Алгоритмы. Соритировки\n",
    "![alt text](../seminar4/seminar4_OOP/Python-logo-notext.svg)"
   ]
  },
  {
   "cell_type": "markdown",
   "metadata": {},
   "source": [
    "O(количество операций) - асимптотическая сложность то есть оценка сверху на число операций, которое нужно совершить, чтобы функция выполнилась.\n",
    "Подробнее можно посмотреть [здесь](https://habr.com/ru/post/78728/)."
   ]
  },
  {
   "cell_type": "markdown",
   "metadata": {},
   "source": [
    "### Сортировка пузырьком\n",
    "\n",
    "Краткое примечание о сортировке пузырьком:\n",
    "[«Sorting in the Presence of Branch Prediction\n",
    "and Caches»](https://www.scss.tcd.ie/publications/tech-reports/reports.05/TCD-CS-2005-57.pdf) - подробно описаны и проанализированы элементарные алгоритмы сортировки (см. главу 4).\n",
    "\n",
    "\n",
    "«Наихудшая» сложность алгоритма сортировки пузырьком ⇒ $O(n^2)$"
   ]
  },
  {
   "cell_type": "markdown",
   "metadata": {},
   "source": [
    "### Сортировка выбором"
   ]
  },
  {
   "cell_type": "markdown",
   "metadata": {},
   "source": [
    "Сортировка выбором — один из самых простых и, вероятно, наиболее классических алгоритмов сортировки. Он сортирует массив *inplace* со сложностью $O(n^2)$, поскольку заданный список из *n* элементов сортируется *n* раз. Технически каждый элемент проверяется только *n* раз в первой итерации. Затем вторая итерация проверяет оставшиеся *n-1* элементов, третья итерация — оставшиеся *n-2* элементов и так далее. Таким образом, количество проверок, которые необходимо выполнить, равно $n\\times 1/2 \\times n$. Однако в нотации **Big O** мы опускаем константы; поэтому мы пишем $O(n^2)$ вместо $O(n\\times 1/2 \\times n)$.\n",
    "\n",
    "Процедура следующая:\n",
    "![alt text](seminar5/sorting_select.png)"
   ]
  },
  {
   "cell_type": "markdown",
   "metadata": {},
   "source": [
    "![](./images/selection-sort-1.png)"
   ]
  },
  {
   "cell_type": "code",
   "execution_count": 6,
   "metadata": {},
   "outputs": [
    {
     "name": "stdout",
     "output_type": "stream",
     "text": [
      "[8] -> [8]\n",
      "[9, 8] -> [8, 9]\n",
      "[8, 9, 1] -> [1, 8, 9]\n"
     ]
    }
   ],
   "source": [
    "def selection_sort(array):\n",
    "    for i in range(len(array)-1):\n",
    "        min_elemnt_idx = i+1\n",
    "        for j in range(i+2, len(array)):\n",
    "            if array[j] < array[min_elemnt_idx]:\n",
    "                min_elemnt_idx = j\n",
    "        if array[min_elemnt_idx] < array[i]:\n",
    "            array[min_elemnt_idx], array[i] = array[i], array[min_elemnt_idx]\n",
    "    return array\n",
    "  \n",
    "print('[8] ->', selection_sort([8]))\n",
    "print('[9, 8] ->', selection_sort([9, 8]))\n",
    "print('[8, 9, 1] ->', selection_sort([8, 9, 1]))"
   ]
  },
  {
   "cell_type": "code",
   "execution_count": 8,
   "metadata": {},
   "outputs": [],
   "source": [
    "import random\n",
    "\n",
    "test_ary = random.sample(range(-1000, 1000), 2000)\n",
    "test_ary_sorted = selection_sort(test_ary)\n",
    "\n",
    "assert test_ary == test_ary_sorted"
   ]
  },
  {
   "cell_type": "markdown",
   "metadata": {},
   "source": [
    "###  Быстрая сортировка\n",
    "\n",
    "Быстрая сортировка - один из самых быстрых алгоритмов сортировки с временной сложностью **O(n\\*log n)** в среднем. Быстрая сортировка также является типичным примером алгоритма \"Разделяй и властвуй\", который может быть реализован с использованием рекурсии. Быстрая сортировка работает следующим образом:\n",
    "\n",
    "1. Во-первых, мы определяем базовый вариант. Здесь наш базовый вариант представляет собой массив из одного или нуля элементов. Другими словами, если данный массив достиг размера < 2, мы возвращаем его. В обратном случае мы выбираем произвольное значение и назначаем его в качестве так называемого основного. Затем мы смотрим на все оставшиеся элементы в массиве и делим их на 2 новых массива:\n",
    "\n",
    "- массив со значениями, меньшими или равными основному\n",
    "- массив со значениями, превышающими основное\n",
    "\n",
    "2. Затем, рекурсивным способом, мы применяем алгоритм быстрой сортировки к этим 2 подмассивам. Эта процедура повторяется до тех пор, пока не попадет в базовый регистр, так что функция вернет отсортированный массив из стека вызовов.\n",
    "\n",
    "Ниже приведем простую реализацию на Python:"
   ]
  },
  {
   "cell_type": "code",
   "execution_count": 9,
   "metadata": {},
   "outputs": [],
   "source": [
    "import numpy as np "
   ]
  },
  {
   "cell_type": "code",
   "execution_count": 10,
   "metadata": {},
   "outputs": [],
   "source": [
    "def quicksort(array):\n",
    "    \n",
    "    if len(array) < 2:\n",
    "        return array\n",
    "    else:\n",
    "        main_elem_idx = np.random.choice(len(array))\n",
    "        main_elem = array[main_elem_idx]\n",
    "        del array[main_elem_idx]\n",
    "        smaller, bigger = [], []\n",
    "        for elem in array:\n",
    "            if elem <= main_elem:\n",
    "                smaller.append(elem)\n",
    "            else:\n",
    "                bigger.append(elem)\n",
    "        return quicksort(smaller) + [main_elem] + quicksort(bigger)"
   ]
  },
  {
   "cell_type": "code",
   "execution_count": 11,
   "metadata": {},
   "outputs": [
    {
     "data": {
      "text/plain": [
       "[]"
      ]
     },
     "execution_count": 11,
     "metadata": {},
     "output_type": "execute_result"
    }
   ],
   "source": [
    "quicksort([])"
   ]
  },
  {
   "cell_type": "code",
   "execution_count": 12,
   "metadata": {},
   "outputs": [
    {
     "data": {
      "text/plain": [
       "[2, 3]"
      ]
     },
     "execution_count": 12,
     "metadata": {},
     "output_type": "execute_result"
    }
   ],
   "source": [
    "quicksort([2, 3])"
   ]
  },
  {
   "cell_type": "code",
   "execution_count": 13,
   "metadata": {},
   "outputs": [
    {
     "data": {
      "text/plain": [
       "[1, 4, 5, 12]"
      ]
     },
     "execution_count": 13,
     "metadata": {},
     "output_type": "execute_result"
    }
   ],
   "source": [
    "quicksort([12, 5, 1, 4])"
   ]
  },
  {
   "cell_type": "markdown",
   "metadata": {},
   "source": [
    "### OSPF\n",
    "\n",
    "Принцип работы заключается в следующем:\n",
    "\n",
    "1. После включения маршрутизаторов протокол ищет непосредственно подключенных соседей и устанавливает с ними «дружеские» отношения.\n",
    "2. Затем они обмениваются друг с другом информацией о подключенных и доступных им сетях. То есть они строят карту сети (топологию сети). Данная карта одинакова на всех маршрутизаторах.\n",
    "3. На основе полученной информации запускается алгоритм SPF (Shortest Path First, «выбор наилучшего пути»), который рассчитывает оптимальный маршрут к каждой сети. Данный процесс похож на построение дерева, корнем которого является сам маршрутизатор, а ветвями — пути к доступным сетям. Данный процесс, то есть конвергенция, происходит очень быстро.\n",
    "![alt text](seminar5/Demo-Role-DR.gif)"
   ]
  },
  {
   "cell_type": "markdown",
   "metadata": {},
   "source": [
    "В основе OSPF используюет для нахождения кратчайшего пути алгоритм Дейкстры."
   ]
  },
  {
   "cell_type": "markdown",
   "metadata": {},
   "source": [
    "Алгоритм Дейкстры — это алгоритм, который находит кратчайший путь в ориентированном или неориентированном графе. В отличие от поиска в ширину, алгоритм Дейкстры работает со взвешенными графами, то есть с графами, ребрам которых присвоены разные значения стоимости или длины. Однако обратите внимание, что алгоритм Дейкстры не работает, если граф содержит отрицательные веса (в этом случае нужно использовать другие алгоритмы, например, алгоритм Беллмана-Форда).\n",
    "\n",
    "В Википедии написано отличное и лаконичное объяснение алгоритма Дейкстры:\n",
    "\n",
    " Пусть узел, с которого мы начинаем, называется начальным узлом. Пусть расстояние узла Y будет расстоянием от начального узла до Y. Алгоритм Дейкстры назначит некоторые начальные значения расстояния и попытается улучшить их шаг за шагом.\n",
    "\n",
    "1. Назначьте каждому узлу предварительное значение расстояния: установите его равным нулю для нашего начального узла и бесконечностью для всех остальных узлов.\n",
    "2. Установите начальный узел как текущий. Отметьте все остальные узлы как непосещенные. Создайте набор всех непосещенных узлов, называемый непосещенным набором.\n",
    "3. Для текущего узла рассмотрите всех его соседей и вычислите их ориентировочные расстояния. Сравните вновь рассчитанное ориентировочное расстояние с текущим заданным значением и назначьте меньшее из них. Например, если текущий узел А отмечен расстоянием 6, а ребро, соединяющее его с соседом В, имеет длину 2, то расстояние до В (через А) будет равно 6 + 2 = 8. Если В ранее был отмечены расстоянием больше 8, затем измените его на 8. В противном случае сохраните текущее значение.\n",
    "4. Когда мы закончим рассмотрение всех соседей текущего узла, отметим текущий узел как посещенный и удалим его из набора непосещенных. Посещенный узел больше никогда не будет проверяться.\n",
    "5. Если узел назначения помечен как посещенный (при планировании маршрута между двумя конкретными узлами) или если наименьшее ориентировочное расстояние между узлами в непосещенном множестве равно бесконечности (при планировании полного обхода; происходит при отсутствии связи между начальным узлом и оставшиеся непосещенные узлы), затем остановитесь. Алгоритм завершен.\n",
    "6. В противном случае выберите непосещенный узел, отмеченный наименьшим предварительным расстоянием, установите его как новый «текущий узел» и вернитесь к шагу 3.\n",
    "[Источник: Википедия, https://en.wikipedia.org/wiki/Dijkstra%27s_algorithm]\n",
    "\n",
    "![alt text](seminar5/Dijkstra_Animation.gif)"
   ]
  },
  {
   "cell_type": "code",
   "execution_count": 15,
   "metadata": {},
   "outputs": [],
   "source": [
    "graph = {'A': {'B': 14, 'C': 9, 'D': 7},\n",
    "         'B': {'A': 14, 'C': 2, 'F': 9},\n",
    "         'C': {'A':  9, 'B': 2, 'D': 7, 'E': 11},\n",
    "         'D': {'A':  7, 'C':10, 'E':15},\n",
    "         'E': {'C': 11, 'D':15, 'F': 6},\n",
    "         'F': {'B':  9, 'E': 6}\n",
    "        }"
   ]
  },
  {
   "cell_type": "code",
   "execution_count": 17,
   "metadata": {},
   "outputs": [
    {
     "data": {
      "text/plain": [
       "True"
      ]
     },
     "execution_count": 17,
     "metadata": {},
     "output_type": "execute_result"
    }
   ],
   "source": [
    "graph['C']['A'] == graph['A']['C']"
   ]
  },
  {
   "cell_type": "code",
   "execution_count": 20,
   "metadata": {},
   "outputs": [
    {
     "data": {
      "text/plain": [
       "inf"
      ]
     },
     "execution_count": 20,
     "metadata": {},
     "output_type": "execute_result"
    }
   ],
   "source": [
    "float('inf')"
   ]
  },
  {
   "cell_type": "code",
   "execution_count": 29,
   "metadata": {},
   "outputs": [],
   "source": [
    "def dijkstra(graph: dict,\n",
    "             start_node: str,\n",
    "             destination_node: str):\n",
    "    \n",
    "    # инициализируем все расстояния от стартового узла до всех остальных\n",
    "    costs = {node: float('inf') for node in graph.keys()}\n",
    "    costs[start_node] = 0\n",
    "    parent_nodes = {}\n",
    "    \n",
    "    for neighbor in graph[start_node].keys():\n",
    "        costs[neighbor] = graph[start_node][neighbor]\n",
    "        parent_nodes[neighbor] = start_node\n",
    "    \n",
    "    nodes_checked = set()\n",
    "    \n",
    "    while not len(nodes_checked) == len(graph.keys()):\n",
    "        \n",
    "        min_cost, min_cost_node = float('inf'), None\n",
    "        \n",
    "        for node in costs:\n",
    "            curr_cost = costs[node]\n",
    "            if curr_cost < min_cost and node not in nodes  _checked:\n",
    "                min_cost, min_cost_node = curr_cost, node\n",
    "        \n",
    "        for neighbor in graph[min_cost_node].keys():\n",
    "            new_cost = min_cost + graph[min_cost_node][neighbor]\n",
    "            if new_cost < costs[neighbor]:\n",
    "                costs[neighbor] = new_cost\n",
    "                parent_nodes[neighbor] = min_cost_node\n",
    "            if neighbor == destination_node:\n",
    "                break\n",
    "        \n",
    "        if neighbor == destination_node:\n",
    "            break\n",
    "        \n",
    "        nodes_checked.add(min_cost_node)\n",
    "    \n",
    "    return costs, parent_nodes "
   ]
  },
  {
   "cell_type": "code",
   "execution_count": 30,
   "metadata": {},
   "outputs": [
    {
     "name": "stdout",
     "output_type": "stream",
     "text": [
      "{'A': 0, 'B': 14, 'C': 9, 'D': 7, 'E': inf, 'F': inf}\n"
     ]
    }
   ],
   "source": [
    "costs, parent_nodes = dijkstra(graph, start_node='A', destination_node='F')"
   ]
  },
  {
   "cell_type": "code",
   "execution_count": 27,
   "metadata": {},
   "outputs": [
    {
     "data": {
      "text/plain": [
       "{'A': 0, 'B': 11, 'C': 9, 'D': 7, 'E': 20, 'F': 20}"
      ]
     },
     "execution_count": 27,
     "metadata": {},
     "output_type": "execute_result"
    }
   ],
   "source": [
    "costs"
   ]
  },
  {
   "cell_type": "code",
   "execution_count": 28,
   "metadata": {},
   "outputs": [
    {
     "data": {
      "text/plain": [
       "{'B': 'C', 'C': 'A', 'D': 'A', 'E': 'C', 'F': 'B'}"
      ]
     },
     "execution_count": 28,
     "metadata": {},
     "output_type": "execute_result"
    }
   ],
   "source": [
    "parent_nodes"
   ]
  },
  {
   "cell_type": "code",
   "execution_count": null,
   "metadata": {},
   "outputs": [],
   "source": []
  }
 ],
 "metadata": {
  "kernelspec": {
   "display_name": "Python 3",
   "language": "python",
   "name": "python3"
  },
  "language_info": {
   "codemirror_mode": {
    "name": "ipython",
    "version": 3
   },
   "file_extension": ".py",
   "mimetype": "text/x-python",
   "name": "python",
   "nbconvert_exporter": "python",
   "pygments_lexer": "ipython3",
   "version": "3.9.2"
  }
 },
 "nbformat": 4,
 "nbformat_minor": 1
}
